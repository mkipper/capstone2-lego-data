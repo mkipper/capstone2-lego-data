{
 "cells": [
  {
   "cell_type": "code",
   "execution_count": 1,
   "id": "e0a28712",
   "metadata": {},
   "outputs": [],
   "source": [
    "import pandas as pd\n",
    "import numpy as np\n",
    "import seaborn as sns\n",
    "from sklearn.linear_model import LogisticRegression\n",
    "from sklearn.model_selection import train_test_split\n",
    "from sklearn import metrics\n",
    "from tqdm import tqdm\n",
    "from sklearn.metrics import confusion_matrix\n",
    "from sklearn.metrics import precision_score, recall_score, f1_score, accuracy_score\n",
    "import matplotlib.pyplot as plt\n",
    "from sklearn.ensemble import RandomForestClassifier\n",
    "from xgboost import XGBClassifier\n",
    "from sklearn.model_selection import GridSearchCV\n",
    "from sklearn.model_selection import StratifiedKFold\n",
    "from sklearn.preprocessing import LabelEncoder\n",
    "from collections import Counter"
   ]
  },
  {
   "cell_type": "code",
   "execution_count": 2,
   "id": "1bf69c6a",
   "metadata": {},
   "outputs": [],
   "source": [
    "#!pip install xgboost"
   ]
  },
  {
   "cell_type": "code",
   "execution_count": 3,
   "id": "3ef5b1ce",
   "metadata": {},
   "outputs": [],
   "source": [
    "pd.options.display.max_columns=1000\n",
    "sns.set_theme()"
   ]
  },
  {
   "cell_type": "code",
   "execution_count": 4,
   "id": "de847961",
   "metadata": {},
   "outputs": [],
   "source": [
    "df = pd.read_csv('C:/Users/marki/Desktop/SB Data Science BC/Springboard/Capstone2/data from notebooks/df.csv')"
   ]
  },
  {
   "cell_type": "code",
   "execution_count": 5,
   "id": "d05ec95b",
   "metadata": {},
   "outputs": [
    {
     "data": {
      "text/html": [
       "<div>\n",
       "<style scoped>\n",
       "    .dataframe tbody tr th:only-of-type {\n",
       "        vertical-align: middle;\n",
       "    }\n",
       "\n",
       "    .dataframe tbody tr th {\n",
       "        vertical-align: top;\n",
       "    }\n",
       "\n",
       "    .dataframe thead th {\n",
       "        text-align: right;\n",
       "    }\n",
       "</style>\n",
       "<table border=\"1\" class=\"dataframe\">\n",
       "  <thead>\n",
       "    <tr style=\"text-align: right;\">\n",
       "      <th></th>\n",
       "      <th>set_num</th>\n",
       "      <th>set_name</th>\n",
       "      <th>year</th>\n",
       "      <th>theme_id</th>\n",
       "      <th>num_parts</th>\n",
       "      <th>set_num_len</th>\n",
       "      <th>set_name_len</th>\n",
       "      <th>theme_name</th>\n",
       "      <th>id</th>\n",
       "      <th>part_num</th>\n",
       "      <th>color_id</th>\n",
       "      <th>quantity</th>\n",
       "      <th>color_name</th>\n",
       "      <th>part_name</th>\n",
       "      <th>is_trans</th>\n",
       "      <th>theme_name_len</th>\n",
       "      <th>part_num_len</th>\n",
       "      <th>color_name_len</th>\n",
       "      <th>part_name_len</th>\n",
       "      <th>is_ninjago</th>\n",
       "    </tr>\n",
       "  </thead>\n",
       "  <tbody>\n",
       "    <tr>\n",
       "      <th>0</th>\n",
       "      <td>001-1</td>\n",
       "      <td>Gears</td>\n",
       "      <td>1965</td>\n",
       "      <td>1</td>\n",
       "      <td>43</td>\n",
       "      <td>5</td>\n",
       "      <td>5</td>\n",
       "      <td>Technic</td>\n",
       "      <td>24696</td>\n",
       "      <td>132a</td>\n",
       "      <td>7</td>\n",
       "      <td>4</td>\n",
       "      <td>Light Gray</td>\n",
       "      <td>Tyre Smooth Old Style - Small</td>\n",
       "      <td>0</td>\n",
       "      <td>7</td>\n",
       "      <td>4</td>\n",
       "      <td>10</td>\n",
       "      <td>29</td>\n",
       "      <td>0</td>\n",
       "    </tr>\n",
       "  </tbody>\n",
       "</table>\n",
       "</div>"
      ],
      "text/plain": [
       "  set_num set_name  year  theme_id  num_parts  set_num_len  set_name_len  \\\n",
       "0   001-1    Gears  1965         1         43            5             5   \n",
       "\n",
       "  theme_name     id part_num  color_id  quantity  color_name  \\\n",
       "0    Technic  24696     132a         7         4  Light Gray   \n",
       "\n",
       "                       part_name  is_trans  theme_name_len  part_num_len  \\\n",
       "0  Tyre Smooth Old Style - Small         0               7             4   \n",
       "\n",
       "   color_name_len  part_name_len  is_ninjago  \n",
       "0              10             29           0  "
      ]
     },
     "execution_count": 5,
     "metadata": {},
     "output_type": "execute_result"
    }
   ],
   "source": [
    "df.head(1)"
   ]
  },
  {
   "cell_type": "code",
   "execution_count": 6,
   "id": "5bbbb073",
   "metadata": {},
   "outputs": [
    {
     "data": {
      "text/plain": [
       "(919288, 20)"
      ]
     },
     "execution_count": 6,
     "metadata": {},
     "output_type": "execute_result"
    }
   ],
   "source": [
    "df.shape"
   ]
  },
  {
   "cell_type": "code",
   "execution_count": 7,
   "id": "dc3d8087",
   "metadata": {},
   "outputs": [
    {
     "data": {
      "text/plain": [
       "Index(['set_num', 'set_name', 'year', 'theme_id', 'num_parts', 'set_num_len',\n",
       "       'set_name_len', 'theme_name', 'id', 'part_num', 'color_id', 'quantity',\n",
       "       'color_name', 'part_name', 'is_trans', 'theme_name_len', 'part_num_len',\n",
       "       'color_name_len', 'part_name_len', 'is_ninjago'],\n",
       "      dtype='object')"
      ]
     },
     "execution_count": 7,
     "metadata": {},
     "output_type": "execute_result"
    }
   ],
   "source": [
    "df.columns"
   ]
  },
  {
   "cell_type": "code",
   "execution_count": 8,
   "id": "ec84082a",
   "metadata": {},
   "outputs": [
    {
     "data": {
      "text/plain": [
       "['set_num',\n",
       " 'set_name',\n",
       " 'theme_id',\n",
       " 'num_parts',\n",
       " 'set_num_len',\n",
       " 'set_name_len',\n",
       " 'theme_name',\n",
       " 'id',\n",
       " 'part_num',\n",
       " 'color_name',\n",
       " 'part_name',\n",
       " 'theme_name_len',\n",
       " 'is_ninjago']"
      ]
     },
     "execution_count": 8,
     "metadata": {},
     "output_type": "execute_result"
    }
   ],
   "source": [
    "target_names = 'set_num set_name theme_id num_parts set_num_len set_name_len theme_name id part_num color_name part_name theme_name_len is_ninjago'.split()\n",
    "target_names"
   ]
  },
  {
   "cell_type": "code",
   "execution_count": 9,
   "id": "4d6f84f3",
   "metadata": {},
   "outputs": [],
   "source": [
    "fn = list()\n",
    "\n",
    "for i, name in enumerate(df.columns):\n",
    "    if i > 100:\n",
    "        break\n",
    "    if name in target_names:\n",
    "        continue\n",
    "    fn.append(name)"
   ]
  },
  {
   "cell_type": "code",
   "execution_count": 10,
   "id": "9f419272",
   "metadata": {},
   "outputs": [
    {
     "data": {
      "text/plain": [
       "['year',\n",
       " 'color_id',\n",
       " 'quantity',\n",
       " 'is_trans',\n",
       " 'part_num_len',\n",
       " 'color_name_len',\n",
       " 'part_name_len']"
      ]
     },
     "execution_count": 10,
     "metadata": {},
     "output_type": "execute_result"
    }
   ],
   "source": [
    "fn"
   ]
  },
  {
   "cell_type": "code",
   "execution_count": 11,
   "id": "3fd99a6d",
   "metadata": {},
   "outputs": [],
   "source": [
    "X = df[fn]\n",
    "y = df['is_ninjago']"
   ]
  },
  {
   "cell_type": "code",
   "execution_count": 12,
   "id": "fb539b51",
   "metadata": {},
   "outputs": [
    {
     "data": {
      "text/plain": [
       "Index(['year', 'color_id', 'quantity', 'is_trans', 'part_num_len',\n",
       "       'color_name_len', 'part_name_len'],\n",
       "      dtype='object')"
      ]
     },
     "execution_count": 12,
     "metadata": {},
     "output_type": "execute_result"
    }
   ],
   "source": [
    "X.columns"
   ]
  },
  {
   "cell_type": "code",
   "execution_count": 13,
   "id": "a4cf3969",
   "metadata": {},
   "outputs": [],
   "source": [
    "X_train, X_test, y_train, y_test = train_test_split(X, y, test_size= 0.1, random_state=1)"
   ]
  },
  {
   "cell_type": "code",
   "execution_count": 14,
   "id": "20508183",
   "metadata": {
    "scrolled": true
   },
   "outputs": [
    {
     "name": "stderr",
     "output_type": "stream",
     "text": [
      "10it [00:57,  5.72s/it]                                                                                                \n"
     ]
    }
   ],
   "source": [
    "hyper_table_C_test = list()\n",
    "fn = list()\n",
    "\n",
    "for i, name in enumerate(X.columns):\n",
    "    if i > 100:\n",
    "        break\n",
    "    if name in target_names:\n",
    "        continue\n",
    "    fn.append(name)\n",
    "    \n",
    "for c in tqdm(np.arange(-5, 5), total=len(df[fn].columns)):\n",
    "    model = LogisticRegression(C=10.0**c, random_state=1, class_weight='balanced')\n",
    "    model.fit(X_train[fn], y_train)\n",
    "    s_train = model.score(X_train[fn], y_train)\n",
    "    s_test = model.score(X_test[fn], y_test)\n",
    "    y_pred = model.predict(X_test[fn])\n",
    "\n",
    "    #conf_matrix = confusion_matrix(y_true=y_test, y_pred=y_pred)\n",
    "\n",
    "    precision = precision_score(y_test, y_pred)\n",
    "    recall = recall_score(y_test, y_pred)\n",
    "    accuracy = accuracy_score(y_test, y_pred)\n",
    "    f1 = f1_score(y_test, y_pred)\n",
    "\n",
    "    hyper_table_C_test.append(dict(C=model.C,\n",
    "                                train_score=s_train, \n",
    "                                test_score=s_test,\n",
    "                                precision=precision,\n",
    "                                recall=recall,\n",
    "                                accuracy=accuracy,\n",
    "                                f1_score=f1,\n",
    "                                model=model, \n",
    "                                num_features=df[fn].shape[1], \n",
    "                                num_rows_train=X_train.shape[0],\n",
    "                                num_rows_test=X_test.shape[0],\n",
    "                                last_feature=fn[-1]))"
   ]
  },
  {
   "cell_type": "code",
   "execution_count": 15,
   "id": "dfe47b61",
   "metadata": {},
   "outputs": [
    {
     "data": {
      "text/html": [
       "<div>\n",
       "<style scoped>\n",
       "    .dataframe tbody tr th:only-of-type {\n",
       "        vertical-align: middle;\n",
       "    }\n",
       "\n",
       "    .dataframe tbody tr th {\n",
       "        vertical-align: top;\n",
       "    }\n",
       "\n",
       "    .dataframe thead th {\n",
       "        text-align: right;\n",
       "    }\n",
       "</style>\n",
       "<table border=\"1\" class=\"dataframe\">\n",
       "  <thead>\n",
       "    <tr style=\"text-align: right;\">\n",
       "      <th></th>\n",
       "      <th>C</th>\n",
       "      <th>train_score</th>\n",
       "      <th>test_score</th>\n",
       "      <th>precision</th>\n",
       "      <th>recall</th>\n",
       "      <th>accuracy</th>\n",
       "      <th>f1_score</th>\n",
       "      <th>model</th>\n",
       "      <th>num_features</th>\n",
       "      <th>num_rows_train</th>\n",
       "      <th>num_rows_test</th>\n",
       "      <th>last_feature</th>\n",
       "    </tr>\n",
       "  </thead>\n",
       "  <tbody>\n",
       "    <tr>\n",
       "      <th>0</th>\n",
       "      <td>0.00001</td>\n",
       "      <td>0.582114</td>\n",
       "      <td>0.583559</td>\n",
       "      <td>0.052497</td>\n",
       "      <td>0.552531</td>\n",
       "      <td>0.583559</td>\n",
       "      <td>0.095884</td>\n",
       "      <td>LogisticRegression(C=1e-05, class_weight='bala...</td>\n",
       "      <td>7</td>\n",
       "      <td>827359</td>\n",
       "      <td>91929</td>\n",
       "      <td>part_name_len</td>\n",
       "    </tr>\n",
       "    <tr>\n",
       "      <th>1</th>\n",
       "      <td>0.00010</td>\n",
       "      <td>0.578583</td>\n",
       "      <td>0.579578</td>\n",
       "      <td>0.051798</td>\n",
       "      <td>0.550082</td>\n",
       "      <td>0.579578</td>\n",
       "      <td>0.094680</td>\n",
       "      <td>LogisticRegression(C=0.0001, class_weight='bal...</td>\n",
       "      <td>7</td>\n",
       "      <td>827359</td>\n",
       "      <td>91929</td>\n",
       "      <td>part_name_len</td>\n",
       "    </tr>\n",
       "    <tr>\n",
       "      <th>2</th>\n",
       "      <td>0.00100</td>\n",
       "      <td>0.578073</td>\n",
       "      <td>0.579034</td>\n",
       "      <td>0.051709</td>\n",
       "      <td>0.549809</td>\n",
       "      <td>0.579034</td>\n",
       "      <td>0.094527</td>\n",
       "      <td>LogisticRegression(C=0.001, class_weight='bala...</td>\n",
       "      <td>7</td>\n",
       "      <td>827359</td>\n",
       "      <td>91929</td>\n",
       "      <td>part_name_len</td>\n",
       "    </tr>\n",
       "    <tr>\n",
       "      <th>3</th>\n",
       "      <td>0.01000</td>\n",
       "      <td>0.577732</td>\n",
       "      <td>0.578610</td>\n",
       "      <td>0.051657</td>\n",
       "      <td>0.549809</td>\n",
       "      <td>0.578610</td>\n",
       "      <td>0.094441</td>\n",
       "      <td>LogisticRegression(C=0.01, class_weight='balan...</td>\n",
       "      <td>7</td>\n",
       "      <td>827359</td>\n",
       "      <td>91929</td>\n",
       "      <td>part_name_len</td>\n",
       "    </tr>\n",
       "    <tr>\n",
       "      <th>6</th>\n",
       "      <td>10.00000</td>\n",
       "      <td>0.577698</td>\n",
       "      <td>0.578577</td>\n",
       "      <td>0.051653</td>\n",
       "      <td>0.549809</td>\n",
       "      <td>0.578577</td>\n",
       "      <td>0.094434</td>\n",
       "      <td>LogisticRegression(C=10.0, class_weight='balan...</td>\n",
       "      <td>7</td>\n",
       "      <td>827359</td>\n",
       "      <td>91929</td>\n",
       "      <td>part_name_len</td>\n",
       "    </tr>\n",
       "    <tr>\n",
       "      <th>4</th>\n",
       "      <td>0.10000</td>\n",
       "      <td>0.577708</td>\n",
       "      <td>0.578566</td>\n",
       "      <td>0.051652</td>\n",
       "      <td>0.549809</td>\n",
       "      <td>0.578566</td>\n",
       "      <td>0.094432</td>\n",
       "      <td>LogisticRegression(C=0.1, class_weight='balanc...</td>\n",
       "      <td>7</td>\n",
       "      <td>827359</td>\n",
       "      <td>91929</td>\n",
       "      <td>part_name_len</td>\n",
       "    </tr>\n",
       "    <tr>\n",
       "      <th>5</th>\n",
       "      <td>1.00000</td>\n",
       "      <td>0.577688</td>\n",
       "      <td>0.578566</td>\n",
       "      <td>0.051652</td>\n",
       "      <td>0.549809</td>\n",
       "      <td>0.578566</td>\n",
       "      <td>0.094432</td>\n",
       "      <td>LogisticRegression(class_weight='balanced', ra...</td>\n",
       "      <td>7</td>\n",
       "      <td>827359</td>\n",
       "      <td>91929</td>\n",
       "      <td>part_name_len</td>\n",
       "    </tr>\n",
       "    <tr>\n",
       "      <th>8</th>\n",
       "      <td>1000.00000</td>\n",
       "      <td>0.577653</td>\n",
       "      <td>0.578544</td>\n",
       "      <td>0.051649</td>\n",
       "      <td>0.549809</td>\n",
       "      <td>0.578544</td>\n",
       "      <td>0.094428</td>\n",
       "      <td>LogisticRegression(C=1000.0, class_weight='bal...</td>\n",
       "      <td>7</td>\n",
       "      <td>827359</td>\n",
       "      <td>91929</td>\n",
       "      <td>part_name_len</td>\n",
       "    </tr>\n",
       "    <tr>\n",
       "      <th>9</th>\n",
       "      <td>10000.00000</td>\n",
       "      <td>0.577654</td>\n",
       "      <td>0.578544</td>\n",
       "      <td>0.051649</td>\n",
       "      <td>0.549809</td>\n",
       "      <td>0.578544</td>\n",
       "      <td>0.094428</td>\n",
       "      <td>LogisticRegression(C=10000.0, class_weight='ba...</td>\n",
       "      <td>7</td>\n",
       "      <td>827359</td>\n",
       "      <td>91929</td>\n",
       "      <td>part_name_len</td>\n",
       "    </tr>\n",
       "    <tr>\n",
       "      <th>7</th>\n",
       "      <td>100.00000</td>\n",
       "      <td>0.577645</td>\n",
       "      <td>0.578533</td>\n",
       "      <td>0.051648</td>\n",
       "      <td>0.549809</td>\n",
       "      <td>0.578533</td>\n",
       "      <td>0.094426</td>\n",
       "      <td>LogisticRegression(C=100.0, class_weight='bala...</td>\n",
       "      <td>7</td>\n",
       "      <td>827359</td>\n",
       "      <td>91929</td>\n",
       "      <td>part_name_len</td>\n",
       "    </tr>\n",
       "  </tbody>\n",
       "</table>\n",
       "</div>"
      ],
      "text/plain": [
       "             C  train_score  test_score  precision    recall  accuracy  \\\n",
       "0      0.00001     0.582114    0.583559   0.052497  0.552531  0.583559   \n",
       "1      0.00010     0.578583    0.579578   0.051798  0.550082  0.579578   \n",
       "2      0.00100     0.578073    0.579034   0.051709  0.549809  0.579034   \n",
       "3      0.01000     0.577732    0.578610   0.051657  0.549809  0.578610   \n",
       "6     10.00000     0.577698    0.578577   0.051653  0.549809  0.578577   \n",
       "4      0.10000     0.577708    0.578566   0.051652  0.549809  0.578566   \n",
       "5      1.00000     0.577688    0.578566   0.051652  0.549809  0.578566   \n",
       "8   1000.00000     0.577653    0.578544   0.051649  0.549809  0.578544   \n",
       "9  10000.00000     0.577654    0.578544   0.051649  0.549809  0.578544   \n",
       "7    100.00000     0.577645    0.578533   0.051648  0.549809  0.578533   \n",
       "\n",
       "   f1_score                                              model  num_features  \\\n",
       "0  0.095884  LogisticRegression(C=1e-05, class_weight='bala...             7   \n",
       "1  0.094680  LogisticRegression(C=0.0001, class_weight='bal...             7   \n",
       "2  0.094527  LogisticRegression(C=0.001, class_weight='bala...             7   \n",
       "3  0.094441  LogisticRegression(C=0.01, class_weight='balan...             7   \n",
       "6  0.094434  LogisticRegression(C=10.0, class_weight='balan...             7   \n",
       "4  0.094432  LogisticRegression(C=0.1, class_weight='balanc...             7   \n",
       "5  0.094432  LogisticRegression(class_weight='balanced', ra...             7   \n",
       "8  0.094428  LogisticRegression(C=1000.0, class_weight='bal...             7   \n",
       "9  0.094428  LogisticRegression(C=10000.0, class_weight='ba...             7   \n",
       "7  0.094426  LogisticRegression(C=100.0, class_weight='bala...             7   \n",
       "\n",
       "   num_rows_train  num_rows_test   last_feature  \n",
       "0          827359          91929  part_name_len  \n",
       "1          827359          91929  part_name_len  \n",
       "2          827359          91929  part_name_len  \n",
       "3          827359          91929  part_name_len  \n",
       "6          827359          91929  part_name_len  \n",
       "4          827359          91929  part_name_len  \n",
       "5          827359          91929  part_name_len  \n",
       "8          827359          91929  part_name_len  \n",
       "9          827359          91929  part_name_len  \n",
       "7          827359          91929  part_name_len  "
      ]
     },
     "execution_count": 15,
     "metadata": {},
     "output_type": "execute_result"
    }
   ],
   "source": [
    "htC = pd.DataFrame(hyper_table_C_test).sort_values('test_score', ascending=False)\n",
    "htC"
   ]
  },
  {
   "cell_type": "code",
   "execution_count": 16,
   "id": "94ece8e1",
   "metadata": {},
   "outputs": [
    {
     "data": {
      "image/png": "[encoded data removed]",
      "text/plain": [
       "<Figure size 864x576 with 1 Axes>"
      ]
     },
     "metadata": {},
     "output_type": "display_data"
    }
   ],
   "source": [
    "fig, ax = plt.subplots(figsize=(12,8))\n",
    "sns.scatterplot(data=htC, x='C', y='test_score', color='tab:orange', s=100)\n",
    "plt.xscale('log')\n",
    "plt.xticks(fontsize=20)\n",
    "plt.yticks(fontsize=20)\n",
    "ax.set_ylabel('Test set accuracy', fontsize=30)\n",
    "ax.set_xlabel('C value', fontsize=30)\n",
    "plt.show()"
   ]
  },
  {
   "cell_type": "code",
   "execution_count": null,
   "id": "1cedb10d",
   "metadata": {},
   "outputs": [],
   "source": []
  },
  {
   "cell_type": "code",
   "execution_count": 17,
   "id": "de5873f1",
   "metadata": {},
   "outputs": [
    {
     "name": "stderr",
     "output_type": "stream",
     "text": [
      "100%|████████████████████████████████████████████████████████████████████████████████████| 7/7 [00:19<00:00,  2.85s/it]\n"
     ]
    }
   ],
   "source": [
    "hyper_table = list()\n",
    "fn = list()\n",
    "model = LogisticRegression(C=10**-5, random_state=1, class_weight='balanced')\n",
    "\n",
    "for i, name in tqdm(enumerate(X.columns), total=len(X.columns)):\n",
    "    if i > 100:\n",
    "        break\n",
    "    if name in target_names:\n",
    "        continue\n",
    "    fn.append(name)\n",
    "    model.fit(X_train[fn], y_train)\n",
    "    s_train = model.score(X_train[fn], y_train)\n",
    "    s_test = model.score(X_test[fn], y_test)\n",
    "    y_pred = model.predict(X_test[fn])\n",
    "\n",
    "    #conf_matrix = confusion_matrix(y_true=y_test, y_pred=y_pred)\n",
    "\n",
    "    precision = precision_score(y_test, y_pred)\n",
    "    recall = recall_score(y_test, y_pred)\n",
    "    accuracy = accuracy_score(y_test, y_pred)\n",
    "    f1 = f1_score(y_test, y_pred)\n",
    "    \n",
    "    hyper_table.append(dict(sample=model.class_weight,\n",
    "                            desc=str(fn), \n",
    "                            train_score=s_train, \n",
    "                            test_score=s_test,\n",
    "                            precision=precision,\n",
    "                            recall=recall,\n",
    "                            accuracy=accuracy,\n",
    "                            f1_score=f1,\n",
    "                            model=model, \n",
    "                            num_features=df[fn].shape[1], \n",
    "                            num_rows_train=X_train.shape[0],\n",
    "                            num_rows_test=X_test.shape[0], \n",
    "                            last_feature=fn[-1]))"
   ]
  },
  {
   "cell_type": "code",
   "execution_count": 18,
   "id": "2e44ddb5",
   "metadata": {},
   "outputs": [
    {
     "name": "stderr",
     "output_type": "stream",
     "text": [
      "  0%|                                                                                            | 0/7 [00:00<?, ?it/s]C:\\Users\\marki\\anaconda3\\lib\\site-packages\\sklearn\\metrics\\_classification.py:1308: UndefinedMetricWarning: Precision is ill-defined and being set to 0.0 due to no predicted samples. Use `zero_division` parameter to control this behavior.\n",
      "  _warn_prf(average, modifier, msg_start, len(result))\n",
      "100%|████████████████████████████████████████████████████████████████████████████████████| 7/7 [05:55<00:00, 50.74s/it]\n"
     ]
    }
   ],
   "source": [
    "model_rf = RandomForestClassifier(n_estimators=200, random_state = 1, n_jobs=-1)\n",
    "fn = list()\n",
    "\n",
    "for i, name in tqdm(enumerate(X.columns), total=len(X.columns)):\n",
    "    if i > 100:\n",
    "        break\n",
    "    if name in target_names:\n",
    "        continue\n",
    "    fn.append(name)\n",
    "    model_rf.fit(X_train[fn], y_train)\n",
    "    s_train = model_rf.score(X_train[fn], y_train)\n",
    "    s_test = model_rf.score(X_test[fn], y_test)\n",
    "    y_pred = model_rf.predict(X_test[fn])\n",
    "\n",
    "    #conf_matrix = confusion_matrix(y_true=y_test, y_pred=y_pred)\n",
    "\n",
    "    precision = precision_score(y_test, y_pred)\n",
    "    recall = recall_score(y_test, y_pred)\n",
    "    accuracy = accuracy_score(y_test, y_pred)\n",
    "    f1 = f1_score(y_test, y_pred)\n",
    "    \n",
    "    hyper_table.append(dict(sample='balanced',\n",
    "                            desc=str(fn), \n",
    "                            train_score=s_train, \n",
    "                            test_score=s_test,\n",
    "                            precision=precision,\n",
    "                            recall=recall,\n",
    "                            accuracy=accuracy,\n",
    "                            f1_score=f1,\n",
    "                            model=model_rf, \n",
    "                            num_features=df[fn].shape[1], \n",
    "                            num_rows_train=X_train.shape[0],\n",
    "                            num_rows_test=X_test.shape[0], \n",
    "                            last_feature=fn[-1]))"
   ]
  },
  {
   "cell_type": "code",
   "execution_count": 19,
   "id": "6ed9234e",
   "metadata": {},
   "outputs": [
    {
     "data": {
      "text/html": [
       "<div>\n",
       "<style scoped>\n",
       "    .dataframe tbody tr th:only-of-type {\n",
       "        vertical-align: middle;\n",
       "    }\n",
       "\n",
       "    .dataframe tbody tr th {\n",
       "        vertical-align: top;\n",
       "    }\n",
       "\n",
       "    .dataframe thead th {\n",
       "        text-align: right;\n",
       "    }\n",
       "</style>\n",
       "<table border=\"1\" class=\"dataframe\">\n",
       "  <thead>\n",
       "    <tr style=\"text-align: right;\">\n",
       "      <th></th>\n",
       "      <th>sample</th>\n",
       "      <th>desc</th>\n",
       "      <th>train_score</th>\n",
       "      <th>test_score</th>\n",
       "      <th>precision</th>\n",
       "      <th>recall</th>\n",
       "      <th>accuracy</th>\n",
       "      <th>f1_score</th>\n",
       "      <th>model</th>\n",
       "      <th>num_features</th>\n",
       "      <th>num_rows_train</th>\n",
       "      <th>num_rows_test</th>\n",
       "      <th>last_feature</th>\n",
       "    </tr>\n",
       "  </thead>\n",
       "  <tbody>\n",
       "    <tr>\n",
       "      <th>11</th>\n",
       "      <td>balanced</td>\n",
       "      <td>['year', 'color_id', 'quantity', 'is_trans', '...</td>\n",
       "      <td>0.963242</td>\n",
       "      <td>0.960404</td>\n",
       "      <td>0.572650</td>\n",
       "      <td>0.036473</td>\n",
       "      <td>0.960404</td>\n",
       "      <td>0.068577</td>\n",
       "      <td>(DecisionTreeClassifier(max_features='auto', r...</td>\n",
       "      <td>5</td>\n",
       "      <td>827359</td>\n",
       "      <td>91929</td>\n",
       "      <td>part_num_len</td>\n",
       "    </tr>\n",
       "    <tr>\n",
       "      <th>12</th>\n",
       "      <td>balanced</td>\n",
       "      <td>['year', 'color_id', 'quantity', 'is_trans', '...</td>\n",
       "      <td>0.963242</td>\n",
       "      <td>0.960372</td>\n",
       "      <td>0.566524</td>\n",
       "      <td>0.035928</td>\n",
       "      <td>0.960372</td>\n",
       "      <td>0.067571</td>\n",
       "      <td>(DecisionTreeClassifier(max_features='auto', r...</td>\n",
       "      <td>6</td>\n",
       "      <td>827359</td>\n",
       "      <td>91929</td>\n",
       "      <td>color_name_len</td>\n",
       "    </tr>\n",
       "    <tr>\n",
       "      <th>8</th>\n",
       "      <td>balanced</td>\n",
       "      <td>['year', 'color_id']</td>\n",
       "      <td>0.961713</td>\n",
       "      <td>0.960285</td>\n",
       "      <td>0.645570</td>\n",
       "      <td>0.013881</td>\n",
       "      <td>0.960285</td>\n",
       "      <td>0.027178</td>\n",
       "      <td>(DecisionTreeClassifier(max_features='auto', r...</td>\n",
       "      <td>2</td>\n",
       "      <td>827359</td>\n",
       "      <td>91929</td>\n",
       "      <td>color_id</td>\n",
       "    </tr>\n",
       "    <tr>\n",
       "      <th>10</th>\n",
       "      <td>balanced</td>\n",
       "      <td>['year', 'color_id', 'quantity', 'is_trans']</td>\n",
       "      <td>0.962175</td>\n",
       "      <td>0.960100</td>\n",
       "      <td>0.535714</td>\n",
       "      <td>0.012248</td>\n",
       "      <td>0.960100</td>\n",
       "      <td>0.023949</td>\n",
       "      <td>(DecisionTreeClassifier(max_features='auto', r...</td>\n",
       "      <td>4</td>\n",
       "      <td>827359</td>\n",
       "      <td>91929</td>\n",
       "      <td>is_trans</td>\n",
       "    </tr>\n",
       "    <tr>\n",
       "      <th>9</th>\n",
       "      <td>balanced</td>\n",
       "      <td>['year', 'color_id', 'quantity']</td>\n",
       "      <td>0.962175</td>\n",
       "      <td>0.960089</td>\n",
       "      <td>0.529412</td>\n",
       "      <td>0.012248</td>\n",
       "      <td>0.960089</td>\n",
       "      <td>0.023943</td>\n",
       "      <td>(DecisionTreeClassifier(max_features='auto', r...</td>\n",
       "      <td>3</td>\n",
       "      <td>827359</td>\n",
       "      <td>91929</td>\n",
       "      <td>quantity</td>\n",
       "    </tr>\n",
       "    <tr>\n",
       "      <th>7</th>\n",
       "      <td>balanced</td>\n",
       "      <td>['year']</td>\n",
       "      <td>0.961572</td>\n",
       "      <td>0.960034</td>\n",
       "      <td>0.000000</td>\n",
       "      <td>0.000000</td>\n",
       "      <td>0.960034</td>\n",
       "      <td>0.000000</td>\n",
       "      <td>(DecisionTreeClassifier(max_features='auto', r...</td>\n",
       "      <td>1</td>\n",
       "      <td>827359</td>\n",
       "      <td>91929</td>\n",
       "      <td>year</td>\n",
       "    </tr>\n",
       "    <tr>\n",
       "      <th>13</th>\n",
       "      <td>balanced</td>\n",
       "      <td>['year', 'color_id', 'quantity', 'is_trans', '...</td>\n",
       "      <td>0.968992</td>\n",
       "      <td>0.959773</td>\n",
       "      <td>0.486900</td>\n",
       "      <td>0.121394</td>\n",
       "      <td>0.959773</td>\n",
       "      <td>0.194336</td>\n",
       "      <td>(DecisionTreeClassifier(max_features='auto', r...</td>\n",
       "      <td>7</td>\n",
       "      <td>827359</td>\n",
       "      <td>91929</td>\n",
       "      <td>part_name_len</td>\n",
       "    </tr>\n",
       "    <tr>\n",
       "      <th>3</th>\n",
       "      <td>balanced</td>\n",
       "      <td>['year', 'color_id', 'quantity', 'is_trans']</td>\n",
       "      <td>0.710641</td>\n",
       "      <td>0.711821</td>\n",
       "      <td>0.060584</td>\n",
       "      <td>0.428144</td>\n",
       "      <td>0.711821</td>\n",
       "      <td>0.106148</td>\n",
       "      <td>LogisticRegression(C=1e-05, class_weight='bala...</td>\n",
       "      <td>4</td>\n",
       "      <td>827359</td>\n",
       "      <td>91929</td>\n",
       "      <td>is_trans</td>\n",
       "    </tr>\n",
       "    <tr>\n",
       "      <th>2</th>\n",
       "      <td>balanced</td>\n",
       "      <td>['year', 'color_id', 'quantity']</td>\n",
       "      <td>0.709596</td>\n",
       "      <td>0.710722</td>\n",
       "      <td>0.060484</td>\n",
       "      <td>0.429232</td>\n",
       "      <td>0.710722</td>\n",
       "      <td>0.106027</td>\n",
       "      <td>LogisticRegression(C=1e-05, class_weight='bala...</td>\n",
       "      <td>3</td>\n",
       "      <td>827359</td>\n",
       "      <td>91929</td>\n",
       "      <td>quantity</td>\n",
       "    </tr>\n",
       "    <tr>\n",
       "      <th>4</th>\n",
       "      <td>balanced</td>\n",
       "      <td>['year', 'color_id', 'quantity', 'is_trans', '...</td>\n",
       "      <td>0.686430</td>\n",
       "      <td>0.687150</td>\n",
       "      <td>0.057348</td>\n",
       "      <td>0.442297</td>\n",
       "      <td>0.687150</td>\n",
       "      <td>0.101531</td>\n",
       "      <td>LogisticRegression(C=1e-05, class_weight='bala...</td>\n",
       "      <td>5</td>\n",
       "      <td>827359</td>\n",
       "      <td>91929</td>\n",
       "      <td>part_num_len</td>\n",
       "    </tr>\n",
       "    <tr>\n",
       "      <th>1</th>\n",
       "      <td>balanced</td>\n",
       "      <td>['year', 'color_id']</td>\n",
       "      <td>0.673404</td>\n",
       "      <td>0.673215</td>\n",
       "      <td>0.058475</td>\n",
       "      <td>0.475231</td>\n",
       "      <td>0.673215</td>\n",
       "      <td>0.104136</td>\n",
       "      <td>LogisticRegression(C=1e-05, class_weight='bala...</td>\n",
       "      <td>2</td>\n",
       "      <td>827359</td>\n",
       "      <td>91929</td>\n",
       "      <td>color_id</td>\n",
       "    </tr>\n",
       "    <tr>\n",
       "      <th>5</th>\n",
       "      <td>balanced</td>\n",
       "      <td>['year', 'color_id', 'quantity', 'is_trans', '...</td>\n",
       "      <td>0.630880</td>\n",
       "      <td>0.631422</td>\n",
       "      <td>0.053926</td>\n",
       "      <td>0.497006</td>\n",
       "      <td>0.631422</td>\n",
       "      <td>0.097296</td>\n",
       "      <td>LogisticRegression(C=1e-05, class_weight='bala...</td>\n",
       "      <td>6</td>\n",
       "      <td>827359</td>\n",
       "      <td>91929</td>\n",
       "      <td>color_name_len</td>\n",
       "    </tr>\n",
       "    <tr>\n",
       "      <th>6</th>\n",
       "      <td>balanced</td>\n",
       "      <td>['year', 'color_id', 'quantity', 'is_trans', '...</td>\n",
       "      <td>0.582114</td>\n",
       "      <td>0.583559</td>\n",
       "      <td>0.052497</td>\n",
       "      <td>0.552531</td>\n",
       "      <td>0.583559</td>\n",
       "      <td>0.095884</td>\n",
       "      <td>LogisticRegression(C=1e-05, class_weight='bala...</td>\n",
       "      <td>7</td>\n",
       "      <td>827359</td>\n",
       "      <td>91929</td>\n",
       "      <td>part_name_len</td>\n",
       "    </tr>\n",
       "    <tr>\n",
       "      <th>0</th>\n",
       "      <td>balanced</td>\n",
       "      <td>['year']</td>\n",
       "      <td>0.038428</td>\n",
       "      <td>0.039966</td>\n",
       "      <td>0.039966</td>\n",
       "      <td>1.000000</td>\n",
       "      <td>0.039966</td>\n",
       "      <td>0.076860</td>\n",
       "      <td>LogisticRegression(C=1e-05, class_weight='bala...</td>\n",
       "      <td>1</td>\n",
       "      <td>827359</td>\n",
       "      <td>91929</td>\n",
       "      <td>year</td>\n",
       "    </tr>\n",
       "  </tbody>\n",
       "</table>\n",
       "</div>"
      ],
      "text/plain": [
       "      sample                                               desc  train_score  \\\n",
       "11  balanced  ['year', 'color_id', 'quantity', 'is_trans', '...     0.963242   \n",
       "12  balanced  ['year', 'color_id', 'quantity', 'is_trans', '...     0.963242   \n",
       "8   balanced                               ['year', 'color_id']     0.961713   \n",
       "10  balanced       ['year', 'color_id', 'quantity', 'is_trans']     0.962175   \n",
       "9   balanced                   ['year', 'color_id', 'quantity']     0.962175   \n",
       "7   balanced                                           ['year']     0.961572   \n",
       "13  balanced  ['year', 'color_id', 'quantity', 'is_trans', '...     0.968992   \n",
       "3   balanced       ['year', 'color_id', 'quantity', 'is_trans']     0.710641   \n",
       "2   balanced                   ['year', 'color_id', 'quantity']     0.709596   \n",
       "4   balanced  ['year', 'color_id', 'quantity', 'is_trans', '...     0.686430   \n",
       "1   balanced                               ['year', 'color_id']     0.673404   \n",
       "5   balanced  ['year', 'color_id', 'quantity', 'is_trans', '...     0.630880   \n",
       "6   balanced  ['year', 'color_id', 'quantity', 'is_trans', '...     0.582114   \n",
       "0   balanced                                           ['year']     0.038428   \n",
       "\n",
       "    test_score  precision    recall  accuracy  f1_score  \\\n",
       "11    0.960404   0.572650  0.036473  0.960404  0.068577   \n",
       "12    0.960372   0.566524  0.035928  0.960372  0.067571   \n",
       "8     0.960285   0.645570  0.013881  0.960285  0.027178   \n",
       "10    0.960100   0.535714  0.012248  0.960100  0.023949   \n",
       "9     0.960089   0.529412  0.012248  0.960089  0.023943   \n",
       "7     0.960034   0.000000  0.000000  0.960034  0.000000   \n",
       "13    0.959773   0.486900  0.121394  0.959773  0.194336   \n",
       "3     0.711821   0.060584  0.428144  0.711821  0.106148   \n",
       "2     0.710722   0.060484  0.429232  0.710722  0.106027   \n",
       "4     0.687150   0.057348  0.442297  0.687150  0.101531   \n",
       "1     0.673215   0.058475  0.475231  0.673215  0.104136   \n",
       "5     0.631422   0.053926  0.497006  0.631422  0.097296   \n",
       "6     0.583559   0.052497  0.552531  0.583559  0.095884   \n",
       "0     0.039966   0.039966  1.000000  0.039966  0.076860   \n",
       "\n",
       "                                                model  num_features  \\\n",
       "11  (DecisionTreeClassifier(max_features='auto', r...             5   \n",
       "12  (DecisionTreeClassifier(max_features='auto', r...             6   \n",
       "8   (DecisionTreeClassifier(max_features='auto', r...             2   \n",
       "10  (DecisionTreeClassifier(max_features='auto', r...             4   \n",
       "9   (DecisionTreeClassifier(max_features='auto', r...             3   \n",
       "7   (DecisionTreeClassifier(max_features='auto', r...             1   \n",
       "13  (DecisionTreeClassifier(max_features='auto', r...             7   \n",
       "3   LogisticRegression(C=1e-05, class_weight='bala...             4   \n",
       "2   LogisticRegression(C=1e-05, class_weight='bala...             3   \n",
       "4   LogisticRegression(C=1e-05, class_weight='bala...             5   \n",
       "1   LogisticRegression(C=1e-05, class_weight='bala...             2   \n",
       "5   LogisticRegression(C=1e-05, class_weight='bala...             6   \n",
       "6   LogisticRegression(C=1e-05, class_weight='bala...             7   \n",
       "0   LogisticRegression(C=1e-05, class_weight='bala...             1   \n",
       "\n",
       "    num_rows_train  num_rows_test    last_feature  \n",
       "11          827359          91929    part_num_len  \n",
       "12          827359          91929  color_name_len  \n",
       "8           827359          91929        color_id  \n",
       "10          827359          91929        is_trans  \n",
       "9           827359          91929        quantity  \n",
       "7           827359          91929            year  \n",
       "13          827359          91929   part_name_len  \n",
       "3           827359          91929        is_trans  \n",
       "2           827359          91929        quantity  \n",
       "4           827359          91929    part_num_len  \n",
       "1           827359          91929        color_id  \n",
       "5           827359          91929  color_name_len  \n",
       "6           827359          91929   part_name_len  \n",
       "0           827359          91929            year  "
      ]
     },
     "execution_count": 19,
     "metadata": {},
     "output_type": "execute_result"
    }
   ],
   "source": [
    "ht0 = pd.DataFrame(hyper_table).sort_values('test_score', ascending=False)\n",
    "ht0"
   ]
  },
  {
   "cell_type": "code",
   "execution_count": 20,
   "id": "2206aa08",
   "metadata": {},
   "outputs": [
    {
     "name": "stdout",
     "output_type": "stream",
     "text": [
      "7\n"
     ]
    },
    {
     "data": {
      "image/png": "[encoded data removed]",
      "text/plain": [
       "<Figure size 864x864 with 1 Axes>"
      ]
     },
     "metadata": {},
     "output_type": "display_data"
    }
   ],
   "source": [
    "feature_importance = model_rf.feature_importances_\n",
    "# make importances relative to max importance\n",
    "feature_importance = 100.0 * (feature_importance / feature_importance.max())[:30]\n",
    "sorted_idx = np.argsort(feature_importance)[:30]\n",
    "\n",
    "pos = np.arange(sorted_idx.shape[0]) + .5\n",
    "print(pos.size)\n",
    "sorted_idx.size\n",
    "plt.figure(figsize=(12,12))\n",
    "plt.barh(pos, feature_importance[sorted_idx], color='orange', edgecolor='black', align='center')\n",
    "plt.yticks(pos, df[fn].columns[sorted_idx])\n",
    "plt.xlabel('Relative Importance', fontsize=30)\n",
    "plt.title('Variable Importance - \"balanced\" set', fontsize=30)\n",
    "plt.grid(True)\n",
    "plt.show()"
   ]
  },
  {
   "cell_type": "code",
   "execution_count": null,
   "id": "4ba3a5ad",
   "metadata": {},
   "outputs": [],
   "source": []
  },
  {
   "cell_type": "code",
   "execution_count": 21,
   "id": "d623d8e0",
   "metadata": {},
   "outputs": [],
   "source": [
    "ht0.to_csv('C:/Users/marki/Desktop/SB Data Science BC/Springboard/Capstone2/data from notebooks/ht0.csv', index=False)"
   ]
  },
  {
   "cell_type": "code",
   "execution_count": null,
   "id": "5cd52cbe",
   "metadata": {},
   "outputs": [],
   "source": []
  },
  {
   "cell_type": "code",
   "execution_count": 22,
   "id": "d0aff302",
   "metadata": {},
   "outputs": [],
   "source": [
    "hyper_table = list()"
   ]
  },
  {
   "cell_type": "code",
   "execution_count": 23,
   "id": "3e4b2e79",
   "metadata": {},
   "outputs": [],
   "source": [
    "model_rf = RandomForestClassifier(n_estimators=200, random_state = 1, n_jobs=-1, class_weight='balanced')\n",
    "\n",
    "model_rf.fit(X_train[fn], y_train)\n",
    "s_train = model_rf.score(X_train[fn], y_train)\n",
    "s_test = model_rf.score(X_test[fn], y_test)\n",
    "y_pred = model_rf.predict(X_test[fn])"
   ]
  },
  {
   "cell_type": "code",
   "execution_count": 24,
   "id": "d232e54c",
   "metadata": {},
   "outputs": [],
   "source": [
    "conf_matrix = confusion_matrix(y_true=y_test, y_pred=y_pred)"
   ]
  },
  {
   "cell_type": "code",
   "execution_count": 25,
   "id": "09f996e6",
   "metadata": {},
   "outputs": [
    {
     "data": {
      "image/png": "[encoded data removed]",
      "text/plain": [
       "<Figure size 360x360 with 1 Axes>"
      ]
     },
     "metadata": {},
     "output_type": "display_data"
    }
   ],
   "source": [
    "fig, ax = plt.subplots(figsize=(5, 5))\n",
    "ax.matshow(conf_matrix, cmap=plt.cm.Oranges, alpha=0.3)\n",
    "for i in range(conf_matrix.shape[0]):\n",
    "    for j in range(conf_matrix.shape[1]):\n",
    "        ax.text(x=j, y=i,s=conf_matrix[i, j], va='center', ha='center', size='xx-large')\n",
    "\n",
    "plt.xlabel('Predictions', fontsize=18)\n",
    "plt.ylabel('Actuals', fontsize=18)\n",
    "plt.title('Confusion Matrix', fontsize=18)\n",
    "plt.show()"
   ]
  },
  {
   "cell_type": "code",
   "execution_count": 26,
   "id": "5fc98732",
   "metadata": {},
   "outputs": [],
   "source": [
    "precision = precision_score(y_test, y_pred)\n",
    "recall = recall_score(y_test, y_pred)\n",
    "accuracy = accuracy_score(y_test, y_pred)\n",
    "f1 = f1_score(y_test, y_pred)"
   ]
  },
  {
   "cell_type": "code",
   "execution_count": 27,
   "id": "5247ea60",
   "metadata": {},
   "outputs": [],
   "source": [
    "hyper_table.append(dict(sample='balanced', \n",
    "                    train_score=s_train, \n",
    "                    test_score=s_test,\n",
    "                    precision=precision,\n",
    "                    recall=recall,\n",
    "                    accuracy=accuracy,\n",
    "                    f1_score=f1,\n",
    "                    model=model_rf, \n",
    "                    num_features=df[fn].shape[1], \n",
    "                    num_rows_train=X_train.shape[0],\n",
    "                    num_rows_test=X_test.shape[0])) "
   ]
  },
  {
   "cell_type": "code",
   "execution_count": 28,
   "id": "9b722481",
   "metadata": {},
   "outputs": [
    {
     "name": "stdout",
     "output_type": "stream",
     "text": [
      "Estimate: 24.919\n"
     ]
    }
   ],
   "source": [
    "counter = Counter(y)\n",
    "# estimate scale_pos_weight value\n",
    "estimate = counter[0] / counter[1]\n",
    "print('Estimate: %.3f' % estimate)"
   ]
  },
  {
   "cell_type": "code",
   "execution_count": 29,
   "id": "9963482c",
   "metadata": {},
   "outputs": [
    {
     "data": {
      "text/plain": [
       "Counter({0: 883820, 1: 35468})"
      ]
     },
     "execution_count": 29,
     "metadata": {},
     "output_type": "execute_result"
    }
   ],
   "source": [
    "counter"
   ]
  },
  {
   "cell_type": "code",
   "execution_count": 30,
   "id": "e15f36a5",
   "metadata": {},
   "outputs": [],
   "source": [
    "#model = XGBClassifier(scale_pos_weight=estimate)\n",
    "\n",
    "#n_estimators = [100, 150, 200, 250]\n",
    "#max_depth = [3, 5, 7, 9]\n",
    "#param_grid = dict(max_depth=max_depth, n_estimators=n_estimators)\n",
    "#kfold = StratifiedKFold(n_splits=10, shuffle=True, random_state=1)\n",
    "#grid_search = GridSearchCV(model, param_grid, scoring=\"neg_log_loss\", n_jobs=-1, cv=kfold, verbose=1)\n",
    "#grid_result = grid_search.fit(X, y)\n",
    "\n",
    "#print(\"Best: %f using %s\" % (grid_result.best_score_, grid_result.best_params_))\n",
    "#means = grid_result.cv_results_['mean_test_score']\n",
    "#stds = grid_result.cv_results_['std_test_score']\n",
    "#params = grid_result.cv_results_['params']\n",
    "#for mean, stdev, param in zip(means, stds, params):\n",
    "#    print(\"%f (%f) with: %r\" % (mean, stdev, param))\n",
    "\n",
    "#plt.figure(figsize=(15,10))\n",
    "#scores = np.array(means).reshape(len(max_depth), len(n_estimators))\n",
    "#for i, value in enumerate(max_depth):\n",
    "#    plt.plot(n_estimators, scores[i], label='depth: ' + str(value))\n",
    "#plt.legend()\n",
    "#plt.xlabel('n_estimators')\n",
    "#plt.ylabel('Log Loss')"
   ]
  },
  {
   "cell_type": "code",
   "execution_count": null,
   "id": "01cb0495",
   "metadata": {},
   "outputs": [],
   "source": []
  },
  {
   "cell_type": "code",
   "execution_count": 31,
   "id": "4ad9da44",
   "metadata": {},
   "outputs": [
    {
     "name": "stderr",
     "output_type": "stream",
     "text": [
      "C:\\Users\\marki\\anaconda3\\lib\\site-packages\\xgboost\\sklearn.py:1224: UserWarning: The use of label encoder in XGBClassifier is deprecated and will be removed in a future release. To remove this warning, do the following: 1) Pass option use_label_encoder=False when constructing XGBClassifier object; and 2) Encode your labels (y) as integers starting with 0, i.e. 0, 1, 2, ..., [num_class - 1].\n",
      "  warnings.warn(label_encoder_deprecation_msg, UserWarning)\n"
     ]
    },
    {
     "name": "stdout",
     "output_type": "stream",
     "text": [
      "[00:03:01] WARNING: C:/Users/Administrator/workspace/xgboost-win64_release_1.5.1/src/learner.cc:1115: Starting in XGBoost 1.3.0, the default evaluation metric used with the objective 'binary:logistic' was changed from 'error' to 'logloss'. Explicitly set eval_metric if you'd like to restore the old behavior.\n"
     ]
    }
   ],
   "source": [
    "model_XGB = XGBClassifier(n_estimators=200, max_depth=9, scale_pos_weight=estimate, random_state=1)\n",
    "model_XGB.fit(X_train[fn], y_train)\n",
    "s_train = model_XGB.score(X_train[fn], y_train)\n",
    "s_test = model_XGB.score(X_test[fn], y_test)\n",
    "y_pred = model_XGB.predict(X_test[fn])\n",
    "predictions = [round(value) for value in y_pred]"
   ]
  },
  {
   "cell_type": "code",
   "execution_count": 32,
   "id": "8822dce2",
   "metadata": {},
   "outputs": [],
   "source": [
    "conf_matrix = confusion_matrix(y_true=y_test, y_pred=y_pred)"
   ]
  },
  {
   "cell_type": "code",
   "execution_count": 33,
   "id": "f4889f9f",
   "metadata": {},
   "outputs": [
    {
     "data": {
      "image/png": "[encoded data removed]",
      "text/plain": [
       "<Figure size 360x360 with 1 Axes>"
      ]
     },
     "metadata": {},
     "output_type": "display_data"
    }
   ],
   "source": [
    "fig, ax = plt.subplots(figsize=(5, 5))\n",
    "ax.matshow(conf_matrix, cmap=plt.cm.Oranges, alpha=0.3)\n",
    "for i in range(conf_matrix.shape[0]):\n",
    "    for j in range(conf_matrix.shape[1]):\n",
    "        ax.text(x=j, y=i,s=conf_matrix[i, j], va='center', ha='center', size='xx-large')\n",
    "\n",
    "plt.xlabel('Predictions', fontsize=18)\n",
    "plt.ylabel('Actuals', fontsize=18)\n",
    "plt.title('Confusion Matrix', fontsize=18)\n",
    "plt.show()"
   ]
  },
  {
   "cell_type": "code",
   "execution_count": 34,
   "id": "10786456",
   "metadata": {},
   "outputs": [],
   "source": [
    "precision = precision_score(y_test, y_pred)\n",
    "recall = recall_score(y_test, y_pred)\n",
    "accuracy = accuracy_score(y_test, y_pred)\n",
    "f1 = f1_score(y_test, y_pred)"
   ]
  },
  {
   "cell_type": "code",
   "execution_count": 35,
   "id": "57af1dfd",
   "metadata": {},
   "outputs": [],
   "source": [
    "hyper_table.append(dict(sample=estimate, \n",
    "                    train_score=s_train, \n",
    "                    test_score=s_test,\n",
    "                    precision=precision,\n",
    "                    recall=recall,\n",
    "                    accuracy=accuracy,\n",
    "                    f1_score=f1,\n",
    "                    model=model_XGB, \n",
    "                    num_features=df[fn].shape[1], \n",
    "                    num_rows_train=X_train.shape[0],\n",
    "                    num_rows_test=X_test.shape[0])) "
   ]
  },
  {
   "cell_type": "code",
   "execution_count": 36,
   "id": "b6a7e361",
   "metadata": {},
   "outputs": [
    {
     "data": {
      "text/html": [
       "<div>\n",
       "<style scoped>\n",
       "    .dataframe tbody tr th:only-of-type {\n",
       "        vertical-align: middle;\n",
       "    }\n",
       "\n",
       "    .dataframe tbody tr th {\n",
       "        vertical-align: top;\n",
       "    }\n",
       "\n",
       "    .dataframe thead th {\n",
       "        text-align: right;\n",
       "    }\n",
       "</style>\n",
       "<table border=\"1\" class=\"dataframe\">\n",
       "  <thead>\n",
       "    <tr style=\"text-align: right;\">\n",
       "      <th></th>\n",
       "      <th>sample</th>\n",
       "      <th>train_score</th>\n",
       "      <th>test_score</th>\n",
       "      <th>precision</th>\n",
       "      <th>recall</th>\n",
       "      <th>accuracy</th>\n",
       "      <th>f1_score</th>\n",
       "      <th>model</th>\n",
       "      <th>num_features</th>\n",
       "      <th>num_rows_train</th>\n",
       "      <th>num_rows_test</th>\n",
       "    </tr>\n",
       "  </thead>\n",
       "  <tbody>\n",
       "    <tr>\n",
       "      <th>0</th>\n",
       "      <td>balanced</td>\n",
       "      <td>0.844416</td>\n",
       "      <td>0.827247</td>\n",
       "      <td>0.130651</td>\n",
       "      <td>0.587643</td>\n",
       "      <td>0.827247</td>\n",
       "      <td>0.213773</td>\n",
       "      <td>(DecisionTreeClassifier(max_features='auto', r...</td>\n",
       "      <td>7</td>\n",
       "      <td>827359</td>\n",
       "      <td>91929</td>\n",
       "    </tr>\n",
       "    <tr>\n",
       "      <th>1</th>\n",
       "      <td>24.9188</td>\n",
       "      <td>0.744759</td>\n",
       "      <td>0.736253</td>\n",
       "      <td>0.112843</td>\n",
       "      <td>0.816004</td>\n",
       "      <td>0.736253</td>\n",
       "      <td>0.198267</td>\n",
       "      <td>XGBClassifier(base_score=0.5, booster='gbtree'...</td>\n",
       "      <td>7</td>\n",
       "      <td>827359</td>\n",
       "      <td>91929</td>\n",
       "    </tr>\n",
       "  </tbody>\n",
       "</table>\n",
       "</div>"
      ],
      "text/plain": [
       "     sample  train_score  test_score  precision    recall  accuracy  f1_score  \\\n",
       "0  balanced     0.844416    0.827247   0.130651  0.587643  0.827247  0.213773   \n",
       "1   24.9188     0.744759    0.736253   0.112843  0.816004  0.736253  0.198267   \n",
       "\n",
       "                                               model  num_features  \\\n",
       "0  (DecisionTreeClassifier(max_features='auto', r...             7   \n",
       "1  XGBClassifier(base_score=0.5, booster='gbtree'...             7   \n",
       "\n",
       "   num_rows_train  num_rows_test  \n",
       "0          827359          91929  \n",
       "1          827359          91929  "
      ]
     },
     "execution_count": 36,
     "metadata": {},
     "output_type": "execute_result"
    }
   ],
   "source": [
    "ht_fr = pd.DataFrame(hyper_table)\n",
    "ht_fr"
   ]
  },
  {
   "cell_type": "code",
   "execution_count": 37,
   "id": "d787d199",
   "metadata": {},
   "outputs": [],
   "source": [
    "ht_fr.to_csv('C:/Users/marki/Desktop/SB Data Science BC/Springboard/Capstone2/data from notebooks/ht_fr_bal.csv', index=False)"
   ]
  },
  {
   "cell_type": "code",
   "execution_count": null,
   "id": "8b60ebbb",
   "metadata": {},
   "outputs": [],
   "source": []
  }
 ],
 "metadata": {
  "kernelspec": {
   "display_name": "Python 3",
   "language": "python",
   "name": "python3"
  },
  "language_info": {
   "codemirror_mode": {
    "name": "ipython",
    "version": 3
   },
   "file_extension": ".py",
   "mimetype": "text/x-python",
   "name": "python",
   "nbconvert_exporter": "python",
   "pygments_lexer": "ipython3",
   "version": "3.8.8"
  }
 },
 "nbformat": 4,
 "nbformat_minor": 5
}
