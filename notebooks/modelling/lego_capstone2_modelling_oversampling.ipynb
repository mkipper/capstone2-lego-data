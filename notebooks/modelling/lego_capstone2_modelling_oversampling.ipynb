{
 "cells": [
  {
   "cell_type": "code",
   "execution_count": 1,
   "id": "b9436d2f",
   "metadata": {},
   "outputs": [],
   "source": [
    "import pandas as pd\n",
    "import numpy as np\n",
    "import seaborn as sns\n",
    "from sklearn.linear_model import LogisticRegression\n",
    "from sklearn.model_selection import train_test_split\n",
    "from sklearn import metrics\n",
    "from tqdm import tqdm\n",
    "from sklearn.ensemble import RandomForestClassifier\n",
    "import matplotlib.pyplot as plt\n",
    "from sklearn.metrics import confusion_matrix\n",
    "from sklearn.metrics import precision_score, recall_score, f1_score, accuracy_score\n",
    "from xgboost import XGBClassifier"
   ]
  },
  {
   "cell_type": "code",
   "execution_count": 2,
   "id": "1479f350",
   "metadata": {},
   "outputs": [],
   "source": [
    "pd.options.display.max_columns=1000\n",
    "sns.set_theme()"
   ]
  },
  {
   "cell_type": "code",
   "execution_count": 3,
   "id": "fb70e62c",
   "metadata": {},
   "outputs": [],
   "source": [
    "df = pd.read_csv('C:/Users/marki/Desktop/SB Data Science BC/Springboard/Capstone2/data from notebooks/df.csv')"
   ]
  },
  {
   "cell_type": "code",
   "execution_count": 4,
   "id": "263d1845",
   "metadata": {},
   "outputs": [
    {
     "data": {
      "text/html": [
       "<div>\n",
       "<style scoped>\n",
       "    .dataframe tbody tr th:only-of-type {\n",
       "        vertical-align: middle;\n",
       "    }\n",
       "\n",
       "    .dataframe tbody tr th {\n",
       "        vertical-align: top;\n",
       "    }\n",
       "\n",
       "    .dataframe thead th {\n",
       "        text-align: right;\n",
       "    }\n",
       "</style>\n",
       "<table border=\"1\" class=\"dataframe\">\n",
       "  <thead>\n",
       "    <tr style=\"text-align: right;\">\n",
       "      <th></th>\n",
       "      <th>set_num</th>\n",
       "      <th>set_name</th>\n",
       "      <th>year</th>\n",
       "      <th>theme_id</th>\n",
       "      <th>num_parts</th>\n",
       "      <th>set_num_len</th>\n",
       "      <th>set_name_len</th>\n",
       "      <th>theme_name</th>\n",
       "      <th>id</th>\n",
       "      <th>part_num</th>\n",
       "      <th>color_id</th>\n",
       "      <th>quantity</th>\n",
       "      <th>color_name</th>\n",
       "      <th>part_name</th>\n",
       "      <th>is_trans</th>\n",
       "      <th>theme_name_len</th>\n",
       "      <th>part_num_len</th>\n",
       "      <th>color_name_len</th>\n",
       "      <th>part_name_len</th>\n",
       "      <th>is_ninjago</th>\n",
       "    </tr>\n",
       "  </thead>\n",
       "  <tbody>\n",
       "    <tr>\n",
       "      <th>0</th>\n",
       "      <td>001-1</td>\n",
       "      <td>Gears</td>\n",
       "      <td>1965</td>\n",
       "      <td>1</td>\n",
       "      <td>43</td>\n",
       "      <td>5</td>\n",
       "      <td>5</td>\n",
       "      <td>Technic</td>\n",
       "      <td>24696</td>\n",
       "      <td>132a</td>\n",
       "      <td>7</td>\n",
       "      <td>4</td>\n",
       "      <td>Light Gray</td>\n",
       "      <td>Tyre Smooth Old Style - Small</td>\n",
       "      <td>0</td>\n",
       "      <td>7</td>\n",
       "      <td>4</td>\n",
       "      <td>10</td>\n",
       "      <td>29</td>\n",
       "      <td>0</td>\n",
       "    </tr>\n",
       "    <tr>\n",
       "      <th>1</th>\n",
       "      <td>001-1</td>\n",
       "      <td>Gears</td>\n",
       "      <td>1965</td>\n",
       "      <td>1</td>\n",
       "      <td>43</td>\n",
       "      <td>5</td>\n",
       "      <td>5</td>\n",
       "      <td>Technic</td>\n",
       "      <td>24696</td>\n",
       "      <td>3020</td>\n",
       "      <td>15</td>\n",
       "      <td>4</td>\n",
       "      <td>White</td>\n",
       "      <td>Plate 2 x 4</td>\n",
       "      <td>0</td>\n",
       "      <td>7</td>\n",
       "      <td>4</td>\n",
       "      <td>5</td>\n",
       "      <td>11</td>\n",
       "      <td>0</td>\n",
       "    </tr>\n",
       "    <tr>\n",
       "      <th>2</th>\n",
       "      <td>001-1</td>\n",
       "      <td>Gears</td>\n",
       "      <td>1965</td>\n",
       "      <td>1</td>\n",
       "      <td>43</td>\n",
       "      <td>5</td>\n",
       "      <td>5</td>\n",
       "      <td>Technic</td>\n",
       "      <td>24696</td>\n",
       "      <td>3062c</td>\n",
       "      <td>15</td>\n",
       "      <td>1</td>\n",
       "      <td>White</td>\n",
       "      <td>Brick Round 1 x 1 Solid Stud, No Bottom Groove</td>\n",
       "      <td>0</td>\n",
       "      <td>7</td>\n",
       "      <td>5</td>\n",
       "      <td>5</td>\n",
       "      <td>46</td>\n",
       "      <td>0</td>\n",
       "    </tr>\n",
       "    <tr>\n",
       "      <th>3</th>\n",
       "      <td>001-1</td>\n",
       "      <td>Gears</td>\n",
       "      <td>1965</td>\n",
       "      <td>1</td>\n",
       "      <td>43</td>\n",
       "      <td>5</td>\n",
       "      <td>5</td>\n",
       "      <td>Technic</td>\n",
       "      <td>24696</td>\n",
       "      <td>3404bc01</td>\n",
       "      <td>15</td>\n",
       "      <td>4</td>\n",
       "      <td>White</td>\n",
       "      <td>Turntable 4 x 4 - Old Type Complete, Perfectly...</td>\n",
       "      <td>0</td>\n",
       "      <td>7</td>\n",
       "      <td>8</td>\n",
       "      <td>5</td>\n",
       "      <td>52</td>\n",
       "      <td>0</td>\n",
       "    </tr>\n",
       "    <tr>\n",
       "      <th>4</th>\n",
       "      <td>001-1</td>\n",
       "      <td>Gears</td>\n",
       "      <td>1965</td>\n",
       "      <td>1</td>\n",
       "      <td>43</td>\n",
       "      <td>5</td>\n",
       "      <td>5</td>\n",
       "      <td>Technic</td>\n",
       "      <td>24696</td>\n",
       "      <td>36</td>\n",
       "      <td>7</td>\n",
       "      <td>4</td>\n",
       "      <td>Light Gray</td>\n",
       "      <td>Tyre Smooth Old Style - Large</td>\n",
       "      <td>0</td>\n",
       "      <td>7</td>\n",
       "      <td>2</td>\n",
       "      <td>10</td>\n",
       "      <td>29</td>\n",
       "      <td>0</td>\n",
       "    </tr>\n",
       "  </tbody>\n",
       "</table>\n",
       "</div>"
      ],
      "text/plain": [
       "  set_num set_name  year  theme_id  num_parts  set_num_len  set_name_len  \\\n",
       "0   001-1    Gears  1965         1         43            5             5   \n",
       "1   001-1    Gears  1965         1         43            5             5   \n",
       "2   001-1    Gears  1965         1         43            5             5   \n",
       "3   001-1    Gears  1965         1         43            5             5   \n",
       "4   001-1    Gears  1965         1         43            5             5   \n",
       "\n",
       "  theme_name     id  part_num  color_id  quantity  color_name  \\\n",
       "0    Technic  24696      132a         7         4  Light Gray   \n",
       "1    Technic  24696      3020        15         4       White   \n",
       "2    Technic  24696     3062c        15         1       White   \n",
       "3    Technic  24696  3404bc01        15         4       White   \n",
       "4    Technic  24696        36         7         4  Light Gray   \n",
       "\n",
       "                                           part_name  is_trans  \\\n",
       "0                      Tyre Smooth Old Style - Small         0   \n",
       "1                                        Plate 2 x 4         0   \n",
       "2     Brick Round 1 x 1 Solid Stud, No Bottom Groove         0   \n",
       "3  Turntable 4 x 4 - Old Type Complete, Perfectly...         0   \n",
       "4                      Tyre Smooth Old Style - Large         0   \n",
       "\n",
       "   theme_name_len  part_num_len  color_name_len  part_name_len  is_ninjago  \n",
       "0               7             4              10             29           0  \n",
       "1               7             4               5             11           0  \n",
       "2               7             5               5             46           0  \n",
       "3               7             8               5             52           0  \n",
       "4               7             2              10             29           0  "
      ]
     },
     "execution_count": 4,
     "metadata": {},
     "output_type": "execute_result"
    }
   ],
   "source": [
    "df.head()"
   ]
  },
  {
   "cell_type": "code",
   "execution_count": 5,
   "id": "6eae6891",
   "metadata": {},
   "outputs": [
    {
     "data": {
      "text/plain": [
       "(919288, 20)"
      ]
     },
     "execution_count": 5,
     "metadata": {},
     "output_type": "execute_result"
    }
   ],
   "source": [
    "df.shape"
   ]
  },
  {
   "cell_type": "code",
   "execution_count": 6,
   "id": "5b656dbb",
   "metadata": {},
   "outputs": [
    {
     "data": {
      "text/plain": [
       "Index(['set_num', 'set_name', 'year', 'theme_id', 'num_parts', 'set_num_len',\n",
       "       'set_name_len', 'theme_name', 'id', 'part_num', 'color_id', 'quantity',\n",
       "       'color_name', 'part_name', 'is_trans', 'theme_name_len', 'part_num_len',\n",
       "       'color_name_len', 'part_name_len', 'is_ninjago'],\n",
       "      dtype='object')"
      ]
     },
     "execution_count": 6,
     "metadata": {},
     "output_type": "execute_result"
    }
   ],
   "source": [
    "df.columns"
   ]
  },
  {
   "cell_type": "code",
   "execution_count": 7,
   "id": "c92949e4",
   "metadata": {},
   "outputs": [
    {
     "data": {
      "text/plain": [
       "['set_num',\n",
       " 'set_name',\n",
       " 'theme_id',\n",
       " 'num_parts',\n",
       " 'set_num_len',\n",
       " 'set_name_len',\n",
       " 'theme_name',\n",
       " 'id',\n",
       " 'part_num',\n",
       " 'color_name',\n",
       " 'part_name',\n",
       " 'theme_name_len',\n",
       " 'is_ninjago']"
      ]
     },
     "execution_count": 7,
     "metadata": {},
     "output_type": "execute_result"
    }
   ],
   "source": [
    "target_names = 'set_num set_name theme_id num_parts set_num_len set_name_len theme_name id part_num color_name part_name theme_name_len is_ninjago'.split()\n",
    "target_names"
   ]
  },
  {
   "cell_type": "code",
   "execution_count": 8,
   "id": "b0c23155",
   "metadata": {},
   "outputs": [],
   "source": [
    "model = LogisticRegression()"
   ]
  },
  {
   "cell_type": "code",
   "execution_count": 9,
   "id": "2285c43c",
   "metadata": {},
   "outputs": [],
   "source": [
    "fn_over = list()\n",
    "for i, name in enumerate(df.columns):\n",
    "    if i > 100:\n",
    "        break\n",
    "    if name in target_names:\n",
    "        continue\n",
    "    fn_over.append(name)"
   ]
  },
  {
   "cell_type": "code",
   "execution_count": 10,
   "id": "387fc75e",
   "metadata": {},
   "outputs": [],
   "source": [
    "X = df[fn_over]\n",
    "y = df['is_ninjago']"
   ]
  },
  {
   "cell_type": "code",
   "execution_count": 11,
   "id": "42ccb5d7",
   "metadata": {},
   "outputs": [],
   "source": [
    "X_train, X_test, y_train, y_test = train_test_split(X, y, test_size= 0.1, random_state=1)"
   ]
  },
  {
   "cell_type": "code",
   "execution_count": 12,
   "id": "337f4c6d",
   "metadata": {},
   "outputs": [],
   "source": [
    "df_train = pd.concat([pd.DataFrame(X_train, columns=fn_over), pd.DataFrame(y_train, columns=['is_ninjago'])], axis=1)"
   ]
  },
  {
   "cell_type": "code",
   "execution_count": 13,
   "id": "e219143b",
   "metadata": {},
   "outputs": [],
   "source": [
    "df_test = pd.concat([pd.DataFrame(X_test, columns=fn_over), pd.DataFrame(y_test, columns=['is_ninjago'])], axis=1)"
   ]
  },
  {
   "cell_type": "code",
   "execution_count": 14,
   "id": "981e3821",
   "metadata": {},
   "outputs": [
    {
     "name": "stdout",
     "output_type": "stream",
     "text": [
      "(827359, 8)\n",
      "(91929, 8)\n"
     ]
    }
   ],
   "source": [
    "print(df_train.shape)\n",
    "print(df_test.shape)"
   ]
  },
  {
   "cell_type": "code",
   "execution_count": 15,
   "id": "0e96fdc6",
   "metadata": {},
   "outputs": [
    {
     "data": {
      "text/html": [
       "<div>\n",
       "<style scoped>\n",
       "    .dataframe tbody tr th:only-of-type {\n",
       "        vertical-align: middle;\n",
       "    }\n",
       "\n",
       "    .dataframe tbody tr th {\n",
       "        vertical-align: top;\n",
       "    }\n",
       "\n",
       "    .dataframe thead th {\n",
       "        text-align: right;\n",
       "    }\n",
       "</style>\n",
       "<table border=\"1\" class=\"dataframe\">\n",
       "  <thead>\n",
       "    <tr style=\"text-align: right;\">\n",
       "      <th></th>\n",
       "      <th>year</th>\n",
       "      <th>color_id</th>\n",
       "      <th>quantity</th>\n",
       "      <th>is_trans</th>\n",
       "      <th>part_num_len</th>\n",
       "      <th>color_name_len</th>\n",
       "      <th>part_name_len</th>\n",
       "      <th>is_ninjago</th>\n",
       "    </tr>\n",
       "  </thead>\n",
       "  <tbody>\n",
       "    <tr>\n",
       "      <th>774631</th>\n",
       "      <td>2014</td>\n",
       "      <td>15</td>\n",
       "      <td>1</td>\n",
       "      <td>0</td>\n",
       "      <td>11</td>\n",
       "      <td>5</td>\n",
       "      <td>59</td>\n",
       "      <td>0</td>\n",
       "    </tr>\n",
       "    <tr>\n",
       "      <th>417226</th>\n",
       "      <td>2013</td>\n",
       "      <td>0</td>\n",
       "      <td>1</td>\n",
       "      <td>0</td>\n",
       "      <td>5</td>\n",
       "      <td>5</td>\n",
       "      <td>45</td>\n",
       "      <td>0</td>\n",
       "    </tr>\n",
       "    <tr>\n",
       "      <th>414960</th>\n",
       "      <td>2010</td>\n",
       "      <td>0</td>\n",
       "      <td>1</td>\n",
       "      <td>0</td>\n",
       "      <td>5</td>\n",
       "      <td>5</td>\n",
       "      <td>57</td>\n",
       "      <td>0</td>\n",
       "    </tr>\n",
       "    <tr>\n",
       "      <th>896798</th>\n",
       "      <td>2008</td>\n",
       "      <td>0</td>\n",
       "      <td>2</td>\n",
       "      <td>0</td>\n",
       "      <td>4</td>\n",
       "      <td>5</td>\n",
       "      <td>12</td>\n",
       "      <td>0</td>\n",
       "    </tr>\n",
       "    <tr>\n",
       "      <th>591153</th>\n",
       "      <td>2007</td>\n",
       "      <td>70</td>\n",
       "      <td>3</td>\n",
       "      <td>0</td>\n",
       "      <td>6</td>\n",
       "      <td>13</td>\n",
       "      <td>53</td>\n",
       "      <td>0</td>\n",
       "    </tr>\n",
       "    <tr>\n",
       "      <th>555268</th>\n",
       "      <td>2016</td>\n",
       "      <td>2</td>\n",
       "      <td>3</td>\n",
       "      <td>0</td>\n",
       "      <td>4</td>\n",
       "      <td>5</td>\n",
       "      <td>11</td>\n",
       "      <td>1</td>\n",
       "    </tr>\n",
       "    <tr>\n",
       "      <th>575778</th>\n",
       "      <td>2015</td>\n",
       "      <td>19</td>\n",
       "      <td>1</td>\n",
       "      <td>0</td>\n",
       "      <td>5</td>\n",
       "      <td>3</td>\n",
       "      <td>27</td>\n",
       "      <td>1</td>\n",
       "    </tr>\n",
       "    <tr>\n",
       "      <th>576490</th>\n",
       "      <td>2015</td>\n",
       "      <td>0</td>\n",
       "      <td>1</td>\n",
       "      <td>0</td>\n",
       "      <td>6</td>\n",
       "      <td>5</td>\n",
       "      <td>54</td>\n",
       "      <td>1</td>\n",
       "    </tr>\n",
       "    <tr>\n",
       "      <th>612760</th>\n",
       "      <td>2020</td>\n",
       "      <td>27</td>\n",
       "      <td>8</td>\n",
       "      <td>0</td>\n",
       "      <td>4</td>\n",
       "      <td>4</td>\n",
       "      <td>33</td>\n",
       "      <td>1</td>\n",
       "    </tr>\n",
       "    <tr>\n",
       "      <th>567503</th>\n",
       "      <td>2019</td>\n",
       "      <td>0</td>\n",
       "      <td>2</td>\n",
       "      <td>0</td>\n",
       "      <td>5</td>\n",
       "      <td>5</td>\n",
       "      <td>43</td>\n",
       "      <td>1</td>\n",
       "    </tr>\n",
       "  </tbody>\n",
       "</table>\n",
       "</div>"
      ],
      "text/plain": [
       "        year  color_id  quantity  is_trans  part_num_len  color_name_len  \\\n",
       "774631  2014        15         1         0            11               5   \n",
       "417226  2013         0         1         0             5               5   \n",
       "414960  2010         0         1         0             5               5   \n",
       "896798  2008         0         2         0             4               5   \n",
       "591153  2007        70         3         0             6              13   \n",
       "555268  2016         2         3         0             4               5   \n",
       "575778  2015        19         1         0             5               3   \n",
       "576490  2015         0         1         0             6               5   \n",
       "612760  2020        27         8         0             4               4   \n",
       "567503  2019         0         2         0             5               5   \n",
       "\n",
       "        part_name_len  is_ninjago  \n",
       "774631             59           0  \n",
       "417226             45           0  \n",
       "414960             57           0  \n",
       "896798             12           0  \n",
       "591153             53           0  \n",
       "555268             11           1  \n",
       "575778             27           1  \n",
       "576490             54           1  \n",
       "612760             33           1  \n",
       "567503             43           1  "
      ]
     },
     "execution_count": 15,
     "metadata": {},
     "output_type": "execute_result"
    }
   ],
   "source": [
    "df_grouped_train = df_train.groupby('is_ninjago')\n",
    "\n",
    "df_grouped_train.head()"
   ]
  },
  {
   "cell_type": "code",
   "execution_count": 16,
   "id": "824d4d6e",
   "metadata": {},
   "outputs": [
    {
     "name": "stdout",
     "output_type": "stream",
     "text": [
      "is_ninjago\n",
      "0    795565\n",
      "1     31794\n",
      "dtype: int64\n"
     ]
    }
   ],
   "source": [
    "print(df_grouped_train.size())"
   ]
  },
  {
   "cell_type": "code",
   "execution_count": 17,
   "id": "7c7146a4",
   "metadata": {},
   "outputs": [
    {
     "name": "stdout",
     "output_type": "stream",
     "text": [
      "[795565, 31794]\n"
     ]
    }
   ],
   "source": [
    "list(df_grouped_train)[0][1]\n",
    "\n",
    "lengths = []\n",
    "\n",
    "for is_ninjago, group in df_grouped_train:\n",
    "    lengths.append(group.shape[0])\n",
    "    \n",
    "print(lengths)"
   ]
  },
  {
   "cell_type": "code",
   "execution_count": 18,
   "id": "4d36f457",
   "metadata": {},
   "outputs": [
    {
     "data": {
      "text/plain": [
       "[        year  color_id  quantity  is_trans  part_num_len  color_name_len  \\\n",
       " 513984  2012       272         2         0             5               9   \n",
       " 843652  2006        15        34         0             4               5   \n",
       " 363145  2011        71         2         0             4              17   \n",
       " 769334  2012         0         1         0            15               5   \n",
       " 887605  2012        47         1         1             4              11   \n",
       " ...      ...       ...       ...       ...           ...             ...   \n",
       " 908747  2014        19         1         0             5               3   \n",
       " 722204  2019        14         1         0             6               6   \n",
       " 462766  1990         7         2         0             4              10   \n",
       " 101585  2021       191         2         0             5              19   \n",
       " 15776   2009        19        14         0             4               3   \n",
       " \n",
       "         part_name_len  is_ninjago  \n",
       " 513984             52           0  \n",
       " 843652             11           0  \n",
       " 363145             22           0  \n",
       " 769334             72           0  \n",
       " 887605             32           0  \n",
       " ...               ...         ...  \n",
       " 908747             31           0  \n",
       " 722204             51           0  \n",
       " 462766             11           0  \n",
       " 101585             39           0  \n",
       " 15776              11           0  \n",
       " \n",
       " [795565 rows x 8 columns],\n",
       "         year  color_id  quantity  is_trans  part_num_len  color_name_len  \\\n",
       " 619319  2021        15         1         0             5               5   \n",
       " 619695  2021       297         2         0             5              10   \n",
       " 132835  2011         4         8         0             5               3   \n",
       " 609557  2020         1         1         0             5               4   \n",
       " 569130  2019        71         2         0             5              17   \n",
       " ...      ...       ...       ...       ...           ...             ...   \n",
       " 575478  2015         0        12         0             5               5   \n",
       " 566272  2019         0         2         0             5               5   \n",
       " 572866  2014       288         3         0             5              10   \n",
       " 555081  2016       326         1         0             5              11   \n",
       " 611411  2020        71         4         0             4              17   \n",
       " \n",
       "         part_name_len  is_ninjago  \n",
       " 619319             35           1  \n",
       " 619695             35           1  \n",
       " 132835             47           1  \n",
       " 609557             44           1  \n",
       " 569130             14           1  \n",
       " ...               ...         ...  \n",
       " 575478             47           1  \n",
       " 566272             15           1  \n",
       " 572866             23           1  \n",
       " 555081             55           1  \n",
       " 611411             46           1  \n",
       " \n",
       " [795565 rows x 8 columns]]"
      ]
     },
     "execution_count": 18,
     "metadata": {},
     "output_type": "execute_result"
    }
   ],
   "source": [
    "dfs_train = list()\n",
    "\n",
    "for is_ninjago, group in df_grouped_train:\n",
    "    dfs_train.append(group.sample(max(lengths), replace=True))\n",
    "    \n",
    "dfs_train"
   ]
  },
  {
   "cell_type": "code",
   "execution_count": 19,
   "id": "a1059142",
   "metadata": {},
   "outputs": [
    {
     "data": {
      "text/html": [
       "<div>\n",
       "<style scoped>\n",
       "    .dataframe tbody tr th:only-of-type {\n",
       "        vertical-align: middle;\n",
       "    }\n",
       "\n",
       "    .dataframe tbody tr th {\n",
       "        vertical-align: top;\n",
       "    }\n",
       "\n",
       "    .dataframe thead th {\n",
       "        text-align: right;\n",
       "    }\n",
       "</style>\n",
       "<table border=\"1\" class=\"dataframe\">\n",
       "  <thead>\n",
       "    <tr style=\"text-align: right;\">\n",
       "      <th></th>\n",
       "      <th>year</th>\n",
       "      <th>color_id</th>\n",
       "      <th>quantity</th>\n",
       "      <th>is_trans</th>\n",
       "      <th>part_num_len</th>\n",
       "      <th>color_name_len</th>\n",
       "      <th>part_name_len</th>\n",
       "      <th>is_ninjago</th>\n",
       "    </tr>\n",
       "  </thead>\n",
       "  <tbody>\n",
       "    <tr>\n",
       "      <th>513984</th>\n",
       "      <td>2012</td>\n",
       "      <td>272</td>\n",
       "      <td>2</td>\n",
       "      <td>0</td>\n",
       "      <td>5</td>\n",
       "      <td>9</td>\n",
       "      <td>52</td>\n",
       "      <td>0</td>\n",
       "    </tr>\n",
       "    <tr>\n",
       "      <th>843652</th>\n",
       "      <td>2006</td>\n",
       "      <td>15</td>\n",
       "      <td>34</td>\n",
       "      <td>0</td>\n",
       "      <td>4</td>\n",
       "      <td>5</td>\n",
       "      <td>11</td>\n",
       "      <td>0</td>\n",
       "    </tr>\n",
       "    <tr>\n",
       "      <th>363145</th>\n",
       "      <td>2011</td>\n",
       "      <td>71</td>\n",
       "      <td>2</td>\n",
       "      <td>0</td>\n",
       "      <td>4</td>\n",
       "      <td>17</td>\n",
       "      <td>22</td>\n",
       "      <td>0</td>\n",
       "    </tr>\n",
       "    <tr>\n",
       "      <th>769334</th>\n",
       "      <td>2012</td>\n",
       "      <td>0</td>\n",
       "      <td>1</td>\n",
       "      <td>0</td>\n",
       "      <td>15</td>\n",
       "      <td>5</td>\n",
       "      <td>72</td>\n",
       "      <td>0</td>\n",
       "    </tr>\n",
       "    <tr>\n",
       "      <th>887605</th>\n",
       "      <td>2012</td>\n",
       "      <td>47</td>\n",
       "      <td>1</td>\n",
       "      <td>1</td>\n",
       "      <td>4</td>\n",
       "      <td>11</td>\n",
       "      <td>32</td>\n",
       "      <td>0</td>\n",
       "    </tr>\n",
       "  </tbody>\n",
       "</table>\n",
       "</div>"
      ],
      "text/plain": [
       "        year  color_id  quantity  is_trans  part_num_len  color_name_len  \\\n",
       "513984  2012       272         2         0             5               9   \n",
       "843652  2006        15        34         0             4               5   \n",
       "363145  2011        71         2         0             4              17   \n",
       "769334  2012         0         1         0            15               5   \n",
       "887605  2012        47         1         1             4              11   \n",
       "\n",
       "        part_name_len  is_ninjago  \n",
       "513984             52           0  \n",
       "843652             11           0  \n",
       "363145             22           0  \n",
       "769334             72           0  \n",
       "887605             32           0  "
      ]
     },
     "execution_count": 19,
     "metadata": {},
     "output_type": "execute_result"
    }
   ],
   "source": [
    "df_balancedbyover = pd.concat(dfs_train)\n",
    "df_balancedbyover.head()"
   ]
  },
  {
   "cell_type": "code",
   "execution_count": 20,
   "id": "d4345444",
   "metadata": {},
   "outputs": [
    {
     "data": {
      "text/plain": [
       "(1591130, 8)"
      ]
     },
     "execution_count": 20,
     "metadata": {},
     "output_type": "execute_result"
    }
   ],
   "source": [
    "df_balancedbyover.shape"
   ]
  },
  {
   "cell_type": "code",
   "execution_count": 21,
   "id": "34787fcd",
   "metadata": {
    "scrolled": false
   },
   "outputs": [
    {
     "name": "stderr",
     "output_type": "stream",
     "text": [
      " 86%|████████████████████████████████████████████████████████████████████████            | 6/7 [00:17<00:03,  3.24s/it]C:\\Users\\marki\\anaconda3\\lib\\site-packages\\sklearn\\linear_model\\_logistic.py:814: ConvergenceWarning: lbfgs failed to converge (status=1):\n",
      "STOP: TOTAL NO. of ITERATIONS REACHED LIMIT.\n",
      "\n",
      "Increase the number of iterations (max_iter) or scale the data as shown in:\n",
      "    https://scikit-learn.org/stable/modules/preprocessing.html\n",
      "Please also refer to the documentation for alternative solver options:\n",
      "    https://scikit-learn.org/stable/modules/linear_model.html#logistic-regression\n",
      "  n_iter_i = _check_optimize_result(\n",
      "8it [00:32,  4.07s/it]                                                                                                 \n"
     ]
    }
   ],
   "source": [
    "hyper_table_df_grouped = list()\n",
    "fn_over = list()\n",
    "for i, name in tqdm(enumerate(df_balancedbyover.columns), total=len(df_balancedbyover.columns)-1):\n",
    "    if i > 100:\n",
    "        break\n",
    "    if name in target_names:\n",
    "        continue\n",
    "    fn_over.append(name)\n",
    "    model.fit(df_balancedbyover[fn_over], df_balancedbyover['is_ninjago'])\n",
    "\n",
    "    s_train = model.score(df_balancedbyover[fn_over], df_balancedbyover['is_ninjago'])\n",
    "    s_test = model.score(df_test[fn_over], df_test['is_ninjago'])\n",
    "    y_pred = model.predict(df_test[fn_over])\n",
    "\n",
    "    conf_matrix = confusion_matrix(y_true=df_test['is_ninjago'], y_pred=y_pred)\n",
    "    conf_matrix\n",
    "\n",
    "    precision = precision_score(df_test['is_ninjago'], y_pred)\n",
    "    recall = recall_score(df_test['is_ninjago'], y_pred)\n",
    "    accuracy = accuracy_score(df_test['is_ninjago'], y_pred)\n",
    "    f1 = f1_score(df_test['is_ninjago'], y_pred)\n",
    "    \n",
    "    hyper_table_df_grouped.append(dict(sample='over', \n",
    "                         desc=str(fn_over), \n",
    "                         train_score=s_train, \n",
    "                         test_score=s_test, \n",
    "                         precision=precision,\n",
    "                         recall=recall,\n",
    "                         accuracy=accuracy,\n",
    "                         f1_score=f1,\n",
    "                         model=model, \n",
    "                         num_features=df_balancedbyover[fn_over].shape[1], \n",
    "                         num_rows_train=df_balancedbyover.shape[0],\n",
    "                         num_rows_test=df_test.shape[0],\n",
    "                         last_feature=fn_over[-1]))"
   ]
  },
  {
   "cell_type": "code",
   "execution_count": 22,
   "id": "c9c393f8",
   "metadata": {},
   "outputs": [],
   "source": [
    "model_rf = RandomForestClassifier(n_estimators=200, random_state = 1, n_jobs=-1)"
   ]
  },
  {
   "cell_type": "code",
   "execution_count": 23,
   "id": "de1cbb1a",
   "metadata": {},
   "outputs": [
    {
     "name": "stderr",
     "output_type": "stream",
     "text": [
      "8it [14:30, 108.80s/it]                                                                                                \n"
     ]
    }
   ],
   "source": [
    "fn_over = list()\n",
    "for i, name in tqdm(enumerate(df_balancedbyover.columns), total=len(df_balancedbyover.columns)-1):\n",
    "    if i > 100:\n",
    "        break\n",
    "    if name in target_names:\n",
    "        continue\n",
    "    fn_over.append(name)\n",
    "    model_rf.fit(df_balancedbyover[fn_over], df_balancedbyover['is_ninjago'])\n",
    "    \n",
    "    s_train = model_rf.score(df_balancedbyover[fn_over], df_balancedbyover['is_ninjago'])\n",
    "    s_test = model_rf.score(df_test[fn_over], df_test['is_ninjago'])\n",
    "    y_pred = model_rf.predict(df_test[fn_over])\n",
    "\n",
    "    conf_matrix = confusion_matrix(y_true=df_test['is_ninjago'], y_pred=y_pred)\n",
    "    conf_matrix\n",
    "\n",
    "    precision = precision_score(df_test['is_ninjago'], y_pred)\n",
    "    recall = recall_score(df_test['is_ninjago'], y_pred)\n",
    "    accuracy = accuracy_score(df_test['is_ninjago'], y_pred)\n",
    "    f1 = f1_score(df_test['is_ninjago'], y_pred)\n",
    "    \n",
    "    hyper_table_df_grouped.append(dict(sample='over', \n",
    "                         desc=str(fn_over), \n",
    "                         train_score=s_train, \n",
    "                         test_score=s_test, \n",
    "                         precision=precision,\n",
    "                         recall=recall,\n",
    "                         accuracy=accuracy,\n",
    "                         f1_score=f1,\n",
    "                         model=model_rf, \n",
    "                         num_features=df_balancedbyover[fn_over].shape[1], \n",
    "                         num_rows_train=df_balancedbyover.shape[0],\n",
    "                         num_rows_test=df_test.shape[0], \n",
    "                         last_feature=fn_over[-1]))"
   ]
  },
  {
   "cell_type": "code",
   "execution_count": 24,
   "id": "fc13001b",
   "metadata": {},
   "outputs": [
    {
     "data": {
      "text/html": [
       "<div>\n",
       "<style scoped>\n",
       "    .dataframe tbody tr th:only-of-type {\n",
       "        vertical-align: middle;\n",
       "    }\n",
       "\n",
       "    .dataframe tbody tr th {\n",
       "        vertical-align: top;\n",
       "    }\n",
       "\n",
       "    .dataframe thead th {\n",
       "        text-align: right;\n",
       "    }\n",
       "</style>\n",
       "<table border=\"1\" class=\"dataframe\">\n",
       "  <thead>\n",
       "    <tr style=\"text-align: right;\">\n",
       "      <th></th>\n",
       "      <th>sample</th>\n",
       "      <th>desc</th>\n",
       "      <th>train_score</th>\n",
       "      <th>test_score</th>\n",
       "      <th>precision</th>\n",
       "      <th>recall</th>\n",
       "      <th>accuracy</th>\n",
       "      <th>f1_score</th>\n",
       "      <th>model</th>\n",
       "      <th>num_features</th>\n",
       "      <th>num_rows_train</th>\n",
       "      <th>num_rows_test</th>\n",
       "      <th>last_feature</th>\n",
       "    </tr>\n",
       "  </thead>\n",
       "  <tbody>\n",
       "    <tr>\n",
       "      <th>13</th>\n",
       "      <td>over</td>\n",
       "      <td>['year', 'color_id', 'quantity', 'is_trans', '...</td>\n",
       "      <td>0.885157</td>\n",
       "      <td>0.791698</td>\n",
       "      <td>0.120692</td>\n",
       "      <td>0.670114</td>\n",
       "      <td>0.791698</td>\n",
       "      <td>0.204545</td>\n",
       "      <td>(DecisionTreeClassifier(max_features='auto', r...</td>\n",
       "      <td>7</td>\n",
       "      <td>1591130</td>\n",
       "      <td>91929</td>\n",
       "      <td>part_name_len</td>\n",
       "    </tr>\n",
       "    <tr>\n",
       "      <th>3</th>\n",
       "      <td>over</td>\n",
       "      <td>['year', 'color_id', 'quantity', 'is_trans']</td>\n",
       "      <td>0.572827</td>\n",
       "      <td>0.711582</td>\n",
       "      <td>0.060566</td>\n",
       "      <td>0.428416</td>\n",
       "      <td>0.711582</td>\n",
       "      <td>0.106129</td>\n",
       "      <td>LogisticRegression()</td>\n",
       "      <td>4</td>\n",
       "      <td>1591130</td>\n",
       "      <td>91929</td>\n",
       "      <td>is_trans</td>\n",
       "    </tr>\n",
       "    <tr>\n",
       "      <th>4</th>\n",
       "      <td>over</td>\n",
       "      <td>['year', 'color_id', 'quantity', 'is_trans', '...</td>\n",
       "      <td>0.571718</td>\n",
       "      <td>0.710918</td>\n",
       "      <td>0.060188</td>\n",
       "      <td>0.426511</td>\n",
       "      <td>0.710918</td>\n",
       "      <td>0.105490</td>\n",
       "      <td>LogisticRegression()</td>\n",
       "      <td>5</td>\n",
       "      <td>1591130</td>\n",
       "      <td>91929</td>\n",
       "      <td>part_num_len</td>\n",
       "    </tr>\n",
       "    <tr>\n",
       "      <th>2</th>\n",
       "      <td>over</td>\n",
       "      <td>['year', 'color_id', 'quantity']</td>\n",
       "      <td>0.573137</td>\n",
       "      <td>0.710755</td>\n",
       "      <td>0.060491</td>\n",
       "      <td>0.429232</td>\n",
       "      <td>0.710755</td>\n",
       "      <td>0.106038</td>\n",
       "      <td>LogisticRegression()</td>\n",
       "      <td>3</td>\n",
       "      <td>1591130</td>\n",
       "      <td>91929</td>\n",
       "      <td>quantity</td>\n",
       "    </tr>\n",
       "    <tr>\n",
       "      <th>11</th>\n",
       "      <td>over</td>\n",
       "      <td>['year', 'color_id', 'quantity', 'is_trans', '...</td>\n",
       "      <td>0.797946</td>\n",
       "      <td>0.678110</td>\n",
       "      <td>0.096572</td>\n",
       "      <td>0.844311</td>\n",
       "      <td>0.678110</td>\n",
       "      <td>0.173320</td>\n",
       "      <td>(DecisionTreeClassifier(max_features='auto', r...</td>\n",
       "      <td>5</td>\n",
       "      <td>1591130</td>\n",
       "      <td>91929</td>\n",
       "      <td>part_num_len</td>\n",
       "    </tr>\n",
       "    <tr>\n",
       "      <th>12</th>\n",
       "      <td>over</td>\n",
       "      <td>['year', 'color_id', 'quantity', 'is_trans', '...</td>\n",
       "      <td>0.797946</td>\n",
       "      <td>0.678078</td>\n",
       "      <td>0.096664</td>\n",
       "      <td>0.845400</td>\n",
       "      <td>0.678078</td>\n",
       "      <td>0.173490</td>\n",
       "      <td>(DecisionTreeClassifier(max_features='auto', r...</td>\n",
       "      <td>6</td>\n",
       "      <td>1591130</td>\n",
       "      <td>91929</td>\n",
       "      <td>color_name_len</td>\n",
       "    </tr>\n",
       "    <tr>\n",
       "      <th>1</th>\n",
       "      <td>over</td>\n",
       "      <td>['year', 'color_id']</td>\n",
       "      <td>0.579348</td>\n",
       "      <td>0.673215</td>\n",
       "      <td>0.058475</td>\n",
       "      <td>0.475231</td>\n",
       "      <td>0.673215</td>\n",
       "      <td>0.104136</td>\n",
       "      <td>LogisticRegression()</td>\n",
       "      <td>2</td>\n",
       "      <td>1591130</td>\n",
       "      <td>91929</td>\n",
       "      <td>color_id</td>\n",
       "    </tr>\n",
       "    <tr>\n",
       "      <th>9</th>\n",
       "      <td>over</td>\n",
       "      <td>['year', 'color_id', 'quantity']</td>\n",
       "      <td>0.780773</td>\n",
       "      <td>0.647989</td>\n",
       "      <td>0.091181</td>\n",
       "      <td>0.870713</td>\n",
       "      <td>0.647989</td>\n",
       "      <td>0.165076</td>\n",
       "      <td>(DecisionTreeClassifier(max_features='auto', r...</td>\n",
       "      <td>3</td>\n",
       "      <td>1591130</td>\n",
       "      <td>91929</td>\n",
       "      <td>quantity</td>\n",
       "    </tr>\n",
       "    <tr>\n",
       "      <th>10</th>\n",
       "      <td>over</td>\n",
       "      <td>['year', 'color_id', 'quantity', 'is_trans']</td>\n",
       "      <td>0.780773</td>\n",
       "      <td>0.647978</td>\n",
       "      <td>0.091202</td>\n",
       "      <td>0.870985</td>\n",
       "      <td>0.647978</td>\n",
       "      <td>0.165114</td>\n",
       "      <td>(DecisionTreeClassifier(max_features='auto', r...</td>\n",
       "      <td>4</td>\n",
       "      <td>1591130</td>\n",
       "      <td>91929</td>\n",
       "      <td>is_trans</td>\n",
       "    </tr>\n",
       "    <tr>\n",
       "      <th>8</th>\n",
       "      <td>over</td>\n",
       "      <td>['year', 'color_id']</td>\n",
       "      <td>0.764667</td>\n",
       "      <td>0.635186</td>\n",
       "      <td>0.089940</td>\n",
       "      <td>0.891399</td>\n",
       "      <td>0.635186</td>\n",
       "      <td>0.163395</td>\n",
       "      <td>(DecisionTreeClassifier(max_features='auto', r...</td>\n",
       "      <td>2</td>\n",
       "      <td>1591130</td>\n",
       "      <td>91929</td>\n",
       "      <td>color_id</td>\n",
       "    </tr>\n",
       "    <tr>\n",
       "      <th>5</th>\n",
       "      <td>over</td>\n",
       "      <td>['year', 'color_id', 'quantity', 'is_trans', '...</td>\n",
       "      <td>0.568514</td>\n",
       "      <td>0.634131</td>\n",
       "      <td>0.054617</td>\n",
       "      <td>0.500000</td>\n",
       "      <td>0.634131</td>\n",
       "      <td>0.098478</td>\n",
       "      <td>LogisticRegression()</td>\n",
       "      <td>6</td>\n",
       "      <td>1591130</td>\n",
       "      <td>91929</td>\n",
       "      <td>color_name_len</td>\n",
       "    </tr>\n",
       "    <tr>\n",
       "      <th>6</th>\n",
       "      <td>over</td>\n",
       "      <td>['year', 'color_id', 'quantity', 'is_trans', '...</td>\n",
       "      <td>0.570329</td>\n",
       "      <td>0.586376</td>\n",
       "      <td>0.053618</td>\n",
       "      <td>0.561513</td>\n",
       "      <td>0.586376</td>\n",
       "      <td>0.097888</td>\n",
       "      <td>LogisticRegression()</td>\n",
       "      <td>7</td>\n",
       "      <td>1591130</td>\n",
       "      <td>91929</td>\n",
       "      <td>part_name_len</td>\n",
       "    </tr>\n",
       "    <tr>\n",
       "      <th>7</th>\n",
       "      <td>over</td>\n",
       "      <td>['year']</td>\n",
       "      <td>0.731290</td>\n",
       "      <td>0.534347</td>\n",
       "      <td>0.075371</td>\n",
       "      <td>0.945291</td>\n",
       "      <td>0.534347</td>\n",
       "      <td>0.139610</td>\n",
       "      <td>(DecisionTreeClassifier(max_features='auto', r...</td>\n",
       "      <td>1</td>\n",
       "      <td>1591130</td>\n",
       "      <td>91929</td>\n",
       "      <td>year</td>\n",
       "    </tr>\n",
       "    <tr>\n",
       "      <th>0</th>\n",
       "      <td>over</td>\n",
       "      <td>['year']</td>\n",
       "      <td>0.500000</td>\n",
       "      <td>0.039966</td>\n",
       "      <td>0.039966</td>\n",
       "      <td>1.000000</td>\n",
       "      <td>0.039966</td>\n",
       "      <td>0.076860</td>\n",
       "      <td>LogisticRegression()</td>\n",
       "      <td>1</td>\n",
       "      <td>1591130</td>\n",
       "      <td>91929</td>\n",
       "      <td>year</td>\n",
       "    </tr>\n",
       "  </tbody>\n",
       "</table>\n",
       "</div>"
      ],
      "text/plain": [
       "   sample                                               desc  train_score  \\\n",
       "13   over  ['year', 'color_id', 'quantity', 'is_trans', '...     0.885157   \n",
       "3    over       ['year', 'color_id', 'quantity', 'is_trans']     0.572827   \n",
       "4    over  ['year', 'color_id', 'quantity', 'is_trans', '...     0.571718   \n",
       "2    over                   ['year', 'color_id', 'quantity']     0.573137   \n",
       "11   over  ['year', 'color_id', 'quantity', 'is_trans', '...     0.797946   \n",
       "12   over  ['year', 'color_id', 'quantity', 'is_trans', '...     0.797946   \n",
       "1    over                               ['year', 'color_id']     0.579348   \n",
       "9    over                   ['year', 'color_id', 'quantity']     0.780773   \n",
       "10   over       ['year', 'color_id', 'quantity', 'is_trans']     0.780773   \n",
       "8    over                               ['year', 'color_id']     0.764667   \n",
       "5    over  ['year', 'color_id', 'quantity', 'is_trans', '...     0.568514   \n",
       "6    over  ['year', 'color_id', 'quantity', 'is_trans', '...     0.570329   \n",
       "7    over                                           ['year']     0.731290   \n",
       "0    over                                           ['year']     0.500000   \n",
       "\n",
       "    test_score  precision    recall  accuracy  f1_score  \\\n",
       "13    0.791698   0.120692  0.670114  0.791698  0.204545   \n",
       "3     0.711582   0.060566  0.428416  0.711582  0.106129   \n",
       "4     0.710918   0.060188  0.426511  0.710918  0.105490   \n",
       "2     0.710755   0.060491  0.429232  0.710755  0.106038   \n",
       "11    0.678110   0.096572  0.844311  0.678110  0.173320   \n",
       "12    0.678078   0.096664  0.845400  0.678078  0.173490   \n",
       "1     0.673215   0.058475  0.475231  0.673215  0.104136   \n",
       "9     0.647989   0.091181  0.870713  0.647989  0.165076   \n",
       "10    0.647978   0.091202  0.870985  0.647978  0.165114   \n",
       "8     0.635186   0.089940  0.891399  0.635186  0.163395   \n",
       "5     0.634131   0.054617  0.500000  0.634131  0.098478   \n",
       "6     0.586376   0.053618  0.561513  0.586376  0.097888   \n",
       "7     0.534347   0.075371  0.945291  0.534347  0.139610   \n",
       "0     0.039966   0.039966  1.000000  0.039966  0.076860   \n",
       "\n",
       "                                                model  num_features  \\\n",
       "13  (DecisionTreeClassifier(max_features='auto', r...             7   \n",
       "3                                LogisticRegression()             4   \n",
       "4                                LogisticRegression()             5   \n",
       "2                                LogisticRegression()             3   \n",
       "11  (DecisionTreeClassifier(max_features='auto', r...             5   \n",
       "12  (DecisionTreeClassifier(max_features='auto', r...             6   \n",
       "1                                LogisticRegression()             2   \n",
       "9   (DecisionTreeClassifier(max_features='auto', r...             3   \n",
       "10  (DecisionTreeClassifier(max_features='auto', r...             4   \n",
       "8   (DecisionTreeClassifier(max_features='auto', r...             2   \n",
       "5                                LogisticRegression()             6   \n",
       "6                                LogisticRegression()             7   \n",
       "7   (DecisionTreeClassifier(max_features='auto', r...             1   \n",
       "0                                LogisticRegression()             1   \n",
       "\n",
       "    num_rows_train  num_rows_test    last_feature  \n",
       "13         1591130          91929   part_name_len  \n",
       "3          1591130          91929        is_trans  \n",
       "4          1591130          91929    part_num_len  \n",
       "2          1591130          91929        quantity  \n",
       "11         1591130          91929    part_num_len  \n",
       "12         1591130          91929  color_name_len  \n",
       "1          1591130          91929        color_id  \n",
       "9          1591130          91929        quantity  \n",
       "10         1591130          91929        is_trans  \n",
       "8          1591130          91929        color_id  \n",
       "5          1591130          91929  color_name_len  \n",
       "6          1591130          91929   part_name_len  \n",
       "7          1591130          91929            year  \n",
       "0          1591130          91929            year  "
      ]
     },
     "execution_count": 24,
     "metadata": {},
     "output_type": "execute_result"
    }
   ],
   "source": [
    "ht_dfg_over = pd.DataFrame(hyper_table_df_grouped).sort_values('test_score', ascending=False)\n",
    "ht_dfg_over"
   ]
  },
  {
   "cell_type": "code",
   "execution_count": 25,
   "id": "67420396",
   "metadata": {},
   "outputs": [
    {
     "name": "stdout",
     "output_type": "stream",
     "text": [
      "7\n"
     ]
    },
    {
     "data": {
      "image/png": "[encoded data removed]",
      "text/plain": [
       "<Figure size 864x864 with 1 Axes>"
      ]
     },
     "metadata": {},
     "output_type": "display_data"
    }
   ],
   "source": [
    "feature_importance = model_rf.feature_importances_\n",
    "# make importances relative to max importance\n",
    "feature_importance = 100.0 * (feature_importance / feature_importance.max())[:30]\n",
    "sorted_idx = np.argsort(feature_importance)[:30]\n",
    "\n",
    "pos = np.arange(sorted_idx.shape[0]) + .5\n",
    "print(pos.size)\n",
    "sorted_idx.size\n",
    "plt.figure(figsize=(12,12))\n",
    "plt.barh(pos, feature_importance[sorted_idx], color='orange', edgecolor='black', align='center')\n",
    "plt.yticks(pos, df_balancedbyover[fn_over].columns[sorted_idx])\n",
    "plt.xlabel('Relative Importance', fontsize=30)\n",
    "plt.title('Variable Importance - over sampled set', fontsize=30)\n",
    "plt.grid(True)\n",
    "plt.show()"
   ]
  },
  {
   "cell_type": "code",
   "execution_count": 26,
   "id": "66512885",
   "metadata": {},
   "outputs": [],
   "source": [
    "ht_dfg_over.to_csv('C:/Users/marki/Desktop/SB Data Science BC/Springboard/Capstone2/data from notebooks/ht_dfg_over.csv', index=False)"
   ]
  },
  {
   "cell_type": "code",
   "execution_count": null,
   "id": "c576a946",
   "metadata": {},
   "outputs": [],
   "source": []
  },
  {
   "cell_type": "code",
   "execution_count": 27,
   "id": "129e6332",
   "metadata": {},
   "outputs": [],
   "source": [
    "hyper_table = list()"
   ]
  },
  {
   "cell_type": "code",
   "execution_count": 28,
   "id": "76a903f6",
   "metadata": {},
   "outputs": [
    {
     "data": {
      "text/plain": [
       "['year',\n",
       " 'color_id',\n",
       " 'quantity',\n",
       " 'is_trans',\n",
       " 'part_num_len',\n",
       " 'color_name_len',\n",
       " 'part_name_len']"
      ]
     },
     "execution_count": 28,
     "metadata": {},
     "output_type": "execute_result"
    }
   ],
   "source": [
    "fn = list()\n",
    "for i, name in enumerate(df.columns):\n",
    "    if i > 100:\n",
    "        break\n",
    "    if name in target_names:\n",
    "        continue\n",
    "    fn.append(name)\n",
    "\n",
    "fn"
   ]
  },
  {
   "cell_type": "code",
   "execution_count": 29,
   "id": "8aee414d",
   "metadata": {},
   "outputs": [],
   "source": [
    "model_rf = RandomForestClassifier(n_estimators=200, random_state = 1, n_jobs=-1)"
   ]
  },
  {
   "cell_type": "code",
   "execution_count": 30,
   "id": "e3086193",
   "metadata": {},
   "outputs": [],
   "source": [
    "model_rf.fit(df_balancedbyover[fn], df_balancedbyover['is_ninjago'])\n",
    "\n",
    "s_train = model_rf.score(df_balancedbyover[fn], df_balancedbyover['is_ninjago'])\n",
    "s_test = model_rf.score(df_test[fn], df_test['is_ninjago'])\n",
    "y_pred = model_rf.predict(df_test[fn])"
   ]
  },
  {
   "cell_type": "code",
   "execution_count": 31,
   "id": "52fc2cc0",
   "metadata": {},
   "outputs": [],
   "source": [
    "conf_matrix = confusion_matrix(y_true=y_test, y_pred=y_pred)"
   ]
  },
  {
   "cell_type": "code",
   "execution_count": 32,
   "id": "fd968817",
   "metadata": {},
   "outputs": [
    {
     "data": {
      "image/png": "[encoded data removed]",
      "text/plain": [
       "<Figure size 360x360 with 1 Axes>"
      ]
     },
     "metadata": {},
     "output_type": "display_data"
    }
   ],
   "source": [
    "fig, ax = plt.subplots(figsize=(5, 5))\n",
    "ax.matshow(conf_matrix, cmap=plt.cm.Oranges, alpha=0.3)\n",
    "for i in range(conf_matrix.shape[0]):\n",
    "    for j in range(conf_matrix.shape[1]):\n",
    "        ax.text(x=j, y=i,s=conf_matrix[i, j], va='center', ha='center', size='xx-large')\n",
    "\n",
    "plt.xlabel('Predictions', fontsize=18)\n",
    "plt.ylabel('Actuals', fontsize=18)\n",
    "plt.title('Confusion Matrix', fontsize=18)\n",
    "plt.show()"
   ]
  },
  {
   "cell_type": "code",
   "execution_count": 33,
   "id": "c615d8c0",
   "metadata": {},
   "outputs": [],
   "source": [
    "precision = precision_score(df_test['is_ninjago'], y_pred)\n",
    "recall = recall_score(df_test['is_ninjago'], y_pred)\n",
    "accuracy = accuracy_score(df_test['is_ninjago'], y_pred)\n",
    "f1 = f1_score(df_test['is_ninjago'], y_pred)"
   ]
  },
  {
   "cell_type": "code",
   "execution_count": 34,
   "id": "f9317dda",
   "metadata": {},
   "outputs": [],
   "source": [
    "hyper_table.append(dict(sample='over', \n",
    "                    train_score=s_train, \n",
    "                    test_score=s_test,\n",
    "                    precision=precision,\n",
    "                    recall=recall,\n",
    "                    accuracy=accuracy,\n",
    "                    f1_score=f1,\n",
    "                    model=model_rf, \n",
    "                    num_features=df[fn].shape[1], \n",
    "                    num_rows_train=df_balancedbyover.shape[0],\n",
    "                    num_rows_test=df_test.shape[0])) "
   ]
  },
  {
   "cell_type": "code",
   "execution_count": null,
   "id": "4854213d",
   "metadata": {},
   "outputs": [],
   "source": []
  },
  {
   "cell_type": "code",
   "execution_count": 35,
   "id": "d978aadc",
   "metadata": {},
   "outputs": [
    {
     "name": "stderr",
     "output_type": "stream",
     "text": [
      "C:\\Users\\marki\\anaconda3\\lib\\site-packages\\xgboost\\sklearn.py:1224: UserWarning: The use of label encoder in XGBClassifier is deprecated and will be removed in a future release. To remove this warning, do the following: 1) Pass option use_label_encoder=False when constructing XGBClassifier object; and 2) Encode your labels (y) as integers starting with 0, i.e. 0, 1, 2, ..., [num_class - 1].\n",
      "  warnings.warn(label_encoder_deprecation_msg, UserWarning)\n"
     ]
    },
    {
     "name": "stdout",
     "output_type": "stream",
     "text": [
      "[00:32:48] WARNING: C:/Users/Administrator/workspace/xgboost-win64_release_1.5.1/src/learner.cc:1115: Starting in XGBoost 1.3.0, the default evaluation metric used with the objective 'binary:logistic' was changed from 'error' to 'logloss'. Explicitly set eval_metric if you'd like to restore the old behavior.\n"
     ]
    }
   ],
   "source": [
    "model_XGB = XGBClassifier(random_state=1)\n",
    "model_XGB.fit(df_balancedbyover[fn], df_balancedbyover['is_ninjago'])\n",
    "s_train = model_XGB.score(df_balancedbyover[fn], df_balancedbyover['is_ninjago'])\n",
    "s_test = model_XGB.score(df_test[fn], df_test['is_ninjago'])\n",
    "y_pred = model_XGB.predict(df_test[fn])\n",
    "predictions = [round(value) for value in y_pred]"
   ]
  },
  {
   "cell_type": "code",
   "execution_count": 36,
   "id": "8b610747",
   "metadata": {},
   "outputs": [],
   "source": [
    "conf_matrix = confusion_matrix(y_true=y_test, y_pred=y_pred)"
   ]
  },
  {
   "cell_type": "code",
   "execution_count": 37,
   "id": "48f2ce15",
   "metadata": {},
   "outputs": [
    {
     "data": {
      "image/png": "[encoded data removed]",
      "text/plain": [
       "<Figure size 360x360 with 1 Axes>"
      ]
     },
     "metadata": {},
     "output_type": "display_data"
    }
   ],
   "source": [
    "fig, ax = plt.subplots(figsize=(5, 5))\n",
    "ax.matshow(conf_matrix, cmap=plt.cm.Oranges, alpha=0.3)\n",
    "for i in range(conf_matrix.shape[0]):\n",
    "    for j in range(conf_matrix.shape[1]):\n",
    "        ax.text(x=j, y=i,s=conf_matrix[i, j], va='center', ha='center', size='xx-large')\n",
    "\n",
    "plt.xlabel('Predictions', fontsize=18)\n",
    "plt.ylabel('Actuals', fontsize=18)\n",
    "plt.title('Confusion Matrix', fontsize=18)\n",
    "plt.show()"
   ]
  },
  {
   "cell_type": "code",
   "execution_count": 38,
   "id": "d63a4387",
   "metadata": {},
   "outputs": [],
   "source": [
    "precision = precision_score(df_test['is_ninjago'], y_pred)\n",
    "recall = recall_score(df_test['is_ninjago'], y_pred)\n",
    "accuracy = accuracy_score(df_test['is_ninjago'], y_pred)\n",
    "f1 = f1_score(df_test['is_ninjago'], y_pred)"
   ]
  },
  {
   "cell_type": "code",
   "execution_count": 39,
   "id": "144205b4",
   "metadata": {},
   "outputs": [],
   "source": [
    "hyper_table.append(dict(sample='over', \n",
    "                    train_score=s_train, \n",
    "                    test_score=s_test,\n",
    "                    precision=precision,\n",
    "                    recall=recall,\n",
    "                    accuracy=accuracy,\n",
    "                    f1_score=f1,\n",
    "                    model=model_XGB, \n",
    "                    num_features=df[fn].shape[1], \n",
    "                    num_rows_train=X_train.shape[0],\n",
    "                    num_rows_test=X_test.shape[0])) "
   ]
  },
  {
   "cell_type": "code",
   "execution_count": 40,
   "id": "c8391b17",
   "metadata": {},
   "outputs": [
    {
     "name": "stderr",
     "output_type": "stream",
     "text": [
      "C:\\Users\\marki\\anaconda3\\lib\\site-packages\\xgboost\\sklearn.py:1224: UserWarning: The use of label encoder in XGBClassifier is deprecated and will be removed in a future release. To remove this warning, do the following: 1) Pass option use_label_encoder=False when constructing XGBClassifier object; and 2) Encode your labels (y) as integers starting with 0, i.e. 0, 1, 2, ..., [num_class - 1].\n",
      "  warnings.warn(label_encoder_deprecation_msg, UserWarning)\n"
     ]
    },
    {
     "name": "stdout",
     "output_type": "stream",
     "text": [
      "[00:33:49] WARNING: C:/Users/Administrator/workspace/xgboost-win64_release_1.5.1/src/learner.cc:1115: Starting in XGBoost 1.3.0, the default evaluation metric used with the objective 'binary:logistic' was changed from 'error' to 'logloss'. Explicitly set eval_metric if you'd like to restore the old behavior.\n"
     ]
    }
   ],
   "source": [
    "model_XGB = XGBClassifier(n_estimators=200, max_depth=9, learning_rate=0.2, random_state=1)\n",
    "model_XGB.fit(df_balancedbyover[fn], df_balancedbyover['is_ninjago'])\n",
    "s_train = model_XGB.score(df_balancedbyover[fn], df_balancedbyover['is_ninjago'])\n",
    "s_test = model_XGB.score(df_test[fn], df_test['is_ninjago'])\n",
    "y_pred = model_XGB.predict(df_test[fn])\n",
    "predictions = [round(value) for value in y_pred]"
   ]
  },
  {
   "cell_type": "code",
   "execution_count": 41,
   "id": "44f4e66d",
   "metadata": {},
   "outputs": [],
   "source": [
    "conf_matrix = confusion_matrix(y_true=y_test, y_pred=y_pred)"
   ]
  },
  {
   "cell_type": "code",
   "execution_count": 42,
   "id": "57a6dc23",
   "metadata": {},
   "outputs": [
    {
     "data": {
      "image/png": "[encoded data removed]",
      "text/plain": [
       "<Figure size 360x360 with 1 Axes>"
      ]
     },
     "metadata": {},
     "output_type": "display_data"
    }
   ],
   "source": [
    "fig, ax = plt.subplots(figsize=(5, 5))\n",
    "ax.matshow(conf_matrix, cmap=plt.cm.Oranges, alpha=0.3)\n",
    "for i in range(conf_matrix.shape[0]):\n",
    "    for j in range(conf_matrix.shape[1]):\n",
    "        ax.text(x=j, y=i,s=conf_matrix[i, j], va='center', ha='center', size='xx-large')\n",
    "\n",
    "plt.xlabel('Predictions', fontsize=18)\n",
    "plt.ylabel('Actuals', fontsize=18)\n",
    "plt.title('Confusion Matrix', fontsize=18)\n",
    "plt.show()"
   ]
  },
  {
   "cell_type": "code",
   "execution_count": 43,
   "id": "1d2a8c09",
   "metadata": {},
   "outputs": [],
   "source": [
    "precision = precision_score(df_test['is_ninjago'], y_pred)\n",
    "recall = recall_score(df_test['is_ninjago'], y_pred)\n",
    "accuracy = accuracy_score(df_test['is_ninjago'], y_pred)\n",
    "f1 = f1_score(df_test['is_ninjago'], y_pred)"
   ]
  },
  {
   "cell_type": "code",
   "execution_count": 44,
   "id": "f2527aa4",
   "metadata": {},
   "outputs": [],
   "source": [
    "hyper_table.append(dict(sample='over', \n",
    "                    train_score=s_train, \n",
    "                    test_score=s_test,\n",
    "                    precision=precision,\n",
    "                    recall=recall,\n",
    "                    accuracy=accuracy,\n",
    "                    f1_score=f1,\n",
    "                    model=model_XGB, \n",
    "                    num_features=df[fn].shape[1], \n",
    "                    num_rows_train=X_train.shape[0],\n",
    "                    num_rows_test=X_test.shape[0])) "
   ]
  },
  {
   "cell_type": "code",
   "execution_count": 45,
   "id": "ffd9489c",
   "metadata": {},
   "outputs": [
    {
     "data": {
      "text/plain": [
       "200"
      ]
     },
     "execution_count": 45,
     "metadata": {},
     "output_type": "execute_result"
    }
   ],
   "source": [
    "model_XGB.n_estimators"
   ]
  },
  {
   "cell_type": "code",
   "execution_count": 46,
   "id": "04e197f3",
   "metadata": {},
   "outputs": [
    {
     "data": {
      "text/html": [
       "<div>\n",
       "<style scoped>\n",
       "    .dataframe tbody tr th:only-of-type {\n",
       "        vertical-align: middle;\n",
       "    }\n",
       "\n",
       "    .dataframe tbody tr th {\n",
       "        vertical-align: top;\n",
       "    }\n",
       "\n",
       "    .dataframe thead th {\n",
       "        text-align: right;\n",
       "    }\n",
       "</style>\n",
       "<table border=\"1\" class=\"dataframe\">\n",
       "  <thead>\n",
       "    <tr style=\"text-align: right;\">\n",
       "      <th></th>\n",
       "      <th>sample</th>\n",
       "      <th>train_score</th>\n",
       "      <th>test_score</th>\n",
       "      <th>precision</th>\n",
       "      <th>recall</th>\n",
       "      <th>accuracy</th>\n",
       "      <th>f1_score</th>\n",
       "      <th>model</th>\n",
       "      <th>num_features</th>\n",
       "      <th>num_rows_train</th>\n",
       "      <th>num_rows_test</th>\n",
       "    </tr>\n",
       "  </thead>\n",
       "  <tbody>\n",
       "    <tr>\n",
       "      <th>0</th>\n",
       "      <td>over</td>\n",
       "      <td>0.885157</td>\n",
       "      <td>0.791698</td>\n",
       "      <td>0.120692</td>\n",
       "      <td>0.670114</td>\n",
       "      <td>0.791698</td>\n",
       "      <td>0.204545</td>\n",
       "      <td>(DecisionTreeClassifier(max_features='auto', r...</td>\n",
       "      <td>7</td>\n",
       "      <td>1591130</td>\n",
       "      <td>91929</td>\n",
       "    </tr>\n",
       "    <tr>\n",
       "      <th>1</th>\n",
       "      <td>over</td>\n",
       "      <td>0.789296</td>\n",
       "      <td>0.677229</td>\n",
       "      <td>0.099612</td>\n",
       "      <td>0.880240</td>\n",
       "      <td>0.677229</td>\n",
       "      <td>0.178971</td>\n",
       "      <td>XGBClassifier(base_score=0.5, booster='gbtree'...</td>\n",
       "      <td>7</td>\n",
       "      <td>827359</td>\n",
       "      <td>91929</td>\n",
       "    </tr>\n",
       "    <tr>\n",
       "      <th>2</th>\n",
       "      <td>over</td>\n",
       "      <td>0.827438</td>\n",
       "      <td>0.718935</td>\n",
       "      <td>0.108769</td>\n",
       "      <td>0.838596</td>\n",
       "      <td>0.718935</td>\n",
       "      <td>0.192563</td>\n",
       "      <td>XGBClassifier(base_score=0.5, booster='gbtree'...</td>\n",
       "      <td>7</td>\n",
       "      <td>827359</td>\n",
       "      <td>91929</td>\n",
       "    </tr>\n",
       "  </tbody>\n",
       "</table>\n",
       "</div>"
      ],
      "text/plain": [
       "  sample  train_score  test_score  precision    recall  accuracy  f1_score  \\\n",
       "0   over     0.885157    0.791698   0.120692  0.670114  0.791698  0.204545   \n",
       "1   over     0.789296    0.677229   0.099612  0.880240  0.677229  0.178971   \n",
       "2   over     0.827438    0.718935   0.108769  0.838596  0.718935  0.192563   \n",
       "\n",
       "                                               model  num_features  \\\n",
       "0  (DecisionTreeClassifier(max_features='auto', r...             7   \n",
       "1  XGBClassifier(base_score=0.5, booster='gbtree'...             7   \n",
       "2  XGBClassifier(base_score=0.5, booster='gbtree'...             7   \n",
       "\n",
       "   num_rows_train  num_rows_test  \n",
       "0         1591130          91929  \n",
       "1          827359          91929  \n",
       "2          827359          91929  "
      ]
     },
     "execution_count": 46,
     "metadata": {},
     "output_type": "execute_result"
    }
   ],
   "source": [
    "ht_fr = pd.DataFrame(hyper_table)\n",
    "ht_fr"
   ]
  },
  {
   "cell_type": "code",
   "execution_count": 47,
   "id": "9e97ddf9",
   "metadata": {},
   "outputs": [],
   "source": [
    "ht_fr.to_csv('C:/Users/marki/Desktop/SB Data Science BC/Springboard/Capstone2/data from notebooks/ht_fr_over.csv', index=False)"
   ]
  }
 ],
 "metadata": {
  "kernelspec": {
   "display_name": "Python 3",
   "language": "python",
   "name": "python3"
  },
  "language_info": {
   "codemirror_mode": {
    "name": "ipython",
    "version": 3
   },
   "file_extension": ".py",
   "mimetype": "text/x-python",
   "name": "python",
   "nbconvert_exporter": "python",
   "pygments_lexer": "ipython3",
   "version": "3.8.8"
  }
 },
 "nbformat": 4,
 "nbformat_minor": 5
}
