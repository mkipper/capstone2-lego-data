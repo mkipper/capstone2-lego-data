{
 "cells": [
  {
   "cell_type": "code",
   "execution_count": 1,
   "id": "e0a28712",
   "metadata": {},
   "outputs": [],
   "source": [
    "import pandas as pd\n",
    "import numpy as np\n",
    "from sklearn.linear_model import LogisticRegression\n",
    "from sklearn.model_selection import train_test_split\n",
    "from sklearn import metrics\n",
    "pd.options.display.max_columns=1000\n",
    "from tqdm import tqdm\n",
    "from sklearn.metrics import confusion_matrix\n",
    "from sklearn.metrics import precision_score, recall_score, f1_score, accuracy_score\n",
    "import matplotlib.pyplot as plt\n",
    "from sklearn.ensemble import RandomForestClassifier"
   ]
  },
  {
   "cell_type": "code",
   "execution_count": 2,
   "id": "de847961",
   "metadata": {},
   "outputs": [],
   "source": [
    "df = pd.read_csv('C:/Users/marki/Desktop/SB Data Science BC/Springboard/Capstone2/data from notebooks/df.csv')"
   ]
  },
  {
   "cell_type": "code",
   "execution_count": 3,
   "id": "d05ec95b",
   "metadata": {},
   "outputs": [
    {
     "data": {
      "text/html": [
       "<div>\n",
       "<style scoped>\n",
       "    .dataframe tbody tr th:only-of-type {\n",
       "        vertical-align: middle;\n",
       "    }\n",
       "\n",
       "    .dataframe tbody tr th {\n",
       "        vertical-align: top;\n",
       "    }\n",
       "\n",
       "    .dataframe thead th {\n",
       "        text-align: right;\n",
       "    }\n",
       "</style>\n",
       "<table border=\"1\" class=\"dataframe\">\n",
       "  <thead>\n",
       "    <tr style=\"text-align: right;\">\n",
       "      <th></th>\n",
       "      <th>set_num</th>\n",
       "      <th>set_name</th>\n",
       "      <th>year</th>\n",
       "      <th>theme_id</th>\n",
       "      <th>num_parts</th>\n",
       "      <th>set_num_len</th>\n",
       "      <th>set_name_len</th>\n",
       "      <th>theme_name</th>\n",
       "      <th>id</th>\n",
       "      <th>part_num</th>\n",
       "      <th>color_id</th>\n",
       "      <th>quantity</th>\n",
       "      <th>color_name</th>\n",
       "      <th>part_name</th>\n",
       "      <th>is_trans</th>\n",
       "      <th>theme_name_len</th>\n",
       "      <th>part_num_len</th>\n",
       "      <th>color_name_len</th>\n",
       "      <th>part_name_len</th>\n",
       "      <th>is_ninjago</th>\n",
       "    </tr>\n",
       "  </thead>\n",
       "  <tbody>\n",
       "    <tr>\n",
       "      <th>0</th>\n",
       "      <td>001-1</td>\n",
       "      <td>Gears</td>\n",
       "      <td>1965</td>\n",
       "      <td>1</td>\n",
       "      <td>43</td>\n",
       "      <td>5</td>\n",
       "      <td>5</td>\n",
       "      <td>Technic</td>\n",
       "      <td>24696</td>\n",
       "      <td>132a</td>\n",
       "      <td>7</td>\n",
       "      <td>4</td>\n",
       "      <td>Light Gray</td>\n",
       "      <td>Tyre Smooth Old Style - Small</td>\n",
       "      <td>0</td>\n",
       "      <td>7</td>\n",
       "      <td>4</td>\n",
       "      <td>10</td>\n",
       "      <td>29</td>\n",
       "      <td>0</td>\n",
       "    </tr>\n",
       "    <tr>\n",
       "      <th>1</th>\n",
       "      <td>001-1</td>\n",
       "      <td>Gears</td>\n",
       "      <td>1965</td>\n",
       "      <td>1</td>\n",
       "      <td>43</td>\n",
       "      <td>5</td>\n",
       "      <td>5</td>\n",
       "      <td>Technic</td>\n",
       "      <td>24696</td>\n",
       "      <td>3020</td>\n",
       "      <td>15</td>\n",
       "      <td>4</td>\n",
       "      <td>White</td>\n",
       "      <td>Plate 2 x 4</td>\n",
       "      <td>0</td>\n",
       "      <td>7</td>\n",
       "      <td>4</td>\n",
       "      <td>5</td>\n",
       "      <td>11</td>\n",
       "      <td>0</td>\n",
       "    </tr>\n",
       "    <tr>\n",
       "      <th>2</th>\n",
       "      <td>001-1</td>\n",
       "      <td>Gears</td>\n",
       "      <td>1965</td>\n",
       "      <td>1</td>\n",
       "      <td>43</td>\n",
       "      <td>5</td>\n",
       "      <td>5</td>\n",
       "      <td>Technic</td>\n",
       "      <td>24696</td>\n",
       "      <td>3062c</td>\n",
       "      <td>15</td>\n",
       "      <td>1</td>\n",
       "      <td>White</td>\n",
       "      <td>Brick Round 1 x 1 Solid Stud, No Bottom Groove</td>\n",
       "      <td>0</td>\n",
       "      <td>7</td>\n",
       "      <td>5</td>\n",
       "      <td>5</td>\n",
       "      <td>46</td>\n",
       "      <td>0</td>\n",
       "    </tr>\n",
       "    <tr>\n",
       "      <th>3</th>\n",
       "      <td>001-1</td>\n",
       "      <td>Gears</td>\n",
       "      <td>1965</td>\n",
       "      <td>1</td>\n",
       "      <td>43</td>\n",
       "      <td>5</td>\n",
       "      <td>5</td>\n",
       "      <td>Technic</td>\n",
       "      <td>24696</td>\n",
       "      <td>3404bc01</td>\n",
       "      <td>15</td>\n",
       "      <td>4</td>\n",
       "      <td>White</td>\n",
       "      <td>Turntable 4 x 4 - Old Type Complete, Perfectly...</td>\n",
       "      <td>0</td>\n",
       "      <td>7</td>\n",
       "      <td>8</td>\n",
       "      <td>5</td>\n",
       "      <td>52</td>\n",
       "      <td>0</td>\n",
       "    </tr>\n",
       "    <tr>\n",
       "      <th>4</th>\n",
       "      <td>001-1</td>\n",
       "      <td>Gears</td>\n",
       "      <td>1965</td>\n",
       "      <td>1</td>\n",
       "      <td>43</td>\n",
       "      <td>5</td>\n",
       "      <td>5</td>\n",
       "      <td>Technic</td>\n",
       "      <td>24696</td>\n",
       "      <td>36</td>\n",
       "      <td>7</td>\n",
       "      <td>4</td>\n",
       "      <td>Light Gray</td>\n",
       "      <td>Tyre Smooth Old Style - Large</td>\n",
       "      <td>0</td>\n",
       "      <td>7</td>\n",
       "      <td>2</td>\n",
       "      <td>10</td>\n",
       "      <td>29</td>\n",
       "      <td>0</td>\n",
       "    </tr>\n",
       "  </tbody>\n",
       "</table>\n",
       "</div>"
      ],
      "text/plain": [
       "  set_num set_name  year  theme_id  num_parts  set_num_len  set_name_len  \\\n",
       "0   001-1    Gears  1965         1         43            5             5   \n",
       "1   001-1    Gears  1965         1         43            5             5   \n",
       "2   001-1    Gears  1965         1         43            5             5   \n",
       "3   001-1    Gears  1965         1         43            5             5   \n",
       "4   001-1    Gears  1965         1         43            5             5   \n",
       "\n",
       "  theme_name     id  part_num  color_id  quantity  color_name  \\\n",
       "0    Technic  24696      132a         7         4  Light Gray   \n",
       "1    Technic  24696      3020        15         4       White   \n",
       "2    Technic  24696     3062c        15         1       White   \n",
       "3    Technic  24696  3404bc01        15         4       White   \n",
       "4    Technic  24696        36         7         4  Light Gray   \n",
       "\n",
       "                                           part_name  is_trans  \\\n",
       "0                      Tyre Smooth Old Style - Small         0   \n",
       "1                                        Plate 2 x 4         0   \n",
       "2     Brick Round 1 x 1 Solid Stud, No Bottom Groove         0   \n",
       "3  Turntable 4 x 4 - Old Type Complete, Perfectly...         0   \n",
       "4                      Tyre Smooth Old Style - Large         0   \n",
       "\n",
       "   theme_name_len  part_num_len  color_name_len  part_name_len  is_ninjago  \n",
       "0               7             4              10             29           0  \n",
       "1               7             4               5             11           0  \n",
       "2               7             5               5             46           0  \n",
       "3               7             8               5             52           0  \n",
       "4               7             2              10             29           0  "
      ]
     },
     "execution_count": 3,
     "metadata": {},
     "output_type": "execute_result"
    }
   ],
   "source": [
    "df.head()"
   ]
  },
  {
   "cell_type": "code",
   "execution_count": 4,
   "id": "5bbbb073",
   "metadata": {},
   "outputs": [
    {
     "data": {
      "text/plain": [
       "(919288, 20)"
      ]
     },
     "execution_count": 4,
     "metadata": {},
     "output_type": "execute_result"
    }
   ],
   "source": [
    "df.shape"
   ]
  },
  {
   "cell_type": "code",
   "execution_count": 5,
   "id": "dc3d8087",
   "metadata": {},
   "outputs": [
    {
     "data": {
      "text/plain": [
       "Index(['set_num', 'set_name', 'year', 'theme_id', 'num_parts', 'set_num_len',\n",
       "       'set_name_len', 'theme_name', 'id', 'part_num', 'color_id', 'quantity',\n",
       "       'color_name', 'part_name', 'is_trans', 'theme_name_len', 'part_num_len',\n",
       "       'color_name_len', 'part_name_len', 'is_ninjago'],\n",
       "      dtype='object')"
      ]
     },
     "execution_count": 5,
     "metadata": {},
     "output_type": "execute_result"
    }
   ],
   "source": [
    "df.columns"
   ]
  },
  {
   "cell_type": "code",
   "execution_count": 6,
   "id": "ec84082a",
   "metadata": {},
   "outputs": [
    {
     "data": {
      "text/plain": [
       "['set_num',\n",
       " 'set_name',\n",
       " 'theme_id',\n",
       " 'theme_name',\n",
       " 'id',\n",
       " 'part_num',\n",
       " 'color_name',\n",
       " 'part_name',\n",
       " 'theme_name_len',\n",
       " 'is_ninjago']"
      ]
     },
     "execution_count": 6,
     "metadata": {},
     "output_type": "execute_result"
    }
   ],
   "source": [
    "target_names = 'set_num set_name theme_id theme_name id part_num color_name part_name theme_name_len is_ninjago'.split()\n",
    "target_names"
   ]
  },
  {
   "cell_type": "code",
   "execution_count": 7,
   "id": "4d6f84f3",
   "metadata": {},
   "outputs": [],
   "source": [
    "fn = list()\n",
    "\n",
    "for i, name in enumerate(df.columns):\n",
    "    if i > 100:\n",
    "        break\n",
    "    if name in target_names:\n",
    "        continue\n",
    "    fn.append(name)"
   ]
  },
  {
   "cell_type": "code",
   "execution_count": 8,
   "id": "3fd99a6d",
   "metadata": {},
   "outputs": [],
   "source": [
    "X = df[fn]\n",
    "y = df['is_ninjago']"
   ]
  },
  {
   "cell_type": "code",
   "execution_count": 9,
   "id": "a4cf3969",
   "metadata": {},
   "outputs": [],
   "source": [
    "X_train, X_test, y_train, y_test = train_test_split(X, y, test_size= 0.1, random_state=1)"
   ]
  },
  {
   "cell_type": "code",
   "execution_count": null,
   "id": "c289b031",
   "metadata": {},
   "outputs": [
    {
     "name": "stderr",
     "output_type": "stream",
     "text": [
      " 20%|████████████████▌                                                                  | 2/10 [00:22<01:28, 11.12s/it]"
     ]
    }
   ],
   "source": [
    "hyper_table_C_test = list()\n",
    "fn = list()\n",
    "\n",
    "for i, name in tqdm(enumerate(X.columns), total=len(X.columns)):\n",
    "    if i > 100:\n",
    "        break\n",
    "    if name in target_names:\n",
    "        continue\n",
    "    fn.append(name)\n",
    "    for c in np.arange(-5, 5):\n",
    "        model = LogisticRegression(C=10.0**c, random_state=1, class_weight='balanced')\n",
    "        model.fit(X_train[fn], y_train)\n",
    "        s_train = model.score(X_train[fn], y_train)\n",
    "        s_test = model.score(X_test[fn], y_test)\n",
    "        hyper_table_C_test.append(dict(C=model.C,\n",
    "                                    train_score=s_train, \n",
    "                                    test_score=s_test,\n",
    "                                    model=model, \n",
    "                                    num_columns=df[fn].shape[1]))"
   ]
  },
  {
   "cell_type": "code",
   "execution_count": null,
   "id": "d6fe7d1a",
   "metadata": {},
   "outputs": [],
   "source": [
    "htC = pd.DataFrame(hyper_table_C_test).sort_values('test_score', ascending=False)\n",
    "htC"
   ]
  },
  {
   "cell_type": "code",
   "execution_count": null,
   "id": "41ff9365",
   "metadata": {},
   "outputs": [],
   "source": [
    "plt.scatter(htC['test_score'], htC['C'])\n",
    "plt.yscale('log')\n",
    "plt.show()"
   ]
  },
  {
   "cell_type": "code",
   "execution_count": null,
   "id": "6a598ce0",
   "metadata": {},
   "outputs": [],
   "source": [
    "htC = htC.sort_values('C')\n",
    "htC"
   ]
  },
  {
   "cell_type": "code",
   "execution_count": null,
   "id": "b1908eba",
   "metadata": {},
   "outputs": [],
   "source": [
    "htC1 = htC[htC['num_columns'] == 4]\n",
    "htC1"
   ]
  },
  {
   "cell_type": "code",
   "execution_count": null,
   "id": "20508183",
   "metadata": {},
   "outputs": [],
   "source": [
    "hyper_table_C_test2 = list()\n",
    "fn = list()\n",
    "\n",
    "for i, name in enumerate(X.columns):\n",
    "    if i > 100:\n",
    "        break\n",
    "    if name in target_names:\n",
    "        continue\n",
    "    fn.append(name)\n",
    "    \n",
    "for c in tqdm(np.arange(-5, 5), total=len(df[fn])):\n",
    "    model = LogisticRegression(C=10.0**c, random_state=1, class_weight='balanced')\n",
    "    model.fit(X_train[fn], y_train)\n",
    "    s_train = model.score(X_train[fn], y_train)\n",
    "    s_test = model.score(X_test[fn], y_test)\n",
    "    hyper_table_C_test2.append(dict(C=model.C,\n",
    "                                train_score=s_train, \n",
    "                                test_score=s_test,\n",
    "                                model=model, \n",
    "                                num_columns=df[fn].shape[1]))"
   ]
  },
  {
   "cell_type": "code",
   "execution_count": null,
   "id": "dfe47b61",
   "metadata": {},
   "outputs": [],
   "source": [
    "htC2 = pd.DataFrame(hyper_table_C_test2).sort_values('test_score', ascending=False)\n",
    "htC2"
   ]
  },
  {
   "cell_type": "code",
   "execution_count": null,
   "id": "94ece8e1",
   "metadata": {},
   "outputs": [],
   "source": [
    "plt.scatter(htC2['test_score'], htC2['C'])\n",
    "plt.yscale('log')\n",
    "plt.show()"
   ]
  },
  {
   "cell_type": "code",
   "execution_count": null,
   "id": "de5873f1",
   "metadata": {},
   "outputs": [],
   "source": [
    "hyper_table = list()\n",
    "fn = list()\n",
    "for i, name in tqdm(enumerate(X.columns), total=len(X.columns)):\n",
    "    if i > 100:\n",
    "        break\n",
    "    if name in target_names:\n",
    "        continue\n",
    "    fn.append(name)\n",
    "    model = LogisticRegression(random_state=1, class_weight='balanced')\n",
    "    model.fit(X_train[fn], y_train)\n",
    "    s_train = model.score(X_train[fn], y_train)\n",
    "    s_test = model.score(X_test[fn], y_test)\n",
    "    hyper_table.append(dict(sample='none',\n",
    "                            desc=str(fn), \n",
    "                            train_score=s_train, \n",
    "                            test_score=s_test,\n",
    "                            # test_score_0='none', \n",
    "                            # test_score_1='none',\n",
    "                            # train_score_0='none',\n",
    "                            # train_score_1='none',\n",
    "                            model=model, \n",
    "                            num_features=df[fn].shape[1], \n",
    "                            num_rows=df[fn].shape[0], \n",
    "                            last_feature=fn[-1]))"
   ]
  },
  {
   "cell_type": "code",
   "execution_count": null,
   "id": "2e44ddb5",
   "metadata": {},
   "outputs": [],
   "source": [
    "model_rf = RandomForestClassifier(n_estimators=100, random_state = 1,n_jobs=-1)"
   ]
  },
  {
   "cell_type": "code",
   "execution_count": null,
   "id": "4b15cf86",
   "metadata": {},
   "outputs": [],
   "source": [
    "fn = list()\n",
    "for i, name in tqdm(enumerate(X.columns), total=len(X.columns)):\n",
    "    if i > 100:\n",
    "        break\n",
    "    if name in target_names:\n",
    "        continue\n",
    "    fn.append(name)\n",
    "    model_rf.fit(X_train[fn], y_train)\n",
    "    s_train = model_rf.score(X_train[fn], y_train)\n",
    "    s_test = model_rf.score(X_test[fn], y_test)\n",
    "    hyper_table.append(dict(sample='none', \n",
    "                        desc=str(fn), \n",
    "                        train_score=s_train, \n",
    "                        test_score=s_test,\n",
    "                        #test_score_0='none', \n",
    "                        #test_score_1='none',\n",
    "                        #train_score_0='none',\n",
    "                        #train_score_1='none',    \n",
    "                        C=np.nan,\n",
    "                        model=model_rf, \n",
    "                        num_features=df[fn].shape[1], \n",
    "                        num_rows=df[fn].shape[0], \n",
    "                        last_feature=fn[-1]))"
   ]
  },
  {
   "cell_type": "code",
   "execution_count": null,
   "id": "6ed9234e",
   "metadata": {},
   "outputs": [],
   "source": [
    "ht0 = pd.DataFrame(hyper_table).sort_values('test_score', ascending=False)\n",
    "ht0"
   ]
  },
  {
   "cell_type": "code",
   "execution_count": null,
   "id": "f06b3618",
   "metadata": {},
   "outputs": [],
   "source": [
    "ht0.shape"
   ]
  },
  {
   "cell_type": "code",
   "execution_count": null,
   "id": "8ddf0572",
   "metadata": {},
   "outputs": [],
   "source": [
    "model = LogisticRegression(random_state=1, class_weight='balanced')\n",
    "model.fit(X_train[fn], y_train)\n",
    "y_pred = model.predict(X_test[fn])\n",
    "y_pred"
   ]
  },
  {
   "cell_type": "code",
   "execution_count": null,
   "id": "3e0b8045",
   "metadata": {},
   "outputs": [],
   "source": [
    "y_pred.sum() / len(y_pred)"
   ]
  },
  {
   "cell_type": "code",
   "execution_count": null,
   "id": "d7c5de1e",
   "metadata": {},
   "outputs": [],
   "source": [
    "conf_matrix = confusion_matrix(y_true=y_test, y_pred=y_pred)\n",
    "\n",
    "fig, ax = plt.subplots(figsize=(5, 5))\n",
    "ax.matshow(conf_matrix, cmap=plt.cm.Oranges, alpha=0.3)\n",
    "for i in range(conf_matrix.shape[0]):\n",
    "    for j in range(conf_matrix.shape[1]):\n",
    "        ax.text(x=j, y=i,s=conf_matrix[i, j], va='center', ha='center', size='xx-large')\n",
    " \n",
    "plt.xlabel('Predictions', fontsize=18)\n",
    "plt.ylabel('Actuals', fontsize=18)\n",
    "plt.title('Confusion Matrix', fontsize=18)\n",
    "plt.show()"
   ]
  },
  {
   "cell_type": "code",
   "execution_count": null,
   "id": "4953b23c",
   "metadata": {
    "scrolled": true
   },
   "outputs": [],
   "source": [
    "print('Precision: %.3f' % precision_score(y_test, y_pred))\n",
    "\n",
    "print('Recall: %.3f' % recall_score(y_test, y_pred))\n",
    "\n",
    "print('Accuracy: %.3f' % accuracy_score(y_test, y_pred))\n",
    "\n",
    "print('F1 Score: %.3f' % f1_score(y_test, y_pred))"
   ]
  },
  {
   "cell_type": "code",
   "execution_count": null,
   "id": "2206aa08",
   "metadata": {},
   "outputs": [],
   "source": [
    "feature_importance = model_rf.feature_importances_\n",
    "# make importances relative to max importance\n",
    "feature_importance = 100.0 * (feature_importance / feature_importance.max())[:30]\n",
    "sorted_idx = np.argsort(feature_importance)[:30]\n",
    "\n",
    "pos = np.arange(sorted_idx.shape[0]) + .5\n",
    "print(pos.size)\n",
    "sorted_idx.size\n",
    "plt.figure(figsize=(10,10))\n",
    "plt.barh(pos, feature_importance[sorted_idx], align='center')\n",
    "plt.yticks(pos, df[fn].columns[sorted_idx])\n",
    "plt.xlabel('Relative Importance')\n",
    "plt.title('Variable Importance')\n",
    "plt.show()"
   ]
  },
  {
   "cell_type": "code",
   "execution_count": null,
   "id": "d623d8e0",
   "metadata": {},
   "outputs": [],
   "source": [
    "ht0.to_csv('C:/Users/marki/Desktop/SB Data Science BC/Springboard/Capstone2/data from notebooks/ht0.csv', index=False)"
   ]
  },
  {
   "cell_type": "code",
   "execution_count": null,
   "id": "1b4df6f5",
   "metadata": {},
   "outputs": [],
   "source": [
    "plt.hist(df['num_parts'], bins=range(0, 6000, 100))\n",
    "plt.show()"
   ]
  },
  {
   "cell_type": "code",
   "execution_count": null,
   "id": "8d72e439",
   "metadata": {},
   "outputs": [],
   "source": [
    "temp = df[df['is_ninjago'].astype(bool)]\n",
    "temp"
   ]
  },
  {
   "cell_type": "code",
   "execution_count": null,
   "id": "cedc99a9",
   "metadata": {},
   "outputs": [],
   "source": [
    "plt.hist(temp['num_parts'], bins=6000)\n",
    "plt.show()"
   ]
  },
  {
   "cell_type": "code",
   "execution_count": null,
   "id": "d0aff302",
   "metadata": {},
   "outputs": [],
   "source": []
  }
 ],
 "metadata": {
  "kernelspec": {
   "display_name": "Python 3",
   "language": "python",
   "name": "python3"
  },
  "language_info": {
   "codemirror_mode": {
    "name": "ipython",
    "version": 3
   },
   "file_extension": ".py",
   "mimetype": "text/x-python",
   "name": "python",
   "nbconvert_exporter": "python",
   "pygments_lexer": "ipython3",
   "version": "3.8.8"
  }
 },
 "nbformat": 4,
 "nbformat_minor": 5
}
