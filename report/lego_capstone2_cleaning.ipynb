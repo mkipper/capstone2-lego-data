{
 "cells": [
  {
   "cell_type": "code",
   "execution_count": 1,
   "id": "266e237e",
   "metadata": {},
   "outputs": [],
   "source": [
    "import pandas as pd\n",
    "import numpy as np\n",
    "from sklearn.linear_model import LogisticRegression\n",
    "from sklearn.model_selection import train_test_split\n",
    "pd.options.display.max_columns=1000"
   ]
  },
  {
   "cell_type": "code",
   "execution_count": 2,
   "id": "7bbb4160",
   "metadata": {
    "scrolled": false
   },
   "outputs": [
    {
     "data": {
      "text/html": [
       "<div>\n",
       "<style scoped>\n",
       "    .dataframe tbody tr th:only-of-type {\n",
       "        vertical-align: middle;\n",
       "    }\n",
       "\n",
       "    .dataframe tbody tr th {\n",
       "        vertical-align: top;\n",
       "    }\n",
       "\n",
       "    .dataframe thead th {\n",
       "        text-align: right;\n",
       "    }\n",
       "</style>\n",
       "<table border=\"1\" class=\"dataframe\">\n",
       "  <thead>\n",
       "    <tr style=\"text-align: right;\">\n",
       "      <th></th>\n",
       "      <th>set_num</th>\n",
       "      <th>name</th>\n",
       "      <th>year</th>\n",
       "      <th>theme_id</th>\n",
       "      <th>num_parts</th>\n",
       "    </tr>\n",
       "  </thead>\n",
       "  <tbody>\n",
       "    <tr>\n",
       "      <th>0</th>\n",
       "      <td>001-1</td>\n",
       "      <td>Gears</td>\n",
       "      <td>1965</td>\n",
       "      <td>1</td>\n",
       "      <td>43</td>\n",
       "    </tr>\n",
       "  </tbody>\n",
       "</table>\n",
       "</div>"
      ],
      "text/plain": [
       "  set_num   name  year  theme_id  num_parts\n",
       "0   001-1  Gears  1965         1         43"
      ]
     },
     "execution_count": 2,
     "metadata": {},
     "output_type": "execute_result"
    }
   ],
   "source": [
    "#Picking 1 of the Lego tables that has a list of all sets by set_num and theme_id. Just to try the regression.\n",
    "sets = pd.read_csv('C:/Users/marki/Desktop/SB Data Science BC/Springboard/Capstone2/csvs/sets.csv')\n",
    "sets.head(1)"
   ]
  },
  {
   "cell_type": "code",
   "execution_count": 3,
   "id": "d9686b2f",
   "metadata": {},
   "outputs": [
    {
     "data": {
      "text/plain": [
       "set_num      417\n",
       "name         417\n",
       "year         417\n",
       "theme_id     417\n",
       "num_parts    417\n",
       "dtype: int64"
      ]
     },
     "execution_count": 3,
     "metadata": {},
     "output_type": "execute_result"
    }
   ],
   "source": [
    "sets[sets['theme_id']==435].count()"
   ]
  },
  {
   "cell_type": "code",
   "execution_count": 4,
   "id": "457a6380",
   "metadata": {},
   "outputs": [
    {
     "data": {
      "text/plain": [
       "set_num      18090\n",
       "name         18090\n",
       "year         18090\n",
       "theme_id     18090\n",
       "num_parts    18090\n",
       "dtype: int64"
      ]
     },
     "execution_count": 4,
     "metadata": {},
     "output_type": "execute_result"
    }
   ],
   "source": [
    "sets[sets['theme_id']!=435].count()"
   ]
  },
  {
   "cell_type": "code",
   "execution_count": 5,
   "id": "fca95951",
   "metadata": {},
   "outputs": [
    {
     "data": {
      "text/html": [
       "<div>\n",
       "<style scoped>\n",
       "    .dataframe tbody tr th:only-of-type {\n",
       "        vertical-align: middle;\n",
       "    }\n",
       "\n",
       "    .dataframe tbody tr th {\n",
       "        vertical-align: top;\n",
       "    }\n",
       "\n",
       "    .dataframe thead th {\n",
       "        text-align: right;\n",
       "    }\n",
       "</style>\n",
       "<table border=\"1\" class=\"dataframe\">\n",
       "  <thead>\n",
       "    <tr style=\"text-align: right;\">\n",
       "      <th></th>\n",
       "      <th>set_num</th>\n",
       "      <th>name</th>\n",
       "      <th>year</th>\n",
       "      <th>theme_id</th>\n",
       "      <th>num_parts</th>\n",
       "      <th>set_num_len</th>\n",
       "    </tr>\n",
       "  </thead>\n",
       "  <tbody>\n",
       "    <tr>\n",
       "      <th>0</th>\n",
       "      <td>001-1</td>\n",
       "      <td>Gears</td>\n",
       "      <td>1965</td>\n",
       "      <td>1</td>\n",
       "      <td>43</td>\n",
       "      <td>5</td>\n",
       "    </tr>\n",
       "  </tbody>\n",
       "</table>\n",
       "</div>"
      ],
      "text/plain": [
       "  set_num   name  year  theme_id  num_parts  set_num_len\n",
       "0   001-1  Gears  1965         1         43            5"
      ]
     },
     "execution_count": 5,
     "metadata": {},
     "output_type": "execute_result"
    }
   ],
   "source": [
    "sets['set_num_len'] = sets['set_num'].str.len()\n",
    "sets.head(1)"
   ]
  },
  {
   "cell_type": "code",
   "execution_count": 6,
   "id": "08db78aa",
   "metadata": {},
   "outputs": [
    {
     "data": {
      "text/html": [
       "<div>\n",
       "<style scoped>\n",
       "    .dataframe tbody tr th:only-of-type {\n",
       "        vertical-align: middle;\n",
       "    }\n",
       "\n",
       "    .dataframe tbody tr th {\n",
       "        vertical-align: top;\n",
       "    }\n",
       "\n",
       "    .dataframe thead th {\n",
       "        text-align: right;\n",
       "    }\n",
       "</style>\n",
       "<table border=\"1\" class=\"dataframe\">\n",
       "  <thead>\n",
       "    <tr style=\"text-align: right;\">\n",
       "      <th></th>\n",
       "      <th>set_num</th>\n",
       "      <th>name</th>\n",
       "      <th>year</th>\n",
       "      <th>theme_id</th>\n",
       "      <th>num_parts</th>\n",
       "      <th>set_num_len</th>\n",
       "      <th>name_len</th>\n",
       "    </tr>\n",
       "  </thead>\n",
       "  <tbody>\n",
       "    <tr>\n",
       "      <th>0</th>\n",
       "      <td>001-1</td>\n",
       "      <td>Gears</td>\n",
       "      <td>1965</td>\n",
       "      <td>1</td>\n",
       "      <td>43</td>\n",
       "      <td>5</td>\n",
       "      <td>5</td>\n",
       "    </tr>\n",
       "  </tbody>\n",
       "</table>\n",
       "</div>"
      ],
      "text/plain": [
       "  set_num   name  year  theme_id  num_parts  set_num_len  name_len\n",
       "0   001-1  Gears  1965         1         43            5         5"
      ]
     },
     "execution_count": 6,
     "metadata": {},
     "output_type": "execute_result"
    }
   ],
   "source": [
    "sets['name_len'] = sets['name'].str.len()\n",
    "sets.head(1)"
   ]
  },
  {
   "cell_type": "code",
   "execution_count": 7,
   "id": "f0652e02",
   "metadata": {},
   "outputs": [
    {
     "data": {
      "text/html": [
       "<div>\n",
       "<style scoped>\n",
       "    .dataframe tbody tr th:only-of-type {\n",
       "        vertical-align: middle;\n",
       "    }\n",
       "\n",
       "    .dataframe tbody tr th {\n",
       "        vertical-align: top;\n",
       "    }\n",
       "\n",
       "    .dataframe thead th {\n",
       "        text-align: right;\n",
       "    }\n",
       "</style>\n",
       "<table border=\"1\" class=\"dataframe\">\n",
       "  <thead>\n",
       "    <tr style=\"text-align: right;\">\n",
       "      <th></th>\n",
       "      <th>id</th>\n",
       "      <th>name</th>\n",
       "      <th>parent_id</th>\n",
       "    </tr>\n",
       "  </thead>\n",
       "  <tbody>\n",
       "    <tr>\n",
       "      <th>0</th>\n",
       "      <td>1</td>\n",
       "      <td>Technic</td>\n",
       "      <td>NaN</td>\n",
       "    </tr>\n",
       "  </tbody>\n",
       "</table>\n",
       "</div>"
      ],
      "text/plain": [
       "   id     name  parent_id\n",
       "0   1  Technic        NaN"
      ]
     },
     "execution_count": 7,
     "metadata": {},
     "output_type": "execute_result"
    }
   ],
   "source": [
    "#Bring in the themes table so I can put a theme name to the set numbers \n",
    "themes = pd.read_csv('C:/Users/marki/Desktop/SB Data Science BC/Springboard/Capstone2/csvs/themes.csv')\n",
    "themes.head(1)"
   ]
  },
  {
   "cell_type": "code",
   "execution_count": 8,
   "id": "74c5b90d",
   "metadata": {},
   "outputs": [
    {
     "data": {
      "text/plain": [
       "(444, 3)"
      ]
     },
     "execution_count": 8,
     "metadata": {},
     "output_type": "execute_result"
    }
   ],
   "source": [
    "themes.shape"
   ]
  },
  {
   "cell_type": "code",
   "execution_count": 9,
   "id": "702ea109",
   "metadata": {},
   "outputs": [
    {
     "data": {
      "text/html": [
       "<div>\n",
       "<style scoped>\n",
       "    .dataframe tbody tr th:only-of-type {\n",
       "        vertical-align: middle;\n",
       "    }\n",
       "\n",
       "    .dataframe tbody tr th {\n",
       "        vertical-align: top;\n",
       "    }\n",
       "\n",
       "    .dataframe thead th {\n",
       "        text-align: right;\n",
       "    }\n",
       "</style>\n",
       "<table border=\"1\" class=\"dataframe\">\n",
       "  <thead>\n",
       "    <tr style=\"text-align: right;\">\n",
       "      <th></th>\n",
       "      <th>theme_id</th>\n",
       "      <th>theme_name</th>\n",
       "      <th>parent_id</th>\n",
       "    </tr>\n",
       "  </thead>\n",
       "  <tbody>\n",
       "    <tr>\n",
       "      <th>0</th>\n",
       "      <td>1</td>\n",
       "      <td>Technic</td>\n",
       "      <td>NaN</td>\n",
       "    </tr>\n",
       "  </tbody>\n",
       "</table>\n",
       "</div>"
      ],
      "text/plain": [
       "   theme_id theme_name  parent_id\n",
       "0         1    Technic        NaN"
      ]
     },
     "execution_count": 9,
     "metadata": {},
     "output_type": "execute_result"
    }
   ],
   "source": [
    "themes = themes.rename(columns={'id':'theme_id', 'name':'theme_name'})\n",
    "themes.head(1)"
   ]
  },
  {
   "cell_type": "code",
   "execution_count": 10,
   "id": "27696f14",
   "metadata": {},
   "outputs": [
    {
     "data": {
      "text/html": [
       "<div>\n",
       "<style scoped>\n",
       "    .dataframe tbody tr th:only-of-type {\n",
       "        vertical-align: middle;\n",
       "    }\n",
       "\n",
       "    .dataframe tbody tr th {\n",
       "        vertical-align: top;\n",
       "    }\n",
       "\n",
       "    .dataframe thead th {\n",
       "        text-align: right;\n",
       "    }\n",
       "</style>\n",
       "<table border=\"1\" class=\"dataframe\">\n",
       "  <thead>\n",
       "    <tr style=\"text-align: right;\">\n",
       "      <th></th>\n",
       "      <th>theme_id</th>\n",
       "      <th>theme_name</th>\n",
       "    </tr>\n",
       "  </thead>\n",
       "  <tbody>\n",
       "    <tr>\n",
       "      <th>0</th>\n",
       "      <td>1</td>\n",
       "      <td>Technic</td>\n",
       "    </tr>\n",
       "  </tbody>\n",
       "</table>\n",
       "</div>"
      ],
      "text/plain": [
       "   theme_id theme_name\n",
       "0         1    Technic"
      ]
     },
     "execution_count": 10,
     "metadata": {},
     "output_type": "execute_result"
    }
   ],
   "source": [
    "#parent_id column is not needed\n",
    "themes = themes.drop('parent_id', axis=1)\n",
    "themes.head(1)"
   ]
  },
  {
   "cell_type": "code",
   "execution_count": 11,
   "id": "72909ee5",
   "metadata": {},
   "outputs": [
    {
     "data": {
      "text/html": [
       "<div>\n",
       "<style scoped>\n",
       "    .dataframe tbody tr th:only-of-type {\n",
       "        vertical-align: middle;\n",
       "    }\n",
       "\n",
       "    .dataframe tbody tr th {\n",
       "        vertical-align: top;\n",
       "    }\n",
       "\n",
       "    .dataframe thead th {\n",
       "        text-align: right;\n",
       "    }\n",
       "</style>\n",
       "<table border=\"1\" class=\"dataframe\">\n",
       "  <thead>\n",
       "    <tr style=\"text-align: right;\">\n",
       "      <th></th>\n",
       "      <th>set_num</th>\n",
       "      <th>name</th>\n",
       "      <th>year</th>\n",
       "      <th>theme_id</th>\n",
       "      <th>num_parts</th>\n",
       "      <th>set_num_len</th>\n",
       "      <th>name_len</th>\n",
       "      <th>theme_name</th>\n",
       "    </tr>\n",
       "  </thead>\n",
       "  <tbody>\n",
       "    <tr>\n",
       "      <th>0</th>\n",
       "      <td>001-1</td>\n",
       "      <td>Gears</td>\n",
       "      <td>1965</td>\n",
       "      <td>1</td>\n",
       "      <td>43</td>\n",
       "      <td>5</td>\n",
       "      <td>5</td>\n",
       "      <td>Technic</td>\n",
       "    </tr>\n",
       "  </tbody>\n",
       "</table>\n",
       "</div>"
      ],
      "text/plain": [
       "  set_num   name  year  theme_id  num_parts  set_num_len  name_len theme_name\n",
       "0   001-1  Gears  1965         1         43            5         5    Technic"
      ]
     },
     "execution_count": 11,
     "metadata": {},
     "output_type": "execute_result"
    }
   ],
   "source": [
    "df = sets.merge(themes, on='theme_id', how='left')\n",
    "df.head(1)"
   ]
  },
  {
   "cell_type": "code",
   "execution_count": 12,
   "id": "8799c79a",
   "metadata": {},
   "outputs": [
    {
     "data": {
      "text/plain": [
       "(18507, 8)"
      ]
     },
     "execution_count": 12,
     "metadata": {},
     "output_type": "execute_result"
    }
   ],
   "source": [
    "df.shape"
   ]
  },
  {
   "cell_type": "code",
   "execution_count": 13,
   "id": "f961b9ed",
   "metadata": {},
   "outputs": [
    {
     "data": {
      "text/plain": [
       "501    1898\n",
       "158     800\n",
       "503     579\n",
       "494     462\n",
       "324     420\n",
       "       ... \n",
       "34        1\n",
       "156       1\n",
       "241       1\n",
       "307       1\n",
       "512       1\n",
       "Name: theme_id, Length: 435, dtype: int64"
      ]
     },
     "execution_count": 13,
     "metadata": {},
     "output_type": "execute_result"
    }
   ],
   "source": [
    "# List of the most used themes\n",
    "df['theme_id'].value_counts()"
   ]
  },
  {
   "cell_type": "code",
   "execution_count": 14,
   "id": "64f65f31",
   "metadata": {},
   "outputs": [
    {
     "data": {
      "text/html": [
       "<div>\n",
       "<style scoped>\n",
       "    .dataframe tbody tr th:only-of-type {\n",
       "        vertical-align: middle;\n",
       "    }\n",
       "\n",
       "    .dataframe tbody tr th {\n",
       "        vertical-align: top;\n",
       "    }\n",
       "\n",
       "    .dataframe thead th {\n",
       "        text-align: right;\n",
       "    }\n",
       "</style>\n",
       "<table border=\"1\" class=\"dataframe\">\n",
       "  <thead>\n",
       "    <tr style=\"text-align: right;\">\n",
       "      <th></th>\n",
       "      <th>theme_id</th>\n",
       "      <th>theme_name</th>\n",
       "    </tr>\n",
       "  </thead>\n",
       "  <tbody>\n",
       "    <tr>\n",
       "      <th>255</th>\n",
       "      <td>501</td>\n",
       "      <td>Gear</td>\n",
       "    </tr>\n",
       "  </tbody>\n",
       "</table>\n",
       "</div>"
      ],
      "text/plain": [
       "     theme_id theme_name\n",
       "255       501       Gear"
      ]
     },
     "execution_count": 14,
     "metadata": {},
     "output_type": "execute_result"
    }
   ],
   "source": [
    "# Gear as a theme doesn't really help identify the set - gears can be used in many sets\n",
    "themes[themes['theme_id'] == 501]"
   ]
  },
  {
   "cell_type": "code",
   "execution_count": 15,
   "id": "1f367a3c",
   "metadata": {},
   "outputs": [
    {
     "data": {
      "text/html": [
       "<div>\n",
       "<style scoped>\n",
       "    .dataframe tbody tr th:only-of-type {\n",
       "        vertical-align: middle;\n",
       "    }\n",
       "\n",
       "    .dataframe tbody tr th {\n",
       "        vertical-align: top;\n",
       "    }\n",
       "\n",
       "    .dataframe thead th {\n",
       "        text-align: right;\n",
       "    }\n",
       "</style>\n",
       "<table border=\"1\" class=\"dataframe\">\n",
       "  <thead>\n",
       "    <tr style=\"text-align: right;\">\n",
       "      <th></th>\n",
       "      <th>theme_id</th>\n",
       "      <th>theme_name</th>\n",
       "    </tr>\n",
       "  </thead>\n",
       "  <tbody>\n",
       "    <tr>\n",
       "      <th>78</th>\n",
       "      <td>158</td>\n",
       "      <td>Star Wars</td>\n",
       "    </tr>\n",
       "  </tbody>\n",
       "</table>\n",
       "</div>"
      ],
      "text/plain": [
       "    theme_id theme_name\n",
       "78       158  Star Wars"
      ]
     },
     "execution_count": 15,
     "metadata": {},
     "output_type": "execute_result"
    }
   ],
   "source": [
    "# Star Wars as a theme\n",
    "themes[themes['theme_id'] == 158]"
   ]
  },
  {
   "cell_type": "code",
   "execution_count": 16,
   "id": "f6508bb7",
   "metadata": {},
   "outputs": [
    {
     "data": {
      "text/html": [
       "<div>\n",
       "<style scoped>\n",
       "    .dataframe tbody tr th:only-of-type {\n",
       "        vertical-align: middle;\n",
       "    }\n",
       "\n",
       "    .dataframe tbody tr th {\n",
       "        vertical-align: top;\n",
       "    }\n",
       "\n",
       "    .dataframe thead th {\n",
       "        text-align: right;\n",
       "    }\n",
       "</style>\n",
       "<table border=\"1\" class=\"dataframe\">\n",
       "  <thead>\n",
       "    <tr style=\"text-align: right;\">\n",
       "      <th></th>\n",
       "      <th>theme_id</th>\n",
       "      <th>theme_name</th>\n",
       "    </tr>\n",
       "  </thead>\n",
       "  <tbody>\n",
       "    <tr>\n",
       "      <th>257</th>\n",
       "      <td>503</td>\n",
       "      <td>Key Chain</td>\n",
       "    </tr>\n",
       "  </tbody>\n",
       "</table>\n",
       "</div>"
      ],
      "text/plain": [
       "     theme_id theme_name\n",
       "257       503  Key Chain"
      ]
     },
     "execution_count": 16,
     "metadata": {},
     "output_type": "execute_result"
    }
   ],
   "source": [
    "# Key Chain is quite different from regular Lego bricks and a duplo brick is easily identifiable to a duplo set.\n",
    "themes[themes['theme_id'] == 503]"
   ]
  },
  {
   "cell_type": "code",
   "execution_count": 17,
   "id": "dc4678f4",
   "metadata": {},
   "outputs": [
    {
     "data": {
      "text/html": [
       "<div>\n",
       "<style scoped>\n",
       "    .dataframe tbody tr th:only-of-type {\n",
       "        vertical-align: middle;\n",
       "    }\n",
       "\n",
       "    .dataframe tbody tr th {\n",
       "        vertical-align: top;\n",
       "    }\n",
       "\n",
       "    .dataframe thead th {\n",
       "        text-align: right;\n",
       "    }\n",
       "</style>\n",
       "<table border=\"1\" class=\"dataframe\">\n",
       "  <thead>\n",
       "    <tr style=\"text-align: right;\">\n",
       "      <th></th>\n",
       "      <th>theme_id</th>\n",
       "      <th>theme_name</th>\n",
       "    </tr>\n",
       "  </thead>\n",
       "  <tbody>\n",
       "    <tr>\n",
       "      <th>251</th>\n",
       "      <td>494</td>\n",
       "      <td>Friends</td>\n",
       "    </tr>\n",
       "  </tbody>\n",
       "</table>\n",
       "</div>"
      ],
      "text/plain": [
       "     theme_id theme_name\n",
       "251       494    Friends"
      ]
     },
     "execution_count": 17,
     "metadata": {},
     "output_type": "execute_result"
    }
   ],
   "source": [
    "# Friends as a theme\n",
    "themes[themes['theme_id'] == 494]"
   ]
  },
  {
   "cell_type": "code",
   "execution_count": 18,
   "id": "3f965148",
   "metadata": {},
   "outputs": [
    {
     "data": {
      "text/html": [
       "<div>\n",
       "<style scoped>\n",
       "    .dataframe tbody tr th:only-of-type {\n",
       "        vertical-align: middle;\n",
       "    }\n",
       "\n",
       "    .dataframe tbody tr th {\n",
       "        vertical-align: top;\n",
       "    }\n",
       "\n",
       "    .dataframe thead th {\n",
       "        text-align: right;\n",
       "    }\n",
       "</style>\n",
       "<table border=\"1\" class=\"dataframe\">\n",
       "  <thead>\n",
       "    <tr style=\"text-align: right;\">\n",
       "      <th></th>\n",
       "      <th>id</th>\n",
       "      <th>version</th>\n",
       "      <th>set_num</th>\n",
       "    </tr>\n",
       "  </thead>\n",
       "  <tbody>\n",
       "    <tr>\n",
       "      <th>0</th>\n",
       "      <td>1</td>\n",
       "      <td>1</td>\n",
       "      <td>7922-1</td>\n",
       "    </tr>\n",
       "  </tbody>\n",
       "</table>\n",
       "</div>"
      ],
      "text/plain": [
       "   id  version set_num\n",
       "0   1        1  7922-1"
      ]
     },
     "execution_count": 18,
     "metadata": {},
     "output_type": "execute_result"
    }
   ],
   "source": [
    "inventories = pd.read_csv('C:/Users/marki/Desktop/SB Data Science BC/Springboard/Capstone2/csvs/inventories.csv')\n",
    "inventories.head(1)"
   ]
  },
  {
   "cell_type": "code",
   "execution_count": 19,
   "id": "8cceada1",
   "metadata": {},
   "outputs": [
    {
     "name": "stdout",
     "output_type": "stream",
     "text": [
      "<class 'pandas.core.frame.DataFrame'>\n",
      "RangeIndex: 31277 entries, 0 to 31276\n",
      "Data columns (total 3 columns):\n",
      " #   Column   Non-Null Count  Dtype \n",
      "---  ------   --------------  ----- \n",
      " 0   id       31277 non-null  int64 \n",
      " 1   version  31277 non-null  int64 \n",
      " 2   set_num  31277 non-null  object\n",
      "dtypes: int64(2), object(1)\n",
      "memory usage: 733.2+ KB\n"
     ]
    }
   ],
   "source": [
    "inventories.info()"
   ]
  },
  {
   "cell_type": "code",
   "execution_count": 20,
   "id": "78a3b62c",
   "metadata": {},
   "outputs": [
    {
     "data": {
      "text/plain": [
       "(31277, 3)"
      ]
     },
     "execution_count": 20,
     "metadata": {},
     "output_type": "execute_result"
    }
   ],
   "source": [
    "inventories.shape"
   ]
  },
  {
   "cell_type": "code",
   "execution_count": 21,
   "id": "63693e53",
   "metadata": {},
   "outputs": [
    {
     "data": {
      "text/plain": [
       "(18507, 8)"
      ]
     },
     "execution_count": 21,
     "metadata": {},
     "output_type": "execute_result"
    }
   ],
   "source": [
    "df.shape"
   ]
  },
  {
   "cell_type": "code",
   "execution_count": 22,
   "id": "1c5846d8",
   "metadata": {},
   "outputs": [
    {
     "data": {
      "text/html": [
       "<div>\n",
       "<style scoped>\n",
       "    .dataframe tbody tr th:only-of-type {\n",
       "        vertical-align: middle;\n",
       "    }\n",
       "\n",
       "    .dataframe tbody tr th {\n",
       "        vertical-align: top;\n",
       "    }\n",
       "\n",
       "    .dataframe thead th {\n",
       "        text-align: right;\n",
       "    }\n",
       "</style>\n",
       "<table border=\"1\" class=\"dataframe\">\n",
       "  <thead>\n",
       "    <tr style=\"text-align: right;\">\n",
       "      <th></th>\n",
       "      <th>set_num</th>\n",
       "      <th>name</th>\n",
       "      <th>year</th>\n",
       "      <th>theme_id</th>\n",
       "      <th>num_parts</th>\n",
       "      <th>set_num_len</th>\n",
       "      <th>name_len</th>\n",
       "      <th>theme_name</th>\n",
       "      <th>id</th>\n",
       "      <th>version</th>\n",
       "    </tr>\n",
       "  </thead>\n",
       "  <tbody>\n",
       "    <tr>\n",
       "      <th>0</th>\n",
       "      <td>001-1</td>\n",
       "      <td>Gears</td>\n",
       "      <td>1965</td>\n",
       "      <td>1</td>\n",
       "      <td>43</td>\n",
       "      <td>5</td>\n",
       "      <td>5</td>\n",
       "      <td>Technic</td>\n",
       "      <td>24696</td>\n",
       "      <td>1</td>\n",
       "    </tr>\n",
       "  </tbody>\n",
       "</table>\n",
       "</div>"
      ],
      "text/plain": [
       "  set_num   name  year  theme_id  num_parts  set_num_len  name_len theme_name  \\\n",
       "0   001-1  Gears  1965         1         43            5         5    Technic   \n",
       "\n",
       "      id  version  \n",
       "0  24696        1  "
      ]
     },
     "execution_count": 22,
     "metadata": {},
     "output_type": "execute_result"
    }
   ],
   "source": [
    "df = df.merge(inventories, on='set_num', how='left')\n",
    "df.head(1)"
   ]
  },
  {
   "cell_type": "code",
   "execution_count": 23,
   "id": "585c5ba7",
   "metadata": {},
   "outputs": [
    {
     "data": {
      "text/plain": [
       "(19675, 10)"
      ]
     },
     "execution_count": 23,
     "metadata": {},
     "output_type": "execute_result"
    }
   ],
   "source": [
    "df.shape"
   ]
  },
  {
   "cell_type": "code",
   "execution_count": 24,
   "id": "f789f7b6",
   "metadata": {},
   "outputs": [
    {
     "data": {
      "text/html": [
       "<div>\n",
       "<style scoped>\n",
       "    .dataframe tbody tr th:only-of-type {\n",
       "        vertical-align: middle;\n",
       "    }\n",
       "\n",
       "    .dataframe tbody tr th {\n",
       "        vertical-align: top;\n",
       "    }\n",
       "\n",
       "    .dataframe thead th {\n",
       "        text-align: right;\n",
       "    }\n",
       "</style>\n",
       "<table border=\"1\" class=\"dataframe\">\n",
       "  <thead>\n",
       "    <tr style=\"text-align: right;\">\n",
       "      <th></th>\n",
       "      <th>set_num</th>\n",
       "      <th>name</th>\n",
       "      <th>year</th>\n",
       "      <th>theme_id</th>\n",
       "      <th>num_parts</th>\n",
       "      <th>set_num_len</th>\n",
       "      <th>name_len</th>\n",
       "      <th>theme_name</th>\n",
       "      <th>id</th>\n",
       "    </tr>\n",
       "  </thead>\n",
       "  <tbody>\n",
       "    <tr>\n",
       "      <th>0</th>\n",
       "      <td>001-1</td>\n",
       "      <td>Gears</td>\n",
       "      <td>1965</td>\n",
       "      <td>1</td>\n",
       "      <td>43</td>\n",
       "      <td>5</td>\n",
       "      <td>5</td>\n",
       "      <td>Technic</td>\n",
       "      <td>24696</td>\n",
       "    </tr>\n",
       "  </tbody>\n",
       "</table>\n",
       "</div>"
      ],
      "text/plain": [
       "  set_num   name  year  theme_id  num_parts  set_num_len  name_len theme_name  \\\n",
       "0   001-1  Gears  1965         1         43            5         5    Technic   \n",
       "\n",
       "      id  \n",
       "0  24696  "
      ]
     },
     "execution_count": 24,
     "metadata": {},
     "output_type": "execute_result"
    }
   ],
   "source": [
    "df = df.drop('version', axis=1)\n",
    "df.head(1)"
   ]
  },
  {
   "cell_type": "code",
   "execution_count": 25,
   "id": "6fe50b72",
   "metadata": {},
   "outputs": [
    {
     "data": {
      "text/html": [
       "<div>\n",
       "<style scoped>\n",
       "    .dataframe tbody tr th:only-of-type {\n",
       "        vertical-align: middle;\n",
       "    }\n",
       "\n",
       "    .dataframe tbody tr th {\n",
       "        vertical-align: top;\n",
       "    }\n",
       "\n",
       "    .dataframe thead th {\n",
       "        text-align: right;\n",
       "    }\n",
       "</style>\n",
       "<table border=\"1\" class=\"dataframe\">\n",
       "  <thead>\n",
       "    <tr style=\"text-align: right;\">\n",
       "      <th></th>\n",
       "      <th>inventory_id</th>\n",
       "      <th>part_num</th>\n",
       "      <th>color_id</th>\n",
       "      <th>quantity</th>\n",
       "      <th>is_spare</th>\n",
       "    </tr>\n",
       "  </thead>\n",
       "  <tbody>\n",
       "    <tr>\n",
       "      <th>0</th>\n",
       "      <td>1</td>\n",
       "      <td>48379c01</td>\n",
       "      <td>72</td>\n",
       "      <td>1</td>\n",
       "      <td>f</td>\n",
       "    </tr>\n",
       "  </tbody>\n",
       "</table>\n",
       "</div>"
      ],
      "text/plain": [
       "   inventory_id  part_num  color_id  quantity is_spare\n",
       "0             1  48379c01        72         1        f"
      ]
     },
     "execution_count": 25,
     "metadata": {},
     "output_type": "execute_result"
    }
   ],
   "source": [
    "inventory_parts = pd.read_csv('C:/Users/marki/Desktop/SB Data Science BC/Springboard/Capstone2/csvs/inventory_parts.csv')\n",
    "inventory_parts.head(1)"
   ]
  },
  {
   "cell_type": "code",
   "execution_count": 26,
   "id": "9e358227",
   "metadata": {},
   "outputs": [
    {
     "data": {
      "text/html": [
       "<div>\n",
       "<style scoped>\n",
       "    .dataframe tbody tr th:only-of-type {\n",
       "        vertical-align: middle;\n",
       "    }\n",
       "\n",
       "    .dataframe tbody tr th {\n",
       "        vertical-align: top;\n",
       "    }\n",
       "\n",
       "    .dataframe thead th {\n",
       "        text-align: right;\n",
       "    }\n",
       "</style>\n",
       "<table border=\"1\" class=\"dataframe\">\n",
       "  <thead>\n",
       "    <tr style=\"text-align: right;\">\n",
       "      <th></th>\n",
       "      <th>id</th>\n",
       "      <th>part_num</th>\n",
       "      <th>color_id</th>\n",
       "      <th>quantity</th>\n",
       "      <th>is_spare</th>\n",
       "    </tr>\n",
       "  </thead>\n",
       "  <tbody>\n",
       "    <tr>\n",
       "      <th>0</th>\n",
       "      <td>1</td>\n",
       "      <td>48379c01</td>\n",
       "      <td>72</td>\n",
       "      <td>1</td>\n",
       "      <td>f</td>\n",
       "    </tr>\n",
       "  </tbody>\n",
       "</table>\n",
       "</div>"
      ],
      "text/plain": [
       "   id  part_num  color_id  quantity is_spare\n",
       "0   1  48379c01        72         1        f"
      ]
     },
     "execution_count": 26,
     "metadata": {},
     "output_type": "execute_result"
    }
   ],
   "source": [
    "inventory_parts = inventory_parts.rename(columns={'inventory_id':'id'})\n",
    "inventory_parts.head(1)"
   ]
  },
  {
   "cell_type": "code",
   "execution_count": 27,
   "id": "54b13ba8",
   "metadata": {},
   "outputs": [
    {
     "data": {
      "text/plain": [
       "(972396, 5)"
      ]
     },
     "execution_count": 27,
     "metadata": {},
     "output_type": "execute_result"
    }
   ],
   "source": [
    "inventory_parts.shape"
   ]
  },
  {
   "cell_type": "code",
   "execution_count": 28,
   "id": "35adf856",
   "metadata": {},
   "outputs": [
    {
     "data": {
      "text/html": [
       "<div>\n",
       "<style scoped>\n",
       "    .dataframe tbody tr th:only-of-type {\n",
       "        vertical-align: middle;\n",
       "    }\n",
       "\n",
       "    .dataframe tbody tr th {\n",
       "        vertical-align: top;\n",
       "    }\n",
       "\n",
       "    .dataframe thead th {\n",
       "        text-align: right;\n",
       "    }\n",
       "</style>\n",
       "<table border=\"1\" class=\"dataframe\">\n",
       "  <thead>\n",
       "    <tr style=\"text-align: right;\">\n",
       "      <th></th>\n",
       "      <th>id</th>\n",
       "      <th>name</th>\n",
       "      <th>rgb</th>\n",
       "      <th>is_trans</th>\n",
       "    </tr>\n",
       "  </thead>\n",
       "  <tbody>\n",
       "    <tr>\n",
       "      <th>0</th>\n",
       "      <td>-1</td>\n",
       "      <td>[Unknown]</td>\n",
       "      <td>0033B2</td>\n",
       "      <td>f</td>\n",
       "    </tr>\n",
       "  </tbody>\n",
       "</table>\n",
       "</div>"
      ],
      "text/plain": [
       "   id       name     rgb is_trans\n",
       "0  -1  [Unknown]  0033B2        f"
      ]
     },
     "execution_count": 28,
     "metadata": {},
     "output_type": "execute_result"
    }
   ],
   "source": [
    "colors = pd.read_csv('C:/Users/marki/Desktop/SB Data Science BC/Springboard/Capstone2/csvs/colors.csv')\n",
    "colors.head(1)"
   ]
  },
  {
   "cell_type": "code",
   "execution_count": 29,
   "id": "aeccf487",
   "metadata": {},
   "outputs": [
    {
     "data": {
      "text/plain": [
       "(190, 4)"
      ]
     },
     "execution_count": 29,
     "metadata": {},
     "output_type": "execute_result"
    }
   ],
   "source": [
    "colors.shape"
   ]
  },
  {
   "cell_type": "code",
   "execution_count": 30,
   "id": "c8e22d05",
   "metadata": {},
   "outputs": [
    {
     "data": {
      "text/plain": [
       "(190, 4)"
      ]
     },
     "execution_count": 30,
     "metadata": {},
     "output_type": "execute_result"
    }
   ],
   "source": [
    "colors.shape"
   ]
  },
  {
   "cell_type": "code",
   "execution_count": 31,
   "id": "1cd2e3dc",
   "metadata": {},
   "outputs": [
    {
     "data": {
      "text/html": [
       "<div>\n",
       "<style scoped>\n",
       "    .dataframe tbody tr th:only-of-type {\n",
       "        vertical-align: middle;\n",
       "    }\n",
       "\n",
       "    .dataframe tbody tr th {\n",
       "        vertical-align: top;\n",
       "    }\n",
       "\n",
       "    .dataframe thead th {\n",
       "        text-align: right;\n",
       "    }\n",
       "</style>\n",
       "<table border=\"1\" class=\"dataframe\">\n",
       "  <thead>\n",
       "    <tr style=\"text-align: right;\">\n",
       "      <th></th>\n",
       "      <th>color_id</th>\n",
       "      <th>color_name</th>\n",
       "      <th>rgb</th>\n",
       "      <th>is_trans</th>\n",
       "    </tr>\n",
       "  </thead>\n",
       "  <tbody>\n",
       "    <tr>\n",
       "      <th>0</th>\n",
       "      <td>-1</td>\n",
       "      <td>[Unknown]</td>\n",
       "      <td>0033B2</td>\n",
       "      <td>f</td>\n",
       "    </tr>\n",
       "  </tbody>\n",
       "</table>\n",
       "</div>"
      ],
      "text/plain": [
       "   color_id color_name     rgb is_trans\n",
       "0        -1  [Unknown]  0033B2        f"
      ]
     },
     "execution_count": 31,
     "metadata": {},
     "output_type": "execute_result"
    }
   ],
   "source": [
    "colors = colors.rename(columns={'id':'color_id', 'name':'color_name'})\n",
    "colors.head(1)"
   ]
  },
  {
   "cell_type": "code",
   "execution_count": 32,
   "id": "4a74278b",
   "metadata": {},
   "outputs": [
    {
     "data": {
      "text/html": [
       "<div>\n",
       "<style scoped>\n",
       "    .dataframe tbody tr th:only-of-type {\n",
       "        vertical-align: middle;\n",
       "    }\n",
       "\n",
       "    .dataframe tbody tr th {\n",
       "        vertical-align: top;\n",
       "    }\n",
       "\n",
       "    .dataframe thead th {\n",
       "        text-align: right;\n",
       "    }\n",
       "</style>\n",
       "<table border=\"1\" class=\"dataframe\">\n",
       "  <thead>\n",
       "    <tr style=\"text-align: right;\">\n",
       "      <th></th>\n",
       "      <th>id</th>\n",
       "      <th>part_num</th>\n",
       "      <th>color_id</th>\n",
       "      <th>quantity</th>\n",
       "      <th>is_spare</th>\n",
       "      <th>color_name</th>\n",
       "      <th>rgb</th>\n",
       "      <th>is_trans</th>\n",
       "    </tr>\n",
       "  </thead>\n",
       "  <tbody>\n",
       "    <tr>\n",
       "      <th>0</th>\n",
       "      <td>1</td>\n",
       "      <td>48379c01</td>\n",
       "      <td>72</td>\n",
       "      <td>1</td>\n",
       "      <td>f</td>\n",
       "      <td>Dark Bluish Gray</td>\n",
       "      <td>6C6E68</td>\n",
       "      <td>f</td>\n",
       "    </tr>\n",
       "  </tbody>\n",
       "</table>\n",
       "</div>"
      ],
      "text/plain": [
       "   id  part_num  color_id  quantity is_spare        color_name     rgb  \\\n",
       "0   1  48379c01        72         1        f  Dark Bluish Gray  6C6E68   \n",
       "\n",
       "  is_trans  \n",
       "0        f  "
      ]
     },
     "execution_count": 32,
     "metadata": {},
     "output_type": "execute_result"
    }
   ],
   "source": [
    "dfB = inventory_parts.merge(colors, on='color_id', how='left')\n",
    "dfB.head(1)"
   ]
  },
  {
   "cell_type": "code",
   "execution_count": 33,
   "id": "57928ebc",
   "metadata": {},
   "outputs": [
    {
     "data": {
      "text/plain": [
       "(972396, 8)"
      ]
     },
     "execution_count": 33,
     "metadata": {},
     "output_type": "execute_result"
    }
   ],
   "source": [
    "dfB.shape"
   ]
  },
  {
   "cell_type": "code",
   "execution_count": 34,
   "id": "60806409",
   "metadata": {},
   "outputs": [
    {
     "name": "stdout",
     "output_type": "stream",
     "text": [
      "<class 'pandas.core.frame.DataFrame'>\n",
      "Int64Index: 972396 entries, 0 to 972395\n",
      "Data columns (total 8 columns):\n",
      " #   Column      Non-Null Count   Dtype \n",
      "---  ------      --------------   ----- \n",
      " 0   id          972396 non-null  int64 \n",
      " 1   part_num    972396 non-null  object\n",
      " 2   color_id    972396 non-null  int64 \n",
      " 3   quantity    972396 non-null  int64 \n",
      " 4   is_spare    972396 non-null  object\n",
      " 5   color_name  972396 non-null  object\n",
      " 6   rgb         972396 non-null  object\n",
      " 7   is_trans    972396 non-null  object\n",
      "dtypes: int64(3), object(5)\n",
      "memory usage: 66.8+ MB\n"
     ]
    }
   ],
   "source": [
    "dfB.info()"
   ]
  },
  {
   "cell_type": "code",
   "execution_count": 35,
   "id": "137fb107",
   "metadata": {},
   "outputs": [
    {
     "data": {
      "text/html": [
       "<div>\n",
       "<style scoped>\n",
       "    .dataframe tbody tr th:only-of-type {\n",
       "        vertical-align: middle;\n",
       "    }\n",
       "\n",
       "    .dataframe tbody tr th {\n",
       "        vertical-align: top;\n",
       "    }\n",
       "\n",
       "    .dataframe thead th {\n",
       "        text-align: right;\n",
       "    }\n",
       "</style>\n",
       "<table border=\"1\" class=\"dataframe\">\n",
       "  <thead>\n",
       "    <tr style=\"text-align: right;\">\n",
       "      <th></th>\n",
       "      <th>part_num</th>\n",
       "      <th>name</th>\n",
       "      <th>part_cat_id</th>\n",
       "      <th>part_material</th>\n",
       "    </tr>\n",
       "  </thead>\n",
       "  <tbody>\n",
       "    <tr>\n",
       "      <th>0</th>\n",
       "      <td>003381</td>\n",
       "      <td>Sticker Sheet for Set 663-1</td>\n",
       "      <td>58</td>\n",
       "      <td>Plastic</td>\n",
       "    </tr>\n",
       "  </tbody>\n",
       "</table>\n",
       "</div>"
      ],
      "text/plain": [
       "  part_num                         name  part_cat_id part_material\n",
       "0   003381  Sticker Sheet for Set 663-1           58       Plastic"
      ]
     },
     "execution_count": 35,
     "metadata": {},
     "output_type": "execute_result"
    }
   ],
   "source": [
    "parts = pd.read_csv('C:/Users/marki/Desktop/SB Data Science BC/Springboard/Capstone2/csvs/parts.csv')\n",
    "parts.head(1)"
   ]
  },
  {
   "cell_type": "code",
   "execution_count": 36,
   "id": "24a14b1f",
   "metadata": {},
   "outputs": [
    {
     "data": {
      "text/html": [
       "<div>\n",
       "<style scoped>\n",
       "    .dataframe tbody tr th:only-of-type {\n",
       "        vertical-align: middle;\n",
       "    }\n",
       "\n",
       "    .dataframe tbody tr th {\n",
       "        vertical-align: top;\n",
       "    }\n",
       "\n",
       "    .dataframe thead th {\n",
       "        text-align: right;\n",
       "    }\n",
       "</style>\n",
       "<table border=\"1\" class=\"dataframe\">\n",
       "  <thead>\n",
       "    <tr style=\"text-align: right;\">\n",
       "      <th></th>\n",
       "      <th>part_num</th>\n",
       "      <th>part_name</th>\n",
       "      <th>part_cat_id</th>\n",
       "      <th>part_material</th>\n",
       "    </tr>\n",
       "  </thead>\n",
       "  <tbody>\n",
       "    <tr>\n",
       "      <th>0</th>\n",
       "      <td>003381</td>\n",
       "      <td>Sticker Sheet for Set 663-1</td>\n",
       "      <td>58</td>\n",
       "      <td>Plastic</td>\n",
       "    </tr>\n",
       "  </tbody>\n",
       "</table>\n",
       "</div>"
      ],
      "text/plain": [
       "  part_num                    part_name  part_cat_id part_material\n",
       "0   003381  Sticker Sheet for Set 663-1           58       Plastic"
      ]
     },
     "execution_count": 36,
     "metadata": {},
     "output_type": "execute_result"
    }
   ],
   "source": [
    "parts = parts.rename(columns={'name':'part_name'})\n",
    "parts.head(1)"
   ]
  },
  {
   "cell_type": "code",
   "execution_count": 37,
   "id": "cfe2c7de",
   "metadata": {},
   "outputs": [
    {
     "data": {
      "text/plain": [
       "(44074, 4)"
      ]
     },
     "execution_count": 37,
     "metadata": {},
     "output_type": "execute_result"
    }
   ],
   "source": [
    "parts.shape"
   ]
  },
  {
   "cell_type": "code",
   "execution_count": 38,
   "id": "128cfb51",
   "metadata": {},
   "outputs": [
    {
     "data": {
      "text/html": [
       "<div>\n",
       "<style scoped>\n",
       "    .dataframe tbody tr th:only-of-type {\n",
       "        vertical-align: middle;\n",
       "    }\n",
       "\n",
       "    .dataframe tbody tr th {\n",
       "        vertical-align: top;\n",
       "    }\n",
       "\n",
       "    .dataframe thead th {\n",
       "        text-align: right;\n",
       "    }\n",
       "</style>\n",
       "<table border=\"1\" class=\"dataframe\">\n",
       "  <thead>\n",
       "    <tr style=\"text-align: right;\">\n",
       "      <th></th>\n",
       "      <th>id</th>\n",
       "      <th>part_num</th>\n",
       "      <th>color_id</th>\n",
       "      <th>quantity</th>\n",
       "      <th>is_spare</th>\n",
       "      <th>color_name</th>\n",
       "      <th>rgb</th>\n",
       "      <th>is_trans</th>\n",
       "      <th>part_name</th>\n",
       "      <th>part_cat_id</th>\n",
       "      <th>part_material</th>\n",
       "    </tr>\n",
       "  </thead>\n",
       "  <tbody>\n",
       "    <tr>\n",
       "      <th>0</th>\n",
       "      <td>1</td>\n",
       "      <td>48379c01</td>\n",
       "      <td>72</td>\n",
       "      <td>1</td>\n",
       "      <td>f</td>\n",
       "      <td>Dark Bluish Gray</td>\n",
       "      <td>6C6E68</td>\n",
       "      <td>f</td>\n",
       "      <td>Large Figure Torso and Legs, Promo Figure Base...</td>\n",
       "      <td>41</td>\n",
       "      <td>Plastic</td>\n",
       "    </tr>\n",
       "  </tbody>\n",
       "</table>\n",
       "</div>"
      ],
      "text/plain": [
       "   id  part_num  color_id  quantity is_spare        color_name     rgb  \\\n",
       "0   1  48379c01        72         1        f  Dark Bluish Gray  6C6E68   \n",
       "\n",
       "  is_trans                                          part_name  part_cat_id  \\\n",
       "0        f  Large Figure Torso and Legs, Promo Figure Base...           41   \n",
       "\n",
       "  part_material  \n",
       "0       Plastic  "
      ]
     },
     "execution_count": 38,
     "metadata": {},
     "output_type": "execute_result"
    }
   ],
   "source": [
    "dfB = dfB.merge(parts, on='part_num', how='left')\n",
    "dfB.head(1)"
   ]
  },
  {
   "cell_type": "code",
   "execution_count": 39,
   "id": "bc51c7c7",
   "metadata": {},
   "outputs": [
    {
     "data": {
      "text/plain": [
       "(972396, 11)"
      ]
     },
     "execution_count": 39,
     "metadata": {},
     "output_type": "execute_result"
    }
   ],
   "source": [
    "dfB.shape"
   ]
  },
  {
   "cell_type": "code",
   "execution_count": 40,
   "id": "37637354",
   "metadata": {},
   "outputs": [
    {
     "name": "stdout",
     "output_type": "stream",
     "text": [
      "<class 'pandas.core.frame.DataFrame'>\n",
      "Int64Index: 972396 entries, 0 to 972395\n",
      "Data columns (total 11 columns):\n",
      " #   Column         Non-Null Count   Dtype \n",
      "---  ------         --------------   ----- \n",
      " 0   id             972396 non-null  int64 \n",
      " 1   part_num       972396 non-null  object\n",
      " 2   color_id       972396 non-null  int64 \n",
      " 3   quantity       972396 non-null  int64 \n",
      " 4   is_spare       972396 non-null  object\n",
      " 5   color_name     972396 non-null  object\n",
      " 6   rgb            972396 non-null  object\n",
      " 7   is_trans       972396 non-null  object\n",
      " 8   part_name      972396 non-null  object\n",
      " 9   part_cat_id    972396 non-null  int64 \n",
      " 10  part_material  972396 non-null  object\n",
      "dtypes: int64(4), object(7)\n",
      "memory usage: 89.0+ MB\n"
     ]
    }
   ],
   "source": [
    "dfB.info()"
   ]
  },
  {
   "cell_type": "code",
   "execution_count": 41,
   "id": "7ecdc311",
   "metadata": {},
   "outputs": [],
   "source": [
    "dfB = dfB.drop('is_spare', axis=1)"
   ]
  },
  {
   "cell_type": "code",
   "execution_count": 42,
   "id": "d00811af",
   "metadata": {},
   "outputs": [],
   "source": [
    "dfB = dfB.drop('rgb', axis=1)"
   ]
  },
  {
   "cell_type": "code",
   "execution_count": 43,
   "id": "1b09abea",
   "metadata": {},
   "outputs": [
    {
     "data": {
      "text/html": [
       "<div>\n",
       "<style scoped>\n",
       "    .dataframe tbody tr th:only-of-type {\n",
       "        vertical-align: middle;\n",
       "    }\n",
       "\n",
       "    .dataframe tbody tr th {\n",
       "        vertical-align: top;\n",
       "    }\n",
       "\n",
       "    .dataframe thead th {\n",
       "        text-align: right;\n",
       "    }\n",
       "</style>\n",
       "<table border=\"1\" class=\"dataframe\">\n",
       "  <thead>\n",
       "    <tr style=\"text-align: right;\">\n",
       "      <th></th>\n",
       "      <th>id</th>\n",
       "      <th>part_num</th>\n",
       "      <th>color_id</th>\n",
       "      <th>quantity</th>\n",
       "      <th>color_name</th>\n",
       "      <th>is_trans</th>\n",
       "      <th>part_name</th>\n",
       "      <th>part_material</th>\n",
       "    </tr>\n",
       "  </thead>\n",
       "  <tbody>\n",
       "    <tr>\n",
       "      <th>0</th>\n",
       "      <td>1</td>\n",
       "      <td>48379c01</td>\n",
       "      <td>72</td>\n",
       "      <td>1</td>\n",
       "      <td>Dark Bluish Gray</td>\n",
       "      <td>f</td>\n",
       "      <td>Large Figure Torso and Legs, Promo Figure Base...</td>\n",
       "      <td>Plastic</td>\n",
       "    </tr>\n",
       "  </tbody>\n",
       "</table>\n",
       "</div>"
      ],
      "text/plain": [
       "   id  part_num  color_id  quantity        color_name is_trans  \\\n",
       "0   1  48379c01        72         1  Dark Bluish Gray        f   \n",
       "\n",
       "                                           part_name part_material  \n",
       "0  Large Figure Torso and Legs, Promo Figure Base...       Plastic  "
      ]
     },
     "execution_count": 43,
     "metadata": {},
     "output_type": "execute_result"
    }
   ],
   "source": [
    "dfB = dfB.drop('part_cat_id', axis=1)\n",
    "dfB.head(1)"
   ]
  },
  {
   "cell_type": "code",
   "execution_count": 44,
   "id": "9b08d636",
   "metadata": {},
   "outputs": [
    {
     "data": {
      "text/html": [
       "<div>\n",
       "<style scoped>\n",
       "    .dataframe tbody tr th:only-of-type {\n",
       "        vertical-align: middle;\n",
       "    }\n",
       "\n",
       "    .dataframe tbody tr th {\n",
       "        vertical-align: top;\n",
       "    }\n",
       "\n",
       "    .dataframe thead th {\n",
       "        text-align: right;\n",
       "    }\n",
       "</style>\n",
       "<table border=\"1\" class=\"dataframe\">\n",
       "  <thead>\n",
       "    <tr style=\"text-align: right;\">\n",
       "      <th></th>\n",
       "      <th>id</th>\n",
       "      <th>part_num</th>\n",
       "      <th>color_id</th>\n",
       "      <th>quantity</th>\n",
       "      <th>color_name</th>\n",
       "      <th>part_name</th>\n",
       "      <th>part_material</th>\n",
       "      <th>is_trans_f</th>\n",
       "      <th>is_trans_t</th>\n",
       "    </tr>\n",
       "  </thead>\n",
       "  <tbody>\n",
       "    <tr>\n",
       "      <th>0</th>\n",
       "      <td>1</td>\n",
       "      <td>48379c01</td>\n",
       "      <td>72</td>\n",
       "      <td>1</td>\n",
       "      <td>Dark Bluish Gray</td>\n",
       "      <td>Large Figure Torso and Legs, Promo Figure Base...</td>\n",
       "      <td>Plastic</td>\n",
       "      <td>1</td>\n",
       "      <td>0</td>\n",
       "    </tr>\n",
       "  </tbody>\n",
       "</table>\n",
       "</div>"
      ],
      "text/plain": [
       "   id  part_num  color_id  quantity        color_name  \\\n",
       "0   1  48379c01        72         1  Dark Bluish Gray   \n",
       "\n",
       "                                           part_name part_material  \\\n",
       "0  Large Figure Torso and Legs, Promo Figure Base...       Plastic   \n",
       "\n",
       "   is_trans_f  is_trans_t  \n",
       "0           1           0  "
      ]
     },
     "execution_count": 44,
     "metadata": {},
     "output_type": "execute_result"
    }
   ],
   "source": [
    "dfB = pd.get_dummies(dfB, columns=['is_trans'])\n",
    "dfB.head(1)"
   ]
  },
  {
   "cell_type": "code",
   "execution_count": 45,
   "id": "e929b398",
   "metadata": {},
   "outputs": [
    {
     "name": "stdout",
     "output_type": "stream",
     "text": [
      "<class 'pandas.core.frame.DataFrame'>\n",
      "Int64Index: 972396 entries, 0 to 972395\n",
      "Data columns (total 9 columns):\n",
      " #   Column         Non-Null Count   Dtype \n",
      "---  ------         --------------   ----- \n",
      " 0   id             972396 non-null  int64 \n",
      " 1   part_num       972396 non-null  object\n",
      " 2   color_id       972396 non-null  int64 \n",
      " 3   quantity       972396 non-null  int64 \n",
      " 4   color_name     972396 non-null  object\n",
      " 5   part_name      972396 non-null  object\n",
      " 6   part_material  972396 non-null  object\n",
      " 7   is_trans_f     972396 non-null  uint8 \n",
      " 8   is_trans_t     972396 non-null  uint8 \n",
      "dtypes: int64(3), object(4), uint8(2)\n",
      "memory usage: 61.2+ MB\n"
     ]
    }
   ],
   "source": [
    "dfB.info()"
   ]
  },
  {
   "cell_type": "code",
   "execution_count": 46,
   "id": "dd68737c",
   "metadata": {},
   "outputs": [
    {
     "name": "stdout",
     "output_type": "stream",
     "text": [
      "<class 'pandas.core.frame.DataFrame'>\n",
      "Int64Index: 19675 entries, 0 to 19674\n",
      "Data columns (total 9 columns):\n",
      " #   Column       Non-Null Count  Dtype \n",
      "---  ------       --------------  ----- \n",
      " 0   set_num      19675 non-null  object\n",
      " 1   name         19675 non-null  object\n",
      " 2   year         19675 non-null  int64 \n",
      " 3   theme_id     19675 non-null  int64 \n",
      " 4   num_parts    19675 non-null  int64 \n",
      " 5   set_num_len  19675 non-null  int64 \n",
      " 6   name_len     19675 non-null  int64 \n",
      " 7   theme_name   19675 non-null  object\n",
      " 8   id           19675 non-null  int64 \n",
      "dtypes: int64(6), object(3)\n",
      "memory usage: 1.5+ MB\n"
     ]
    }
   ],
   "source": [
    "df.info()"
   ]
  },
  {
   "cell_type": "code",
   "execution_count": 47,
   "id": "cd815908",
   "metadata": {},
   "outputs": [
    {
     "data": {
      "text/plain": [
       "0"
      ]
     },
     "execution_count": 47,
     "metadata": {},
     "output_type": "execute_result"
    }
   ],
   "source": [
    "dfB['part_name'].isnull().sum()"
   ]
  },
  {
   "cell_type": "code",
   "execution_count": 48,
   "id": "30dc5fbf",
   "metadata": {},
   "outputs": [
    {
     "data": {
      "text/html": [
       "<div>\n",
       "<style scoped>\n",
       "    .dataframe tbody tr th:only-of-type {\n",
       "        vertical-align: middle;\n",
       "    }\n",
       "\n",
       "    .dataframe tbody tr th {\n",
       "        vertical-align: top;\n",
       "    }\n",
       "\n",
       "    .dataframe thead th {\n",
       "        text-align: right;\n",
       "    }\n",
       "</style>\n",
       "<table border=\"1\" class=\"dataframe\">\n",
       "  <thead>\n",
       "    <tr style=\"text-align: right;\">\n",
       "      <th></th>\n",
       "      <th>id</th>\n",
       "      <th>part_num</th>\n",
       "      <th>color_id</th>\n",
       "      <th>quantity</th>\n",
       "      <th>color_name</th>\n",
       "      <th>part_name</th>\n",
       "      <th>part_material</th>\n",
       "      <th>is_trans_f</th>\n",
       "      <th>is_trans_t</th>\n",
       "    </tr>\n",
       "  </thead>\n",
       "  <tbody>\n",
       "  </tbody>\n",
       "</table>\n",
       "</div>"
      ],
      "text/plain": [
       "Empty DataFrame\n",
       "Columns: [id, part_num, color_id, quantity, color_name, part_name, part_material, is_trans_f, is_trans_t]\n",
       "Index: []"
      ]
     },
     "execution_count": 48,
     "metadata": {},
     "output_type": "execute_result"
    }
   ],
   "source": [
    "dfB[dfB.isnull().any(axis=1)].head()"
   ]
  },
  {
   "cell_type": "code",
   "execution_count": 49,
   "id": "6d464a99",
   "metadata": {},
   "outputs": [
    {
     "name": "stdout",
     "output_type": "stream",
     "text": [
      "<class 'pandas.core.frame.DataFrame'>\n",
      "Int64Index: 19675 entries, 0 to 19674\n",
      "Data columns (total 9 columns):\n",
      " #   Column       Non-Null Count  Dtype \n",
      "---  ------       --------------  ----- \n",
      " 0   set_num      19675 non-null  object\n",
      " 1   name         19675 non-null  object\n",
      " 2   year         19675 non-null  int64 \n",
      " 3   theme_id     19675 non-null  int64 \n",
      " 4   num_parts    19675 non-null  int64 \n",
      " 5   set_num_len  19675 non-null  int64 \n",
      " 6   name_len     19675 non-null  int64 \n",
      " 7   theme_name   19675 non-null  object\n",
      " 8   id           19675 non-null  int64 \n",
      "dtypes: int64(6), object(3)\n",
      "memory usage: 1.5+ MB\n"
     ]
    }
   ],
   "source": [
    "df = df.dropna()\n",
    "df.info()"
   ]
  },
  {
   "cell_type": "code",
   "execution_count": 50,
   "id": "e4f6620f",
   "metadata": {},
   "outputs": [
    {
     "name": "stdout",
     "output_type": "stream",
     "text": [
      "<class 'pandas.core.frame.DataFrame'>\n",
      "Int64Index: 972396 entries, 0 to 972395\n",
      "Data columns (total 9 columns):\n",
      " #   Column         Non-Null Count   Dtype \n",
      "---  ------         --------------   ----- \n",
      " 0   id             972396 non-null  int64 \n",
      " 1   part_num       972396 non-null  object\n",
      " 2   color_id       972396 non-null  int64 \n",
      " 3   quantity       972396 non-null  int64 \n",
      " 4   color_name     972396 non-null  object\n",
      " 5   part_name      972396 non-null  object\n",
      " 6   part_material  972396 non-null  object\n",
      " 7   is_trans_f     972396 non-null  uint8 \n",
      " 8   is_trans_t     972396 non-null  uint8 \n",
      "dtypes: int64(3), object(4), uint8(2)\n",
      "memory usage: 61.2+ MB\n"
     ]
    }
   ],
   "source": [
    "dfB = dfB.fillna('None')\n",
    "dfB.info()"
   ]
  },
  {
   "cell_type": "code",
   "execution_count": 51,
   "id": "c60552fa",
   "metadata": {},
   "outputs": [
    {
     "data": {
      "text/html": [
       "<div>\n",
       "<style scoped>\n",
       "    .dataframe tbody tr th:only-of-type {\n",
       "        vertical-align: middle;\n",
       "    }\n",
       "\n",
       "    .dataframe tbody tr th {\n",
       "        vertical-align: top;\n",
       "    }\n",
       "\n",
       "    .dataframe thead th {\n",
       "        text-align: right;\n",
       "    }\n",
       "</style>\n",
       "<table border=\"1\" class=\"dataframe\">\n",
       "  <thead>\n",
       "    <tr style=\"text-align: right;\">\n",
       "      <th></th>\n",
       "      <th>id</th>\n",
       "      <th>part_num</th>\n",
       "      <th>color_id</th>\n",
       "      <th>quantity</th>\n",
       "      <th>color_name</th>\n",
       "      <th>part_name</th>\n",
       "      <th>part_material</th>\n",
       "      <th>is_trans_f</th>\n",
       "      <th>is_trans_t</th>\n",
       "    </tr>\n",
       "  </thead>\n",
       "  <tbody>\n",
       "  </tbody>\n",
       "</table>\n",
       "</div>"
      ],
      "text/plain": [
       "Empty DataFrame\n",
       "Columns: [id, part_num, color_id, quantity, color_name, part_name, part_material, is_trans_f, is_trans_t]\n",
       "Index: []"
      ]
     },
     "execution_count": 51,
     "metadata": {},
     "output_type": "execute_result"
    }
   ],
   "source": [
    "dfB[dfB['part_name'] == 'None']"
   ]
  },
  {
   "cell_type": "code",
   "execution_count": 52,
   "id": "a53db2c4",
   "metadata": {},
   "outputs": [
    {
     "data": {
      "text/html": [
       "<div>\n",
       "<style scoped>\n",
       "    .dataframe tbody tr th:only-of-type {\n",
       "        vertical-align: middle;\n",
       "    }\n",
       "\n",
       "    .dataframe tbody tr th {\n",
       "        vertical-align: top;\n",
       "    }\n",
       "\n",
       "    .dataframe thead th {\n",
       "        text-align: right;\n",
       "    }\n",
       "</style>\n",
       "<table border=\"1\" class=\"dataframe\">\n",
       "  <thead>\n",
       "    <tr style=\"text-align: right;\">\n",
       "      <th></th>\n",
       "      <th>set_num</th>\n",
       "      <th>name</th>\n",
       "      <th>year</th>\n",
       "      <th>theme_id</th>\n",
       "      <th>num_parts</th>\n",
       "      <th>set_num_len</th>\n",
       "      <th>name_len</th>\n",
       "      <th>theme_name</th>\n",
       "      <th>id</th>\n",
       "      <th>part_num</th>\n",
       "      <th>color_id</th>\n",
       "      <th>quantity</th>\n",
       "      <th>color_name</th>\n",
       "      <th>part_name</th>\n",
       "      <th>part_material</th>\n",
       "      <th>is_trans_f</th>\n",
       "      <th>is_trans_t</th>\n",
       "    </tr>\n",
       "  </thead>\n",
       "  <tbody>\n",
       "    <tr>\n",
       "      <th>0</th>\n",
       "      <td>001-1</td>\n",
       "      <td>Gears</td>\n",
       "      <td>1965</td>\n",
       "      <td>1</td>\n",
       "      <td>43</td>\n",
       "      <td>5</td>\n",
       "      <td>5</td>\n",
       "      <td>Technic</td>\n",
       "      <td>24696</td>\n",
       "      <td>132a</td>\n",
       "      <td>7</td>\n",
       "      <td>4</td>\n",
       "      <td>Light Gray</td>\n",
       "      <td>Tyre Smooth Old Style - Small</td>\n",
       "      <td>Rubber</td>\n",
       "      <td>1</td>\n",
       "      <td>0</td>\n",
       "    </tr>\n",
       "  </tbody>\n",
       "</table>\n",
       "</div>"
      ],
      "text/plain": [
       "  set_num   name  year  theme_id  num_parts  set_num_len  name_len theme_name  \\\n",
       "0   001-1  Gears  1965         1         43            5         5    Technic   \n",
       "\n",
       "      id part_num  color_id  quantity  color_name  \\\n",
       "0  24696     132a         7         4  Light Gray   \n",
       "\n",
       "                       part_name part_material  is_trans_f  is_trans_t  \n",
       "0  Tyre Smooth Old Style - Small        Rubber           1           0  "
      ]
     },
     "execution_count": 52,
     "metadata": {},
     "output_type": "execute_result"
    }
   ],
   "source": [
    "df = df.merge(dfB, on='id', how='inner')\n",
    "df.head(1)"
   ]
  },
  {
   "cell_type": "code",
   "execution_count": 53,
   "id": "599657c7",
   "metadata": {},
   "outputs": [
    {
     "data": {
      "text/plain": [
       "(919288, 17)"
      ]
     },
     "execution_count": 53,
     "metadata": {},
     "output_type": "execute_result"
    }
   ],
   "source": [
    "df.shape"
   ]
  },
  {
   "cell_type": "code",
   "execution_count": 54,
   "id": "9b4099a5",
   "metadata": {},
   "outputs": [
    {
     "name": "stdout",
     "output_type": "stream",
     "text": [
      "<class 'pandas.core.frame.DataFrame'>\n",
      "Int64Index: 919288 entries, 0 to 919287\n",
      "Data columns (total 17 columns):\n",
      " #   Column         Non-Null Count   Dtype \n",
      "---  ------         --------------   ----- \n",
      " 0   set_num        919288 non-null  object\n",
      " 1   name           919288 non-null  object\n",
      " 2   year           919288 non-null  int64 \n",
      " 3   theme_id       919288 non-null  int64 \n",
      " 4   num_parts      919288 non-null  int64 \n",
      " 5   set_num_len    919288 non-null  int64 \n",
      " 6   name_len       919288 non-null  int64 \n",
      " 7   theme_name     919288 non-null  object\n",
      " 8   id             919288 non-null  int64 \n",
      " 9   part_num       919288 non-null  object\n",
      " 10  color_id       919288 non-null  int64 \n",
      " 11  quantity       919288 non-null  int64 \n",
      " 12  color_name     919288 non-null  object\n",
      " 13  part_name      919288 non-null  object\n",
      " 14  part_material  919288 non-null  object\n",
      " 15  is_trans_f     919288 non-null  uint8 \n",
      " 16  is_trans_t     919288 non-null  uint8 \n",
      "dtypes: int64(8), object(7), uint8(2)\n",
      "memory usage: 114.0+ MB\n"
     ]
    }
   ],
   "source": [
    "df.info()"
   ]
  },
  {
   "cell_type": "code",
   "execution_count": 55,
   "id": "6e9f7b37",
   "metadata": {},
   "outputs": [
    {
     "data": {
      "text/html": [
       "<div>\n",
       "<style scoped>\n",
       "    .dataframe tbody tr th:only-of-type {\n",
       "        vertical-align: middle;\n",
       "    }\n",
       "\n",
       "    .dataframe tbody tr th {\n",
       "        vertical-align: top;\n",
       "    }\n",
       "\n",
       "    .dataframe thead th {\n",
       "        text-align: right;\n",
       "    }\n",
       "</style>\n",
       "<table border=\"1\" class=\"dataframe\">\n",
       "  <thead>\n",
       "    <tr style=\"text-align: right;\">\n",
       "      <th></th>\n",
       "      <th>set_num</th>\n",
       "      <th>name</th>\n",
       "      <th>year</th>\n",
       "      <th>theme_id</th>\n",
       "      <th>num_parts</th>\n",
       "      <th>set_num_len</th>\n",
       "      <th>name_len</th>\n",
       "      <th>theme_name</th>\n",
       "      <th>id</th>\n",
       "      <th>part_num</th>\n",
       "      <th>color_id</th>\n",
       "      <th>quantity</th>\n",
       "      <th>color_name</th>\n",
       "      <th>part_name</th>\n",
       "      <th>part_material</th>\n",
       "      <th>is_trans_t</th>\n",
       "    </tr>\n",
       "  </thead>\n",
       "  <tbody>\n",
       "    <tr>\n",
       "      <th>0</th>\n",
       "      <td>001-1</td>\n",
       "      <td>Gears</td>\n",
       "      <td>1965</td>\n",
       "      <td>1</td>\n",
       "      <td>43</td>\n",
       "      <td>5</td>\n",
       "      <td>5</td>\n",
       "      <td>Technic</td>\n",
       "      <td>24696</td>\n",
       "      <td>132a</td>\n",
       "      <td>7</td>\n",
       "      <td>4</td>\n",
       "      <td>Light Gray</td>\n",
       "      <td>Tyre Smooth Old Style - Small</td>\n",
       "      <td>Rubber</td>\n",
       "      <td>0</td>\n",
       "    </tr>\n",
       "  </tbody>\n",
       "</table>\n",
       "</div>"
      ],
      "text/plain": [
       "  set_num   name  year  theme_id  num_parts  set_num_len  name_len theme_name  \\\n",
       "0   001-1  Gears  1965         1         43            5         5    Technic   \n",
       "\n",
       "      id part_num  color_id  quantity  color_name  \\\n",
       "0  24696     132a         7         4  Light Gray   \n",
       "\n",
       "                       part_name part_material  is_trans_t  \n",
       "0  Tyre Smooth Old Style - Small        Rubber           0  "
      ]
     },
     "execution_count": 55,
     "metadata": {},
     "output_type": "execute_result"
    }
   ],
   "source": [
    "df = df.drop('is_trans_f', axis=1)\n",
    "df.head(1)"
   ]
  },
  {
   "cell_type": "code",
   "execution_count": 56,
   "id": "b2d47965",
   "metadata": {},
   "outputs": [
    {
     "data": {
      "text/html": [
       "<div>\n",
       "<style scoped>\n",
       "    .dataframe tbody tr th:only-of-type {\n",
       "        vertical-align: middle;\n",
       "    }\n",
       "\n",
       "    .dataframe tbody tr th {\n",
       "        vertical-align: top;\n",
       "    }\n",
       "\n",
       "    .dataframe thead th {\n",
       "        text-align: right;\n",
       "    }\n",
       "</style>\n",
       "<table border=\"1\" class=\"dataframe\">\n",
       "  <thead>\n",
       "    <tr style=\"text-align: right;\">\n",
       "      <th></th>\n",
       "      <th>set_num</th>\n",
       "      <th>name</th>\n",
       "      <th>year</th>\n",
       "      <th>theme_id</th>\n",
       "      <th>num_parts</th>\n",
       "      <th>set_num_len</th>\n",
       "      <th>name_len</th>\n",
       "      <th>theme_name</th>\n",
       "      <th>id</th>\n",
       "      <th>part_num</th>\n",
       "      <th>color_id</th>\n",
       "      <th>quantity</th>\n",
       "      <th>color_name</th>\n",
       "      <th>part_name</th>\n",
       "      <th>is_trans_t</th>\n",
       "    </tr>\n",
       "  </thead>\n",
       "  <tbody>\n",
       "    <tr>\n",
       "      <th>0</th>\n",
       "      <td>001-1</td>\n",
       "      <td>Gears</td>\n",
       "      <td>1965</td>\n",
       "      <td>1</td>\n",
       "      <td>43</td>\n",
       "      <td>5</td>\n",
       "      <td>5</td>\n",
       "      <td>Technic</td>\n",
       "      <td>24696</td>\n",
       "      <td>132a</td>\n",
       "      <td>7</td>\n",
       "      <td>4</td>\n",
       "      <td>Light Gray</td>\n",
       "      <td>Tyre Smooth Old Style - Small</td>\n",
       "      <td>0</td>\n",
       "    </tr>\n",
       "  </tbody>\n",
       "</table>\n",
       "</div>"
      ],
      "text/plain": [
       "  set_num   name  year  theme_id  num_parts  set_num_len  name_len theme_name  \\\n",
       "0   001-1  Gears  1965         1         43            5         5    Technic   \n",
       "\n",
       "      id part_num  color_id  quantity  color_name  \\\n",
       "0  24696     132a         7         4  Light Gray   \n",
       "\n",
       "                       part_name  is_trans_t  \n",
       "0  Tyre Smooth Old Style - Small           0  "
      ]
     },
     "execution_count": 56,
     "metadata": {},
     "output_type": "execute_result"
    }
   ],
   "source": [
    "df = df.drop('part_material', axis=1)\n",
    "df.head(1)"
   ]
  },
  {
   "cell_type": "code",
   "execution_count": 57,
   "id": "3864a1e8",
   "metadata": {},
   "outputs": [
    {
     "data": {
      "text/html": [
       "<div>\n",
       "<style scoped>\n",
       "    .dataframe tbody tr th:only-of-type {\n",
       "        vertical-align: middle;\n",
       "    }\n",
       "\n",
       "    .dataframe tbody tr th {\n",
       "        vertical-align: top;\n",
       "    }\n",
       "\n",
       "    .dataframe thead th {\n",
       "        text-align: right;\n",
       "    }\n",
       "</style>\n",
       "<table border=\"1\" class=\"dataframe\">\n",
       "  <thead>\n",
       "    <tr style=\"text-align: right;\">\n",
       "      <th></th>\n",
       "      <th>set_num</th>\n",
       "      <th>set_name</th>\n",
       "      <th>year</th>\n",
       "      <th>theme_id</th>\n",
       "      <th>num_parts</th>\n",
       "      <th>set_num_len</th>\n",
       "      <th>name_len</th>\n",
       "      <th>theme_name</th>\n",
       "      <th>id</th>\n",
       "      <th>part_num</th>\n",
       "      <th>color_id</th>\n",
       "      <th>quantity</th>\n",
       "      <th>color_name</th>\n",
       "      <th>part_name</th>\n",
       "      <th>is_trans_t</th>\n",
       "    </tr>\n",
       "  </thead>\n",
       "  <tbody>\n",
       "    <tr>\n",
       "      <th>0</th>\n",
       "      <td>001-1</td>\n",
       "      <td>Gears</td>\n",
       "      <td>1965</td>\n",
       "      <td>1</td>\n",
       "      <td>43</td>\n",
       "      <td>5</td>\n",
       "      <td>5</td>\n",
       "      <td>Technic</td>\n",
       "      <td>24696</td>\n",
       "      <td>132a</td>\n",
       "      <td>7</td>\n",
       "      <td>4</td>\n",
       "      <td>Light Gray</td>\n",
       "      <td>Tyre Smooth Old Style - Small</td>\n",
       "      <td>0</td>\n",
       "    </tr>\n",
       "  </tbody>\n",
       "</table>\n",
       "</div>"
      ],
      "text/plain": [
       "  set_num set_name  year  theme_id  num_parts  set_num_len  name_len  \\\n",
       "0   001-1    Gears  1965         1         43            5         5   \n",
       "\n",
       "  theme_name     id part_num  color_id  quantity  color_name  \\\n",
       "0    Technic  24696     132a         7         4  Light Gray   \n",
       "\n",
       "                       part_name  is_trans_t  \n",
       "0  Tyre Smooth Old Style - Small           0  "
      ]
     },
     "execution_count": 57,
     "metadata": {},
     "output_type": "execute_result"
    }
   ],
   "source": [
    "df = df.rename(columns={'name':'set_name'})\n",
    "df.head(1)"
   ]
  },
  {
   "cell_type": "code",
   "execution_count": 58,
   "id": "2545f941",
   "metadata": {},
   "outputs": [
    {
     "data": {
      "text/html": [
       "<div>\n",
       "<style scoped>\n",
       "    .dataframe tbody tr th:only-of-type {\n",
       "        vertical-align: middle;\n",
       "    }\n",
       "\n",
       "    .dataframe tbody tr th {\n",
       "        vertical-align: top;\n",
       "    }\n",
       "\n",
       "    .dataframe thead th {\n",
       "        text-align: right;\n",
       "    }\n",
       "</style>\n",
       "<table border=\"1\" class=\"dataframe\">\n",
       "  <thead>\n",
       "    <tr style=\"text-align: right;\">\n",
       "      <th></th>\n",
       "      <th>set_num</th>\n",
       "      <th>set_name</th>\n",
       "      <th>year</th>\n",
       "      <th>theme_id</th>\n",
       "      <th>num_parts</th>\n",
       "      <th>set_num_len</th>\n",
       "      <th>set_name_len</th>\n",
       "      <th>theme_name</th>\n",
       "      <th>id</th>\n",
       "      <th>part_num</th>\n",
       "      <th>color_id</th>\n",
       "      <th>quantity</th>\n",
       "      <th>color_name</th>\n",
       "      <th>part_name</th>\n",
       "      <th>is_trans_t</th>\n",
       "    </tr>\n",
       "  </thead>\n",
       "  <tbody>\n",
       "    <tr>\n",
       "      <th>0</th>\n",
       "      <td>001-1</td>\n",
       "      <td>Gears</td>\n",
       "      <td>1965</td>\n",
       "      <td>1</td>\n",
       "      <td>43</td>\n",
       "      <td>5</td>\n",
       "      <td>5</td>\n",
       "      <td>Technic</td>\n",
       "      <td>24696</td>\n",
       "      <td>132a</td>\n",
       "      <td>7</td>\n",
       "      <td>4</td>\n",
       "      <td>Light Gray</td>\n",
       "      <td>Tyre Smooth Old Style - Small</td>\n",
       "      <td>0</td>\n",
       "    </tr>\n",
       "  </tbody>\n",
       "</table>\n",
       "</div>"
      ],
      "text/plain": [
       "  set_num set_name  year  theme_id  num_parts  set_num_len  set_name_len  \\\n",
       "0   001-1    Gears  1965         1         43            5             5   \n",
       "\n",
       "  theme_name     id part_num  color_id  quantity  color_name  \\\n",
       "0    Technic  24696     132a         7         4  Light Gray   \n",
       "\n",
       "                       part_name  is_trans_t  \n",
       "0  Tyre Smooth Old Style - Small           0  "
      ]
     },
     "execution_count": 58,
     "metadata": {},
     "output_type": "execute_result"
    }
   ],
   "source": [
    "df = df.rename(columns={'name_len':'set_name_len'})\n",
    "df.head(1)"
   ]
  },
  {
   "cell_type": "code",
   "execution_count": 59,
   "id": "2071af6b",
   "metadata": {},
   "outputs": [
    {
     "data": {
      "text/html": [
       "<div>\n",
       "<style scoped>\n",
       "    .dataframe tbody tr th:only-of-type {\n",
       "        vertical-align: middle;\n",
       "    }\n",
       "\n",
       "    .dataframe tbody tr th {\n",
       "        vertical-align: top;\n",
       "    }\n",
       "\n",
       "    .dataframe thead th {\n",
       "        text-align: right;\n",
       "    }\n",
       "</style>\n",
       "<table border=\"1\" class=\"dataframe\">\n",
       "  <thead>\n",
       "    <tr style=\"text-align: right;\">\n",
       "      <th></th>\n",
       "      <th>set_num</th>\n",
       "      <th>set_name</th>\n",
       "      <th>year</th>\n",
       "      <th>theme_id</th>\n",
       "      <th>num_parts</th>\n",
       "      <th>set_num_len</th>\n",
       "      <th>set_name_len</th>\n",
       "      <th>theme_name</th>\n",
       "      <th>id</th>\n",
       "      <th>part_num</th>\n",
       "      <th>color_id</th>\n",
       "      <th>quantity</th>\n",
       "      <th>color_name</th>\n",
       "      <th>part_name</th>\n",
       "      <th>is_trans_t</th>\n",
       "      <th>theme_name_len</th>\n",
       "    </tr>\n",
       "  </thead>\n",
       "  <tbody>\n",
       "    <tr>\n",
       "      <th>0</th>\n",
       "      <td>001-1</td>\n",
       "      <td>Gears</td>\n",
       "      <td>1965</td>\n",
       "      <td>1</td>\n",
       "      <td>43</td>\n",
       "      <td>5</td>\n",
       "      <td>5</td>\n",
       "      <td>Technic</td>\n",
       "      <td>24696</td>\n",
       "      <td>132a</td>\n",
       "      <td>7</td>\n",
       "      <td>4</td>\n",
       "      <td>Light Gray</td>\n",
       "      <td>Tyre Smooth Old Style - Small</td>\n",
       "      <td>0</td>\n",
       "      <td>7</td>\n",
       "    </tr>\n",
       "  </tbody>\n",
       "</table>\n",
       "</div>"
      ],
      "text/plain": [
       "  set_num set_name  year  theme_id  num_parts  set_num_len  set_name_len  \\\n",
       "0   001-1    Gears  1965         1         43            5             5   \n",
       "\n",
       "  theme_name     id part_num  color_id  quantity  color_name  \\\n",
       "0    Technic  24696     132a         7         4  Light Gray   \n",
       "\n",
       "                       part_name  is_trans_t  theme_name_len  \n",
       "0  Tyre Smooth Old Style - Small           0               7  "
      ]
     },
     "execution_count": 59,
     "metadata": {},
     "output_type": "execute_result"
    }
   ],
   "source": [
    "df['theme_name_len'] = df['theme_name'].str.len()\n",
    "df.head(1)"
   ]
  },
  {
   "cell_type": "code",
   "execution_count": 60,
   "id": "3111191a",
   "metadata": {},
   "outputs": [
    {
     "data": {
      "text/html": [
       "<div>\n",
       "<style scoped>\n",
       "    .dataframe tbody tr th:only-of-type {\n",
       "        vertical-align: middle;\n",
       "    }\n",
       "\n",
       "    .dataframe tbody tr th {\n",
       "        vertical-align: top;\n",
       "    }\n",
       "\n",
       "    .dataframe thead th {\n",
       "        text-align: right;\n",
       "    }\n",
       "</style>\n",
       "<table border=\"1\" class=\"dataframe\">\n",
       "  <thead>\n",
       "    <tr style=\"text-align: right;\">\n",
       "      <th></th>\n",
       "      <th>set_num</th>\n",
       "      <th>set_name</th>\n",
       "      <th>year</th>\n",
       "      <th>theme_id</th>\n",
       "      <th>num_parts</th>\n",
       "      <th>set_num_len</th>\n",
       "      <th>set_name_len</th>\n",
       "      <th>theme_name</th>\n",
       "      <th>id</th>\n",
       "      <th>part_num</th>\n",
       "      <th>color_id</th>\n",
       "      <th>quantity</th>\n",
       "      <th>color_name</th>\n",
       "      <th>part_name</th>\n",
       "      <th>is_trans_t</th>\n",
       "      <th>theme_name_len</th>\n",
       "      <th>part_num_len</th>\n",
       "    </tr>\n",
       "  </thead>\n",
       "  <tbody>\n",
       "    <tr>\n",
       "      <th>0</th>\n",
       "      <td>001-1</td>\n",
       "      <td>Gears</td>\n",
       "      <td>1965</td>\n",
       "      <td>1</td>\n",
       "      <td>43</td>\n",
       "      <td>5</td>\n",
       "      <td>5</td>\n",
       "      <td>Technic</td>\n",
       "      <td>24696</td>\n",
       "      <td>132a</td>\n",
       "      <td>7</td>\n",
       "      <td>4</td>\n",
       "      <td>Light Gray</td>\n",
       "      <td>Tyre Smooth Old Style - Small</td>\n",
       "      <td>0</td>\n",
       "      <td>7</td>\n",
       "      <td>4</td>\n",
       "    </tr>\n",
       "  </tbody>\n",
       "</table>\n",
       "</div>"
      ],
      "text/plain": [
       "  set_num set_name  year  theme_id  num_parts  set_num_len  set_name_len  \\\n",
       "0   001-1    Gears  1965         1         43            5             5   \n",
       "\n",
       "  theme_name     id part_num  color_id  quantity  color_name  \\\n",
       "0    Technic  24696     132a         7         4  Light Gray   \n",
       "\n",
       "                       part_name  is_trans_t  theme_name_len  part_num_len  \n",
       "0  Tyre Smooth Old Style - Small           0               7             4  "
      ]
     },
     "execution_count": 60,
     "metadata": {},
     "output_type": "execute_result"
    }
   ],
   "source": [
    "df['part_num_len'] = df['part_num'].str.len()\n",
    "df.head(1)"
   ]
  },
  {
   "cell_type": "code",
   "execution_count": 61,
   "id": "5ef6ef9b",
   "metadata": {},
   "outputs": [
    {
     "data": {
      "text/html": [
       "<div>\n",
       "<style scoped>\n",
       "    .dataframe tbody tr th:only-of-type {\n",
       "        vertical-align: middle;\n",
       "    }\n",
       "\n",
       "    .dataframe tbody tr th {\n",
       "        vertical-align: top;\n",
       "    }\n",
       "\n",
       "    .dataframe thead th {\n",
       "        text-align: right;\n",
       "    }\n",
       "</style>\n",
       "<table border=\"1\" class=\"dataframe\">\n",
       "  <thead>\n",
       "    <tr style=\"text-align: right;\">\n",
       "      <th></th>\n",
       "      <th>set_num</th>\n",
       "      <th>set_name</th>\n",
       "      <th>year</th>\n",
       "      <th>theme_id</th>\n",
       "      <th>num_parts</th>\n",
       "      <th>set_num_len</th>\n",
       "      <th>set_name_len</th>\n",
       "      <th>theme_name</th>\n",
       "      <th>id</th>\n",
       "      <th>part_num</th>\n",
       "      <th>color_id</th>\n",
       "      <th>quantity</th>\n",
       "      <th>color_name</th>\n",
       "      <th>part_name</th>\n",
       "      <th>is_trans_t</th>\n",
       "      <th>theme_name_len</th>\n",
       "      <th>part_num_len</th>\n",
       "      <th>color_name_len</th>\n",
       "    </tr>\n",
       "  </thead>\n",
       "  <tbody>\n",
       "    <tr>\n",
       "      <th>0</th>\n",
       "      <td>001-1</td>\n",
       "      <td>Gears</td>\n",
       "      <td>1965</td>\n",
       "      <td>1</td>\n",
       "      <td>43</td>\n",
       "      <td>5</td>\n",
       "      <td>5</td>\n",
       "      <td>Technic</td>\n",
       "      <td>24696</td>\n",
       "      <td>132a</td>\n",
       "      <td>7</td>\n",
       "      <td>4</td>\n",
       "      <td>Light Gray</td>\n",
       "      <td>Tyre Smooth Old Style - Small</td>\n",
       "      <td>0</td>\n",
       "      <td>7</td>\n",
       "      <td>4</td>\n",
       "      <td>10</td>\n",
       "    </tr>\n",
       "  </tbody>\n",
       "</table>\n",
       "</div>"
      ],
      "text/plain": [
       "  set_num set_name  year  theme_id  num_parts  set_num_len  set_name_len  \\\n",
       "0   001-1    Gears  1965         1         43            5             5   \n",
       "\n",
       "  theme_name     id part_num  color_id  quantity  color_name  \\\n",
       "0    Technic  24696     132a         7         4  Light Gray   \n",
       "\n",
       "                       part_name  is_trans_t  theme_name_len  part_num_len  \\\n",
       "0  Tyre Smooth Old Style - Small           0               7             4   \n",
       "\n",
       "   color_name_len  \n",
       "0              10  "
      ]
     },
     "execution_count": 61,
     "metadata": {},
     "output_type": "execute_result"
    }
   ],
   "source": [
    "df['color_name_len'] = df['color_name'].str.len()\n",
    "df.head(1)"
   ]
  },
  {
   "cell_type": "code",
   "execution_count": 62,
   "id": "0f3fbb74",
   "metadata": {},
   "outputs": [
    {
     "data": {
      "text/html": [
       "<div>\n",
       "<style scoped>\n",
       "    .dataframe tbody tr th:only-of-type {\n",
       "        vertical-align: middle;\n",
       "    }\n",
       "\n",
       "    .dataframe tbody tr th {\n",
       "        vertical-align: top;\n",
       "    }\n",
       "\n",
       "    .dataframe thead th {\n",
       "        text-align: right;\n",
       "    }\n",
       "</style>\n",
       "<table border=\"1\" class=\"dataframe\">\n",
       "  <thead>\n",
       "    <tr style=\"text-align: right;\">\n",
       "      <th></th>\n",
       "      <th>set_num</th>\n",
       "      <th>set_name</th>\n",
       "      <th>year</th>\n",
       "      <th>theme_id</th>\n",
       "      <th>num_parts</th>\n",
       "      <th>set_num_len</th>\n",
       "      <th>set_name_len</th>\n",
       "      <th>theme_name</th>\n",
       "      <th>id</th>\n",
       "      <th>part_num</th>\n",
       "      <th>color_id</th>\n",
       "      <th>quantity</th>\n",
       "      <th>color_name</th>\n",
       "      <th>part_name</th>\n",
       "      <th>is_trans_t</th>\n",
       "      <th>theme_name_len</th>\n",
       "      <th>part_num_len</th>\n",
       "      <th>color_name_len</th>\n",
       "      <th>part_name_len</th>\n",
       "    </tr>\n",
       "  </thead>\n",
       "  <tbody>\n",
       "    <tr>\n",
       "      <th>0</th>\n",
       "      <td>001-1</td>\n",
       "      <td>Gears</td>\n",
       "      <td>1965</td>\n",
       "      <td>1</td>\n",
       "      <td>43</td>\n",
       "      <td>5</td>\n",
       "      <td>5</td>\n",
       "      <td>Technic</td>\n",
       "      <td>24696</td>\n",
       "      <td>132a</td>\n",
       "      <td>7</td>\n",
       "      <td>4</td>\n",
       "      <td>Light Gray</td>\n",
       "      <td>Tyre Smooth Old Style - Small</td>\n",
       "      <td>0</td>\n",
       "      <td>7</td>\n",
       "      <td>4</td>\n",
       "      <td>10</td>\n",
       "      <td>29</td>\n",
       "    </tr>\n",
       "  </tbody>\n",
       "</table>\n",
       "</div>"
      ],
      "text/plain": [
       "  set_num set_name  year  theme_id  num_parts  set_num_len  set_name_len  \\\n",
       "0   001-1    Gears  1965         1         43            5             5   \n",
       "\n",
       "  theme_name     id part_num  color_id  quantity  color_name  \\\n",
       "0    Technic  24696     132a         7         4  Light Gray   \n",
       "\n",
       "                       part_name  is_trans_t  theme_name_len  part_num_len  \\\n",
       "0  Tyre Smooth Old Style - Small           0               7             4   \n",
       "\n",
       "   color_name_len  part_name_len  \n",
       "0              10             29  "
      ]
     },
     "execution_count": 62,
     "metadata": {},
     "output_type": "execute_result"
    }
   ],
   "source": [
    "df['part_name_len'] = df['part_name'].str.len()\n",
    "df.head(1)"
   ]
  },
  {
   "cell_type": "code",
   "execution_count": 63,
   "id": "c9f1be20",
   "metadata": {},
   "outputs": [
    {
     "data": {
      "text/html": [
       "<div>\n",
       "<style scoped>\n",
       "    .dataframe tbody tr th:only-of-type {\n",
       "        vertical-align: middle;\n",
       "    }\n",
       "\n",
       "    .dataframe tbody tr th {\n",
       "        vertical-align: top;\n",
       "    }\n",
       "\n",
       "    .dataframe thead th {\n",
       "        text-align: right;\n",
       "    }\n",
       "</style>\n",
       "<table border=\"1\" class=\"dataframe\">\n",
       "  <thead>\n",
       "    <tr style=\"text-align: right;\">\n",
       "      <th></th>\n",
       "      <th>set_num</th>\n",
       "      <th>set_name</th>\n",
       "      <th>year</th>\n",
       "      <th>theme_id</th>\n",
       "      <th>num_parts</th>\n",
       "      <th>set_num_len</th>\n",
       "      <th>set_name_len</th>\n",
       "      <th>theme_name</th>\n",
       "      <th>id</th>\n",
       "      <th>part_num</th>\n",
       "      <th>color_id</th>\n",
       "      <th>quantity</th>\n",
       "      <th>color_name</th>\n",
       "      <th>part_name</th>\n",
       "      <th>is_trans</th>\n",
       "      <th>theme_name_len</th>\n",
       "      <th>part_num_len</th>\n",
       "      <th>color_name_len</th>\n",
       "      <th>part_name_len</th>\n",
       "    </tr>\n",
       "  </thead>\n",
       "  <tbody>\n",
       "    <tr>\n",
       "      <th>0</th>\n",
       "      <td>001-1</td>\n",
       "      <td>Gears</td>\n",
       "      <td>1965</td>\n",
       "      <td>1</td>\n",
       "      <td>43</td>\n",
       "      <td>5</td>\n",
       "      <td>5</td>\n",
       "      <td>Technic</td>\n",
       "      <td>24696</td>\n",
       "      <td>132a</td>\n",
       "      <td>7</td>\n",
       "      <td>4</td>\n",
       "      <td>Light Gray</td>\n",
       "      <td>Tyre Smooth Old Style - Small</td>\n",
       "      <td>0</td>\n",
       "      <td>7</td>\n",
       "      <td>4</td>\n",
       "      <td>10</td>\n",
       "      <td>29</td>\n",
       "    </tr>\n",
       "  </tbody>\n",
       "</table>\n",
       "</div>"
      ],
      "text/plain": [
       "  set_num set_name  year  theme_id  num_parts  set_num_len  set_name_len  \\\n",
       "0   001-1    Gears  1965         1         43            5             5   \n",
       "\n",
       "  theme_name     id part_num  color_id  quantity  color_name  \\\n",
       "0    Technic  24696     132a         7         4  Light Gray   \n",
       "\n",
       "                       part_name  is_trans  theme_name_len  part_num_len  \\\n",
       "0  Tyre Smooth Old Style - Small         0               7             4   \n",
       "\n",
       "   color_name_len  part_name_len  \n",
       "0              10             29  "
      ]
     },
     "execution_count": 63,
     "metadata": {},
     "output_type": "execute_result"
    }
   ],
   "source": [
    "df = df.rename(columns={'is_trans_t':'is_trans'})\n",
    "df.head(1)"
   ]
  },
  {
   "cell_type": "code",
   "execution_count": 64,
   "id": "033998c0",
   "metadata": {},
   "outputs": [
    {
     "data": {
      "text/plain": [
       "0.8998583686505208"
      ]
     },
     "execution_count": 64,
     "metadata": {},
     "output_type": "execute_result"
    }
   ],
   "source": [
    "is_train = np.random.rand(df.shape[0]) > 0.1\n",
    "is_train.sum() / df.shape[0]"
   ]
  },
  {
   "cell_type": "code",
   "execution_count": 65,
   "id": "62b29ba1",
   "metadata": {},
   "outputs": [
    {
     "data": {
      "text/plain": [
       "158    67154\n",
       "494    45129\n",
       "1      38592\n",
       "435    35468\n",
       "672    23836\n",
       "       ...  \n",
       "307       11\n",
       "369       11\n",
       "368        2\n",
       "559        1\n",
       "241        1\n",
       "Name: theme_id, Length: 432, dtype: int64"
      ]
     },
     "execution_count": 65,
     "metadata": {},
     "output_type": "execute_result"
    }
   ],
   "source": [
    "df['theme_id'].value_counts()"
   ]
  },
  {
   "cell_type": "code",
   "execution_count": 66,
   "id": "9c408543",
   "metadata": {},
   "outputs": [
    {
     "data": {
      "text/html": [
       "<div>\n",
       "<style scoped>\n",
       "    .dataframe tbody tr th:only-of-type {\n",
       "        vertical-align: middle;\n",
       "    }\n",
       "\n",
       "    .dataframe tbody tr th {\n",
       "        vertical-align: top;\n",
       "    }\n",
       "\n",
       "    .dataframe thead th {\n",
       "        text-align: right;\n",
       "    }\n",
       "</style>\n",
       "<table border=\"1\" class=\"dataframe\">\n",
       "  <thead>\n",
       "    <tr style=\"text-align: right;\">\n",
       "      <th></th>\n",
       "      <th>theme_id</th>\n",
       "      <th>theme_name</th>\n",
       "    </tr>\n",
       "  </thead>\n",
       "  <tbody>\n",
       "    <tr>\n",
       "      <th>78</th>\n",
       "      <td>158</td>\n",
       "      <td>Star Wars</td>\n",
       "    </tr>\n",
       "  </tbody>\n",
       "</table>\n",
       "</div>"
      ],
      "text/plain": [
       "    theme_id theme_name\n",
       "78       158  Star Wars"
      ]
     },
     "execution_count": 66,
     "metadata": {},
     "output_type": "execute_result"
    }
   ],
   "source": [
    "themes[themes['theme_id'] == 158]"
   ]
  },
  {
   "cell_type": "code",
   "execution_count": 67,
   "id": "b3ea95eb",
   "metadata": {},
   "outputs": [
    {
     "data": {
      "text/html": [
       "<div>\n",
       "<style scoped>\n",
       "    .dataframe tbody tr th:only-of-type {\n",
       "        vertical-align: middle;\n",
       "    }\n",
       "\n",
       "    .dataframe tbody tr th {\n",
       "        vertical-align: top;\n",
       "    }\n",
       "\n",
       "    .dataframe thead th {\n",
       "        text-align: right;\n",
       "    }\n",
       "</style>\n",
       "<table border=\"1\" class=\"dataframe\">\n",
       "  <thead>\n",
       "    <tr style=\"text-align: right;\">\n",
       "      <th></th>\n",
       "      <th>theme_id</th>\n",
       "      <th>theme_name</th>\n",
       "    </tr>\n",
       "  </thead>\n",
       "  <tbody>\n",
       "    <tr>\n",
       "      <th>251</th>\n",
       "      <td>494</td>\n",
       "      <td>Friends</td>\n",
       "    </tr>\n",
       "  </tbody>\n",
       "</table>\n",
       "</div>"
      ],
      "text/plain": [
       "     theme_id theme_name\n",
       "251       494    Friends"
      ]
     },
     "execution_count": 67,
     "metadata": {},
     "output_type": "execute_result"
    }
   ],
   "source": [
    "themes[themes['theme_id'] == 494]"
   ]
  },
  {
   "cell_type": "code",
   "execution_count": 68,
   "id": "97f7be29",
   "metadata": {},
   "outputs": [
    {
     "data": {
      "text/html": [
       "<div>\n",
       "<style scoped>\n",
       "    .dataframe tbody tr th:only-of-type {\n",
       "        vertical-align: middle;\n",
       "    }\n",
       "\n",
       "    .dataframe tbody tr th {\n",
       "        vertical-align: top;\n",
       "    }\n",
       "\n",
       "    .dataframe thead th {\n",
       "        text-align: right;\n",
       "    }\n",
       "</style>\n",
       "<table border=\"1\" class=\"dataframe\">\n",
       "  <thead>\n",
       "    <tr style=\"text-align: right;\">\n",
       "      <th></th>\n",
       "      <th>theme_id</th>\n",
       "      <th>theme_name</th>\n",
       "    </tr>\n",
       "  </thead>\n",
       "  <tbody>\n",
       "    <tr>\n",
       "      <th>0</th>\n",
       "      <td>1</td>\n",
       "      <td>Technic</td>\n",
       "    </tr>\n",
       "  </tbody>\n",
       "</table>\n",
       "</div>"
      ],
      "text/plain": [
       "   theme_id theme_name\n",
       "0         1    Technic"
      ]
     },
     "execution_count": 68,
     "metadata": {},
     "output_type": "execute_result"
    }
   ],
   "source": [
    "themes[themes['theme_id'] == 1]"
   ]
  },
  {
   "cell_type": "code",
   "execution_count": 69,
   "id": "db9bde52",
   "metadata": {},
   "outputs": [
    {
     "data": {
      "text/html": [
       "<div>\n",
       "<style scoped>\n",
       "    .dataframe tbody tr th:only-of-type {\n",
       "        vertical-align: middle;\n",
       "    }\n",
       "\n",
       "    .dataframe tbody tr th {\n",
       "        vertical-align: top;\n",
       "    }\n",
       "\n",
       "    .dataframe thead th {\n",
       "        text-align: right;\n",
       "    }\n",
       "</style>\n",
       "<table border=\"1\" class=\"dataframe\">\n",
       "  <thead>\n",
       "    <tr style=\"text-align: right;\">\n",
       "      <th></th>\n",
       "      <th>theme_id</th>\n",
       "      <th>theme_name</th>\n",
       "    </tr>\n",
       "  </thead>\n",
       "  <tbody>\n",
       "    <tr>\n",
       "      <th>219</th>\n",
       "      <td>435</td>\n",
       "      <td>Ninjago</td>\n",
       "    </tr>\n",
       "  </tbody>\n",
       "</table>\n",
       "</div>"
      ],
      "text/plain": [
       "     theme_id theme_name\n",
       "219       435    Ninjago"
      ]
     },
     "execution_count": 69,
     "metadata": {},
     "output_type": "execute_result"
    }
   ],
   "source": [
    "themes[themes['theme_id'] == 435]"
   ]
  },
  {
   "cell_type": "code",
   "execution_count": 70,
   "id": "096f7de9",
   "metadata": {},
   "outputs": [
    {
     "data": {
      "text/html": [
       "<div>\n",
       "<style scoped>\n",
       "    .dataframe tbody tr th:only-of-type {\n",
       "        vertical-align: middle;\n",
       "    }\n",
       "\n",
       "    .dataframe tbody tr th {\n",
       "        vertical-align: top;\n",
       "    }\n",
       "\n",
       "    .dataframe thead th {\n",
       "        text-align: right;\n",
       "    }\n",
       "</style>\n",
       "<table border=\"1\" class=\"dataframe\">\n",
       "  <thead>\n",
       "    <tr style=\"text-align: right;\">\n",
       "      <th></th>\n",
       "      <th>set_num</th>\n",
       "      <th>set_name</th>\n",
       "      <th>year</th>\n",
       "      <th>theme_id</th>\n",
       "      <th>num_parts</th>\n",
       "      <th>set_num_len</th>\n",
       "      <th>set_name_len</th>\n",
       "      <th>theme_name</th>\n",
       "      <th>id</th>\n",
       "      <th>part_num</th>\n",
       "      <th>color_id</th>\n",
       "      <th>quantity</th>\n",
       "      <th>color_name</th>\n",
       "      <th>part_name</th>\n",
       "      <th>is_trans</th>\n",
       "      <th>theme_name_len</th>\n",
       "      <th>part_num_len</th>\n",
       "      <th>color_name_len</th>\n",
       "      <th>part_name_len</th>\n",
       "      <th>is_ninjago</th>\n",
       "    </tr>\n",
       "  </thead>\n",
       "  <tbody>\n",
       "    <tr>\n",
       "      <th>0</th>\n",
       "      <td>001-1</td>\n",
       "      <td>Gears</td>\n",
       "      <td>1965</td>\n",
       "      <td>1</td>\n",
       "      <td>43</td>\n",
       "      <td>5</td>\n",
       "      <td>5</td>\n",
       "      <td>Technic</td>\n",
       "      <td>24696</td>\n",
       "      <td>132a</td>\n",
       "      <td>7</td>\n",
       "      <td>4</td>\n",
       "      <td>Light Gray</td>\n",
       "      <td>Tyre Smooth Old Style - Small</td>\n",
       "      <td>0</td>\n",
       "      <td>7</td>\n",
       "      <td>4</td>\n",
       "      <td>10</td>\n",
       "      <td>29</td>\n",
       "      <td>False</td>\n",
       "    </tr>\n",
       "  </tbody>\n",
       "</table>\n",
       "</div>"
      ],
      "text/plain": [
       "  set_num set_name  year  theme_id  num_parts  set_num_len  set_name_len  \\\n",
       "0   001-1    Gears  1965         1         43            5             5   \n",
       "\n",
       "  theme_name     id part_num  color_id  quantity  color_name  \\\n",
       "0    Technic  24696     132a         7         4  Light Gray   \n",
       "\n",
       "                       part_name  is_trans  theme_name_len  part_num_len  \\\n",
       "0  Tyre Smooth Old Style - Small         0               7             4   \n",
       "\n",
       "   color_name_len  part_name_len  is_ninjago  \n",
       "0              10             29       False  "
      ]
     },
     "execution_count": 70,
     "metadata": {},
     "output_type": "execute_result"
    }
   ],
   "source": [
    "df['is_ninjago'] = df['theme_id'] == 435\n",
    "df.head(1)"
   ]
  },
  {
   "cell_type": "code",
   "execution_count": 71,
   "id": "8fe18d57",
   "metadata": {},
   "outputs": [
    {
     "data": {
      "text/html": [
       "<div>\n",
       "<style scoped>\n",
       "    .dataframe tbody tr th:only-of-type {\n",
       "        vertical-align: middle;\n",
       "    }\n",
       "\n",
       "    .dataframe tbody tr th {\n",
       "        vertical-align: top;\n",
       "    }\n",
       "\n",
       "    .dataframe thead th {\n",
       "        text-align: right;\n",
       "    }\n",
       "</style>\n",
       "<table border=\"1\" class=\"dataframe\">\n",
       "  <thead>\n",
       "    <tr style=\"text-align: right;\">\n",
       "      <th></th>\n",
       "      <th>set_num</th>\n",
       "      <th>set_name</th>\n",
       "      <th>year</th>\n",
       "      <th>theme_id</th>\n",
       "      <th>num_parts</th>\n",
       "      <th>set_num_len</th>\n",
       "      <th>set_name_len</th>\n",
       "      <th>theme_name</th>\n",
       "      <th>id</th>\n",
       "      <th>part_num</th>\n",
       "      <th>color_id</th>\n",
       "      <th>quantity</th>\n",
       "      <th>color_name</th>\n",
       "      <th>part_name</th>\n",
       "      <th>is_trans</th>\n",
       "      <th>theme_name_len</th>\n",
       "      <th>part_num_len</th>\n",
       "      <th>color_name_len</th>\n",
       "      <th>part_name_len</th>\n",
       "      <th>is_ninjago_False</th>\n",
       "      <th>is_ninjago_True</th>\n",
       "    </tr>\n",
       "  </thead>\n",
       "  <tbody>\n",
       "    <tr>\n",
       "      <th>0</th>\n",
       "      <td>001-1</td>\n",
       "      <td>Gears</td>\n",
       "      <td>1965</td>\n",
       "      <td>1</td>\n",
       "      <td>43</td>\n",
       "      <td>5</td>\n",
       "      <td>5</td>\n",
       "      <td>Technic</td>\n",
       "      <td>24696</td>\n",
       "      <td>132a</td>\n",
       "      <td>7</td>\n",
       "      <td>4</td>\n",
       "      <td>Light Gray</td>\n",
       "      <td>Tyre Smooth Old Style - Small</td>\n",
       "      <td>0</td>\n",
       "      <td>7</td>\n",
       "      <td>4</td>\n",
       "      <td>10</td>\n",
       "      <td>29</td>\n",
       "      <td>1</td>\n",
       "      <td>0</td>\n",
       "    </tr>\n",
       "  </tbody>\n",
       "</table>\n",
       "</div>"
      ],
      "text/plain": [
       "  set_num set_name  year  theme_id  num_parts  set_num_len  set_name_len  \\\n",
       "0   001-1    Gears  1965         1         43            5             5   \n",
       "\n",
       "  theme_name     id part_num  color_id  quantity  color_name  \\\n",
       "0    Technic  24696     132a         7         4  Light Gray   \n",
       "\n",
       "                       part_name  is_trans  theme_name_len  part_num_len  \\\n",
       "0  Tyre Smooth Old Style - Small         0               7             4   \n",
       "\n",
       "   color_name_len  part_name_len  is_ninjago_False  is_ninjago_True  \n",
       "0              10             29                 1                0  "
      ]
     },
     "execution_count": 71,
     "metadata": {},
     "output_type": "execute_result"
    }
   ],
   "source": [
    "df = pd.get_dummies(df, columns=['is_ninjago'])\n",
    "df.head(1)"
   ]
  },
  {
   "cell_type": "code",
   "execution_count": 72,
   "id": "54387d82",
   "metadata": {},
   "outputs": [
    {
     "data": {
      "text/html": [
       "<div>\n",
       "<style scoped>\n",
       "    .dataframe tbody tr th:only-of-type {\n",
       "        vertical-align: middle;\n",
       "    }\n",
       "\n",
       "    .dataframe tbody tr th {\n",
       "        vertical-align: top;\n",
       "    }\n",
       "\n",
       "    .dataframe thead th {\n",
       "        text-align: right;\n",
       "    }\n",
       "</style>\n",
       "<table border=\"1\" class=\"dataframe\">\n",
       "  <thead>\n",
       "    <tr style=\"text-align: right;\">\n",
       "      <th></th>\n",
       "      <th>set_num</th>\n",
       "      <th>set_name</th>\n",
       "      <th>year</th>\n",
       "      <th>theme_id</th>\n",
       "      <th>num_parts</th>\n",
       "      <th>set_num_len</th>\n",
       "      <th>set_name_len</th>\n",
       "      <th>theme_name</th>\n",
       "      <th>id</th>\n",
       "      <th>part_num</th>\n",
       "      <th>color_id</th>\n",
       "      <th>quantity</th>\n",
       "      <th>color_name</th>\n",
       "      <th>part_name</th>\n",
       "      <th>is_trans</th>\n",
       "      <th>theme_name_len</th>\n",
       "      <th>part_num_len</th>\n",
       "      <th>color_name_len</th>\n",
       "      <th>part_name_len</th>\n",
       "      <th>is_ninjago_True</th>\n",
       "    </tr>\n",
       "  </thead>\n",
       "  <tbody>\n",
       "    <tr>\n",
       "      <th>0</th>\n",
       "      <td>001-1</td>\n",
       "      <td>Gears</td>\n",
       "      <td>1965</td>\n",
       "      <td>1</td>\n",
       "      <td>43</td>\n",
       "      <td>5</td>\n",
       "      <td>5</td>\n",
       "      <td>Technic</td>\n",
       "      <td>24696</td>\n",
       "      <td>132a</td>\n",
       "      <td>7</td>\n",
       "      <td>4</td>\n",
       "      <td>Light Gray</td>\n",
       "      <td>Tyre Smooth Old Style - Small</td>\n",
       "      <td>0</td>\n",
       "      <td>7</td>\n",
       "      <td>4</td>\n",
       "      <td>10</td>\n",
       "      <td>29</td>\n",
       "      <td>0</td>\n",
       "    </tr>\n",
       "  </tbody>\n",
       "</table>\n",
       "</div>"
      ],
      "text/plain": [
       "  set_num set_name  year  theme_id  num_parts  set_num_len  set_name_len  \\\n",
       "0   001-1    Gears  1965         1         43            5             5   \n",
       "\n",
       "  theme_name     id part_num  color_id  quantity  color_name  \\\n",
       "0    Technic  24696     132a         7         4  Light Gray   \n",
       "\n",
       "                       part_name  is_trans  theme_name_len  part_num_len  \\\n",
       "0  Tyre Smooth Old Style - Small         0               7             4   \n",
       "\n",
       "   color_name_len  part_name_len  is_ninjago_True  \n",
       "0              10             29                0  "
      ]
     },
     "execution_count": 72,
     "metadata": {},
     "output_type": "execute_result"
    }
   ],
   "source": [
    "df = df.drop('is_ninjago_False', axis=1)\n",
    "df.head(1)"
   ]
  },
  {
   "cell_type": "code",
   "execution_count": 73,
   "id": "85ab7c5e",
   "metadata": {},
   "outputs": [
    {
     "data": {
      "text/html": [
       "<div>\n",
       "<style scoped>\n",
       "    .dataframe tbody tr th:only-of-type {\n",
       "        vertical-align: middle;\n",
       "    }\n",
       "\n",
       "    .dataframe tbody tr th {\n",
       "        vertical-align: top;\n",
       "    }\n",
       "\n",
       "    .dataframe thead th {\n",
       "        text-align: right;\n",
       "    }\n",
       "</style>\n",
       "<table border=\"1\" class=\"dataframe\">\n",
       "  <thead>\n",
       "    <tr style=\"text-align: right;\">\n",
       "      <th></th>\n",
       "      <th>set_num</th>\n",
       "      <th>set_name</th>\n",
       "      <th>year</th>\n",
       "      <th>theme_id</th>\n",
       "      <th>num_parts</th>\n",
       "      <th>set_num_len</th>\n",
       "      <th>set_name_len</th>\n",
       "      <th>theme_name</th>\n",
       "      <th>id</th>\n",
       "      <th>part_num</th>\n",
       "      <th>color_id</th>\n",
       "      <th>quantity</th>\n",
       "      <th>color_name</th>\n",
       "      <th>part_name</th>\n",
       "      <th>is_trans</th>\n",
       "      <th>theme_name_len</th>\n",
       "      <th>part_num_len</th>\n",
       "      <th>color_name_len</th>\n",
       "      <th>part_name_len</th>\n",
       "      <th>is_ninjago</th>\n",
       "    </tr>\n",
       "  </thead>\n",
       "  <tbody>\n",
       "    <tr>\n",
       "      <th>0</th>\n",
       "      <td>001-1</td>\n",
       "      <td>Gears</td>\n",
       "      <td>1965</td>\n",
       "      <td>1</td>\n",
       "      <td>43</td>\n",
       "      <td>5</td>\n",
       "      <td>5</td>\n",
       "      <td>Technic</td>\n",
       "      <td>24696</td>\n",
       "      <td>132a</td>\n",
       "      <td>7</td>\n",
       "      <td>4</td>\n",
       "      <td>Light Gray</td>\n",
       "      <td>Tyre Smooth Old Style - Small</td>\n",
       "      <td>0</td>\n",
       "      <td>7</td>\n",
       "      <td>4</td>\n",
       "      <td>10</td>\n",
       "      <td>29</td>\n",
       "      <td>0</td>\n",
       "    </tr>\n",
       "  </tbody>\n",
       "</table>\n",
       "</div>"
      ],
      "text/plain": [
       "  set_num set_name  year  theme_id  num_parts  set_num_len  set_name_len  \\\n",
       "0   001-1    Gears  1965         1         43            5             5   \n",
       "\n",
       "  theme_name     id part_num  color_id  quantity  color_name  \\\n",
       "0    Technic  24696     132a         7         4  Light Gray   \n",
       "\n",
       "                       part_name  is_trans  theme_name_len  part_num_len  \\\n",
       "0  Tyre Smooth Old Style - Small         0               7             4   \n",
       "\n",
       "   color_name_len  part_name_len  is_ninjago  \n",
       "0              10             29           0  "
      ]
     },
     "execution_count": 73,
     "metadata": {},
     "output_type": "execute_result"
    }
   ],
   "source": [
    "df = df.rename(columns={'is_ninjago_True':'is_ninjago'})\n",
    "df.head(1)"
   ]
  },
  {
   "cell_type": "code",
   "execution_count": 74,
   "id": "1043969b",
   "metadata": {},
   "outputs": [
    {
     "data": {
      "text/html": [
       "<div>\n",
       "<style scoped>\n",
       "    .dataframe tbody tr th:only-of-type {\n",
       "        vertical-align: middle;\n",
       "    }\n",
       "\n",
       "    .dataframe tbody tr th {\n",
       "        vertical-align: top;\n",
       "    }\n",
       "\n",
       "    .dataframe thead th {\n",
       "        text-align: right;\n",
       "    }\n",
       "</style>\n",
       "<table border=\"1\" class=\"dataframe\">\n",
       "  <thead>\n",
       "    <tr style=\"text-align: right;\">\n",
       "      <th></th>\n",
       "      <th>color_id</th>\n",
       "      <th>color_name</th>\n",
       "      <th>rgb</th>\n",
       "      <th>is_trans</th>\n",
       "    </tr>\n",
       "  </thead>\n",
       "  <tbody>\n",
       "    <tr>\n",
       "      <th>189</th>\n",
       "      <td>9999</td>\n",
       "      <td>[No Color/Any Color]</td>\n",
       "      <td>05131D</td>\n",
       "      <td>f</td>\n",
       "    </tr>\n",
       "    <tr>\n",
       "      <th>188</th>\n",
       "      <td>1062</td>\n",
       "      <td>Lemon</td>\n",
       "      <td>EBD800</td>\n",
       "      <td>f</td>\n",
       "    </tr>\n",
       "    <tr>\n",
       "      <th>187</th>\n",
       "      <td>1061</td>\n",
       "      <td>Trans-Dark Blue Opal</td>\n",
       "      <td>0020A0</td>\n",
       "      <td>t</td>\n",
       "    </tr>\n",
       "    <tr>\n",
       "      <th>186</th>\n",
       "      <td>1060</td>\n",
       "      <td>Trans-Green Opal</td>\n",
       "      <td>84B68D</td>\n",
       "      <td>t</td>\n",
       "    </tr>\n",
       "    <tr>\n",
       "      <th>185</th>\n",
       "      <td>1059</td>\n",
       "      <td>Trans-Purple Opal</td>\n",
       "      <td>8320B7</td>\n",
       "      <td>t</td>\n",
       "    </tr>\n",
       "    <tr>\n",
       "      <th>...</th>\n",
       "      <td>...</td>\n",
       "      <td>...</td>\n",
       "      <td>...</td>\n",
       "      <td>...</td>\n",
       "    </tr>\n",
       "    <tr>\n",
       "      <th>4</th>\n",
       "      <td>3</td>\n",
       "      <td>Dark Turquoise</td>\n",
       "      <td>008F9B</td>\n",
       "      <td>f</td>\n",
       "    </tr>\n",
       "    <tr>\n",
       "      <th>3</th>\n",
       "      <td>2</td>\n",
       "      <td>Green</td>\n",
       "      <td>237841</td>\n",
       "      <td>f</td>\n",
       "    </tr>\n",
       "    <tr>\n",
       "      <th>2</th>\n",
       "      <td>1</td>\n",
       "      <td>Blue</td>\n",
       "      <td>0055BF</td>\n",
       "      <td>f</td>\n",
       "    </tr>\n",
       "    <tr>\n",
       "      <th>1</th>\n",
       "      <td>0</td>\n",
       "      <td>Black</td>\n",
       "      <td>05131D</td>\n",
       "      <td>f</td>\n",
       "    </tr>\n",
       "    <tr>\n",
       "      <th>0</th>\n",
       "      <td>-1</td>\n",
       "      <td>[Unknown]</td>\n",
       "      <td>0033B2</td>\n",
       "      <td>f</td>\n",
       "    </tr>\n",
       "  </tbody>\n",
       "</table>\n",
       "<p>190 rows × 4 columns</p>\n",
       "</div>"
      ],
      "text/plain": [
       "     color_id            color_name     rgb is_trans\n",
       "189      9999  [No Color/Any Color]  05131D        f\n",
       "188      1062                 Lemon  EBD800        f\n",
       "187      1061  Trans-Dark Blue Opal  0020A0        t\n",
       "186      1060      Trans-Green Opal  84B68D        t\n",
       "185      1059     Trans-Purple Opal  8320B7        t\n",
       "..        ...                   ...     ...      ...\n",
       "4           3        Dark Turquoise  008F9B        f\n",
       "3           2                 Green  237841        f\n",
       "2           1                  Blue  0055BF        f\n",
       "1           0                 Black  05131D        f\n",
       "0          -1             [Unknown]  0033B2        f\n",
       "\n",
       "[190 rows x 4 columns]"
      ]
     },
     "execution_count": 74,
     "metadata": {},
     "output_type": "execute_result"
    }
   ],
   "source": [
    "colors.sort_values('color_id', ascending=False)"
   ]
  },
  {
   "cell_type": "code",
   "execution_count": 75,
   "id": "f8521385",
   "metadata": {},
   "outputs": [
    {
     "data": {
      "text/plain": [
       "array([  -1,    0,    1,    2,    3,    4,    5,    6,    7,    8,    9,\n",
       "         10,   11,   12,   13,   14,   15,   17,   18,   19,   20,   21,\n",
       "         22,   23,   25,   26,   27,   28,   29,   30,   31,   32,   33,\n",
       "         34,   35,   36,   40,   41,   42,   43,   45,   46,   47,   52,\n",
       "         54,   57,   60,   61,   62,   63,   64,   68,   69,   70,   71,\n",
       "         72,   73,   74,   75,   76,   77,   78,   79,   80,   81,   82,\n",
       "         84,   85,   86,   89,   92,  100,  110,  112,  114,  115,  117,\n",
       "        118,  120,  125,  129,  132,  133,  134,  135,  137,  142,  143,\n",
       "        148,  150,  151,  158,  178,  179,  182,  183,  191,  212,  216,\n",
       "        226,  230,  232,  236,  272,  288,  294,  297,  308,  313,  320,\n",
       "        321,  322,  323,  326,  334,  335,  351,  366,  373,  378,  379,\n",
       "        383,  450,  462,  484,  503, 1000, 1001, 1002, 1003, 1004, 1005,\n",
       "       1006, 1007, 1008, 1009, 1010, 1011, 1012, 1013, 1014, 1015, 1016,\n",
       "       1017, 1018, 1019, 1020, 1021, 1022, 1023, 1024, 1025, 1026, 1027,\n",
       "       1028, 1029, 1030, 1031, 1032, 1033, 1034, 1035, 1036, 1037, 1038,\n",
       "       1039, 1040, 1041, 1042, 1043, 1044, 1045, 1046, 1047, 1048, 1049,\n",
       "       1050, 1051, 1052, 1053, 1054, 1055, 1056, 1057, 1058, 1059, 1060,\n",
       "       1061, 1062, 9999], dtype=int64)"
      ]
     },
     "execution_count": 75,
     "metadata": {},
     "output_type": "execute_result"
    }
   ],
   "source": [
    "colors['color_id'].unique()"
   ]
  },
  {
   "cell_type": "code",
   "execution_count": 76,
   "id": "e2fb82c6",
   "metadata": {},
   "outputs": [
    {
     "data": {
      "text/plain": [
       "set_num    12\n",
       "dtype: int64"
      ]
     },
     "execution_count": 76,
     "metadata": {},
     "output_type": "execute_result"
    }
   ],
   "source": [
    "df[df['color_id']==-1].count().head(1)"
   ]
  },
  {
   "cell_type": "code",
   "execution_count": 77,
   "id": "0e400808",
   "metadata": {},
   "outputs": [
    {
     "data": {
      "text/plain": [
       "set_num    7170\n",
       "dtype: int64"
      ]
     },
     "execution_count": 77,
     "metadata": {},
     "output_type": "execute_result"
    }
   ],
   "source": [
    "df[df['color_id']==9999].count().head(1)"
   ]
  },
  {
   "cell_type": "code",
   "execution_count": 78,
   "id": "23fd638a",
   "metadata": {},
   "outputs": [],
   "source": [
    "df['color_id'] = df['color_id'].replace([-1, 9999], [1063, 1064])"
   ]
  },
  {
   "cell_type": "code",
   "execution_count": 79,
   "id": "5aafed04",
   "metadata": {},
   "outputs": [],
   "source": [
    "df.to_csv('C:/Users/marki/Desktop/SB Data Science BC/Springboard/Capstone2/data from notebooks/df.csv', index=False)"
   ]
  },
  {
   "cell_type": "code",
   "execution_count": 80,
   "id": "1dd63c25",
   "metadata": {},
   "outputs": [
    {
     "data": {
      "text/plain": [
       "(919288, 20)"
      ]
     },
     "execution_count": 80,
     "metadata": {},
     "output_type": "execute_result"
    }
   ],
   "source": [
    "df.shape"
   ]
  },
  {
   "cell_type": "code",
   "execution_count": 81,
   "id": "85f11155",
   "metadata": {},
   "outputs": [
    {
     "data": {
      "text/plain": [
       "0.03858203305166607"
      ]
     },
     "execution_count": 81,
     "metadata": {},
     "output_type": "execute_result"
    }
   ],
   "source": [
    "is_ninjago = df['is_ninjago'].sum() / df.shape[0]\n",
    "is_ninjago"
   ]
  }
 ],
 "metadata": {
  "kernelspec": {
   "display_name": "Python 3",
   "language": "python",
   "name": "python3"
  },
  "language_info": {
   "codemirror_mode": {
    "name": "ipython",
    "version": 3
   },
   "file_extension": ".py",
   "mimetype": "text/x-python",
   "name": "python",
   "nbconvert_exporter": "python",
   "pygments_lexer": "ipython3",
   "version": "3.8.8"
  }
 },
 "nbformat": 4,
 "nbformat_minor": 5
}
