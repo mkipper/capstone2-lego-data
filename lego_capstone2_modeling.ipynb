{
 "cells": [
  {
   "cell_type": "code",
   "execution_count": 1,
   "id": "e0a28712",
   "metadata": {},
   "outputs": [],
   "source": [
    "import pandas as pd\n",
    "import numpy as np\n",
    "from sklearn.linear_model import LogisticRegression\n",
    "from sklearn.model_selection import train_test_split\n",
    "pd.options.display.max_columns=1000\n",
    "from tqdm import tqdm"
   ]
  },
  {
   "cell_type": "code",
   "execution_count": 2,
   "id": "de847961",
   "metadata": {},
   "outputs": [],
   "source": [
    "df = pd.read_csv('C:/Users/marki/Desktop/SB Data Science BC/Springboard/Capstone2/lego/df.csv')"
   ]
  },
  {
   "cell_type": "code",
   "execution_count": 3,
   "id": "d05ec95b",
   "metadata": {},
   "outputs": [
    {
     "data": {
      "text/html": [
       "<div>\n",
       "<style scoped>\n",
       "    .dataframe tbody tr th:only-of-type {\n",
       "        vertical-align: middle;\n",
       "    }\n",
       "\n",
       "    .dataframe tbody tr th {\n",
       "        vertical-align: top;\n",
       "    }\n",
       "\n",
       "    .dataframe thead th {\n",
       "        text-align: right;\n",
       "    }\n",
       "</style>\n",
       "<table border=\"1\" class=\"dataframe\">\n",
       "  <thead>\n",
       "    <tr style=\"text-align: right;\">\n",
       "      <th></th>\n",
       "      <th>set_num</th>\n",
       "      <th>set_name</th>\n",
       "      <th>year</th>\n",
       "      <th>theme_id</th>\n",
       "      <th>num_parts</th>\n",
       "      <th>set_num_len</th>\n",
       "      <th>set_name_len</th>\n",
       "      <th>theme_name</th>\n",
       "      <th>is_city</th>\n",
       "      <th>id</th>\n",
       "      <th>part_num</th>\n",
       "      <th>color_id</th>\n",
       "      <th>quantity</th>\n",
       "      <th>color_name</th>\n",
       "      <th>part_name</th>\n",
       "      <th>is_trans</th>\n",
       "      <th>theme_name_len</th>\n",
       "      <th>part_num_len</th>\n",
       "      <th>color_name_len</th>\n",
       "      <th>part_name_len</th>\n",
       "      <th>is_ninjago</th>\n",
       "    </tr>\n",
       "  </thead>\n",
       "  <tbody>\n",
       "    <tr>\n",
       "      <th>0</th>\n",
       "      <td>00-1</td>\n",
       "      <td>Weetabix Castle</td>\n",
       "      <td>1970</td>\n",
       "      <td>414</td>\n",
       "      <td>471</td>\n",
       "      <td>4</td>\n",
       "      <td>15</td>\n",
       "      <td>Castle</td>\n",
       "      <td>0</td>\n",
       "      <td>5574.0</td>\n",
       "      <td>29c01</td>\n",
       "      <td>4</td>\n",
       "      <td>8</td>\n",
       "      <td>Red</td>\n",
       "      <td>Window 1 x 1 x 2 with Glass</td>\n",
       "      <td>0</td>\n",
       "      <td>6</td>\n",
       "      <td>5</td>\n",
       "      <td>3</td>\n",
       "      <td>27</td>\n",
       "      <td>0</td>\n",
       "    </tr>\n",
       "    <tr>\n",
       "      <th>1</th>\n",
       "      <td>00-1</td>\n",
       "      <td>Weetabix Castle</td>\n",
       "      <td>1970</td>\n",
       "      <td>414</td>\n",
       "      <td>471</td>\n",
       "      <td>4</td>\n",
       "      <td>15</td>\n",
       "      <td>Castle</td>\n",
       "      <td>0</td>\n",
       "      <td>5574.0</td>\n",
       "      <td>29c01</td>\n",
       "      <td>15</td>\n",
       "      <td>6</td>\n",
       "      <td>White</td>\n",
       "      <td>Window 1 x 1 x 2 with Glass</td>\n",
       "      <td>0</td>\n",
       "      <td>6</td>\n",
       "      <td>5</td>\n",
       "      <td>5</td>\n",
       "      <td>27</td>\n",
       "      <td>0</td>\n",
       "    </tr>\n",
       "    <tr>\n",
       "      <th>2</th>\n",
       "      <td>00-1</td>\n",
       "      <td>Weetabix Castle</td>\n",
       "      <td>1970</td>\n",
       "      <td>414</td>\n",
       "      <td>471</td>\n",
       "      <td>4</td>\n",
       "      <td>15</td>\n",
       "      <td>Castle</td>\n",
       "      <td>0</td>\n",
       "      <td>5574.0</td>\n",
       "      <td>3001a</td>\n",
       "      <td>15</td>\n",
       "      <td>25</td>\n",
       "      <td>White</td>\n",
       "      <td>Brick 2 x 4 without Cross Supports</td>\n",
       "      <td>0</td>\n",
       "      <td>6</td>\n",
       "      <td>5</td>\n",
       "      <td>5</td>\n",
       "      <td>34</td>\n",
       "      <td>0</td>\n",
       "    </tr>\n",
       "    <tr>\n",
       "      <th>3</th>\n",
       "      <td>00-1</td>\n",
       "      <td>Weetabix Castle</td>\n",
       "      <td>1970</td>\n",
       "      <td>414</td>\n",
       "      <td>471</td>\n",
       "      <td>4</td>\n",
       "      <td>15</td>\n",
       "      <td>Castle</td>\n",
       "      <td>0</td>\n",
       "      <td>5574.0</td>\n",
       "      <td>3001a</td>\n",
       "      <td>4</td>\n",
       "      <td>9</td>\n",
       "      <td>Red</td>\n",
       "      <td>Brick 2 x 4 without Cross Supports</td>\n",
       "      <td>0</td>\n",
       "      <td>6</td>\n",
       "      <td>5</td>\n",
       "      <td>3</td>\n",
       "      <td>34</td>\n",
       "      <td>0</td>\n",
       "    </tr>\n",
       "    <tr>\n",
       "      <th>4</th>\n",
       "      <td>00-1</td>\n",
       "      <td>Weetabix Castle</td>\n",
       "      <td>1970</td>\n",
       "      <td>414</td>\n",
       "      <td>471</td>\n",
       "      <td>4</td>\n",
       "      <td>15</td>\n",
       "      <td>Castle</td>\n",
       "      <td>0</td>\n",
       "      <td>5574.0</td>\n",
       "      <td>3001a</td>\n",
       "      <td>1</td>\n",
       "      <td>4</td>\n",
       "      <td>Blue</td>\n",
       "      <td>Brick 2 x 4 without Cross Supports</td>\n",
       "      <td>0</td>\n",
       "      <td>6</td>\n",
       "      <td>5</td>\n",
       "      <td>4</td>\n",
       "      <td>34</td>\n",
       "      <td>0</td>\n",
       "    </tr>\n",
       "  </tbody>\n",
       "</table>\n",
       "</div>"
      ],
      "text/plain": [
       "  set_num         set_name  year  theme_id  num_parts  set_num_len  \\\n",
       "0    00-1  Weetabix Castle  1970       414        471            4   \n",
       "1    00-1  Weetabix Castle  1970       414        471            4   \n",
       "2    00-1  Weetabix Castle  1970       414        471            4   \n",
       "3    00-1  Weetabix Castle  1970       414        471            4   \n",
       "4    00-1  Weetabix Castle  1970       414        471            4   \n",
       "\n",
       "   set_name_len theme_name  is_city      id part_num  color_id  quantity  \\\n",
       "0            15     Castle        0  5574.0    29c01         4         8   \n",
       "1            15     Castle        0  5574.0    29c01        15         6   \n",
       "2            15     Castle        0  5574.0    3001a        15        25   \n",
       "3            15     Castle        0  5574.0    3001a         4         9   \n",
       "4            15     Castle        0  5574.0    3001a         1         4   \n",
       "\n",
       "  color_name                           part_name  is_trans  theme_name_len  \\\n",
       "0        Red         Window 1 x 1 x 2 with Glass         0               6   \n",
       "1      White         Window 1 x 1 x 2 with Glass         0               6   \n",
       "2      White  Brick 2 x 4 without Cross Supports         0               6   \n",
       "3        Red  Brick 2 x 4 without Cross Supports         0               6   \n",
       "4       Blue  Brick 2 x 4 without Cross Supports         0               6   \n",
       "\n",
       "   part_num_len  color_name_len  part_name_len  is_ninjago  \n",
       "0             5               3             27           0  \n",
       "1             5               5             27           0  \n",
       "2             5               5             34           0  \n",
       "3             5               3             34           0  \n",
       "4             5               4             34           0  "
      ]
     },
     "execution_count": 3,
     "metadata": {},
     "output_type": "execute_result"
    }
   ],
   "source": [
    "df.head()"
   ]
  },
  {
   "cell_type": "code",
   "execution_count": 4,
   "id": "5bbbb073",
   "metadata": {},
   "outputs": [
    {
     "data": {
      "text/plain": [
       "(580251, 21)"
      ]
     },
     "execution_count": 4,
     "metadata": {},
     "output_type": "execute_result"
    }
   ],
   "source": [
    "df.shape"
   ]
  },
  {
   "cell_type": "code",
   "execution_count": 5,
   "id": "dc3d8087",
   "metadata": {},
   "outputs": [
    {
     "data": {
      "text/plain": [
       "Index(['set_num', 'set_name', 'year', 'theme_id', 'num_parts', 'set_num_len',\n",
       "       'set_name_len', 'theme_name', 'is_city', 'id', 'part_num', 'color_id',\n",
       "       'quantity', 'color_name', 'part_name', 'is_trans', 'theme_name_len',\n",
       "       'part_num_len', 'color_name_len', 'part_name_len', 'is_ninjago'],\n",
       "      dtype='object')"
      ]
     },
     "execution_count": 5,
     "metadata": {},
     "output_type": "execute_result"
    }
   ],
   "source": [
    "df.columns"
   ]
  },
  {
   "cell_type": "code",
   "execution_count": 6,
   "id": "ec84082a",
   "metadata": {},
   "outputs": [
    {
     "data": {
      "text/plain": [
       "['set_num',\n",
       " 'set_name',\n",
       " 'theme_id',\n",
       " 'theme_name',\n",
       " 'is_city',\n",
       " 'id',\n",
       " 'part_num',\n",
       " 'color_name',\n",
       " 'part_name',\n",
       " 'is_ninjago']"
      ]
     },
     "execution_count": 6,
     "metadata": {},
     "output_type": "execute_result"
    }
   ],
   "source": [
    "target_names = 'set_num set_name theme_id theme_name is_city id part_num color_name part_name is_ninjago'.split()\n",
    "target_names"
   ]
  },
  {
   "cell_type": "code",
   "execution_count": 7,
   "id": "3fd99a6d",
   "metadata": {},
   "outputs": [],
   "source": [
    "hyper_table = list()\n",
    "model = LogisticRegression(class_weight='balanced') # class_weight={0:0.029, 1:0.971})"
   ]
  },
  {
   "cell_type": "code",
   "execution_count": 16,
   "id": "3c45b543",
   "metadata": {},
   "outputs": [],
   "source": [
    "LogisticRegression?"
   ]
  },
  {
   "cell_type": "code",
   "execution_count": 8,
   "id": "a4cf3969",
   "metadata": {},
   "outputs": [],
   "source": [
    "y = df['is_ninjago']\n",
    "X_train, X_test, y_train, y_test = train_test_split(df[df.columns], y, test_size= 0.1, random_state=1)"
   ]
  },
  {
   "cell_type": "code",
   "execution_count": 9,
   "id": "de5873f1",
   "metadata": {},
   "outputs": [
    {
     "name": "stderr",
     "output_type": "stream",
     "text": [
      " 76%|██████████████████████████████████████████████████████████████▍                   | 16/21 [00:15<00:06,  1.21s/it]C:\\Users\\marki\\anaconda3\\lib\\site-packages\\sklearn\\linear_model\\_logistic.py:763: ConvergenceWarning: lbfgs failed to converge (status=1):\n",
      "STOP: TOTAL NO. of ITERATIONS REACHED LIMIT.\n",
      "\n",
      "Increase the number of iterations (max_iter) or scale the data as shown in:\n",
      "    https://scikit-learn.org/stable/modules/preprocessing.html\n",
      "Please also refer to the documentation for alternative solver options:\n",
      "    https://scikit-learn.org/stable/modules/linear_model.html#logistic-regression\n",
      "  n_iter_i = _check_optimize_result(\n",
      " 81%|██████████████████████████████████████████████████████████████████▍               | 17/21 [00:20<00:07,  1.88s/it]C:\\Users\\marki\\anaconda3\\lib\\site-packages\\sklearn\\linear_model\\_logistic.py:763: ConvergenceWarning: lbfgs failed to converge (status=1):\n",
      "STOP: TOTAL NO. of ITERATIONS REACHED LIMIT.\n",
      "\n",
      "Increase the number of iterations (max_iter) or scale the data as shown in:\n",
      "    https://scikit-learn.org/stable/modules/preprocessing.html\n",
      "Please also refer to the documentation for alternative solver options:\n",
      "    https://scikit-learn.org/stable/modules/linear_model.html#logistic-regression\n",
      "  n_iter_i = _check_optimize_result(\n",
      " 86%|██████████████████████████████████████████████████████████████████████▎           | 18/21 [00:26<00:07,  2.55s/it]C:\\Users\\marki\\anaconda3\\lib\\site-packages\\sklearn\\linear_model\\_logistic.py:763: ConvergenceWarning: lbfgs failed to converge (status=1):\n",
      "STOP: TOTAL NO. of ITERATIONS REACHED LIMIT.\n",
      "\n",
      "Increase the number of iterations (max_iter) or scale the data as shown in:\n",
      "    https://scikit-learn.org/stable/modules/preprocessing.html\n",
      "Please also refer to the documentation for alternative solver options:\n",
      "    https://scikit-learn.org/stable/modules/linear_model.html#logistic-regression\n",
      "  n_iter_i = _check_optimize_result(\n",
      " 90%|██████████████████████████████████████████████████████████████████████████▏       | 19/21 [00:31<00:06,  3.21s/it]C:\\Users\\marki\\anaconda3\\lib\\site-packages\\sklearn\\linear_model\\_logistic.py:763: ConvergenceWarning: lbfgs failed to converge (status=1):\n",
      "STOP: TOTAL NO. of ITERATIONS REACHED LIMIT.\n",
      "\n",
      "Increase the number of iterations (max_iter) or scale the data as shown in:\n",
      "    https://scikit-learn.org/stable/modules/preprocessing.html\n",
      "Please also refer to the documentation for alternative solver options:\n",
      "    https://scikit-learn.org/stable/modules/linear_model.html#logistic-regression\n",
      "  n_iter_i = _check_optimize_result(\n",
      "100%|██████████████████████████████████████████████████████████████████████████████████| 21/21 [00:37<00:00,  1.80s/it]\n"
     ]
    }
   ],
   "source": [
    "fn = list()\n",
    "for i, name in tqdm(enumerate(df.columns), total=len(df.columns)):\n",
    "    if i > 100:\n",
    "        break\n",
    "    if name in target_names:\n",
    "        continue\n",
    "    fn.append(name)\n",
    "    model.fit(X_train[fn], y_train)\n",
    "    s_train = model.score(X_train[fn], y_train)\n",
    "    s_test = model.score(X_test[fn], y_test)\n",
    "    hyper_table.append(dict(desc=str(fn), train_score=s_train, test_score=s_test, C=model.C, model=model, num_features=df[fn].shape[1], num_rows=df[fn].shape[0], last_feature=fn[-1]))"
   ]
  },
  {
   "cell_type": "code",
   "execution_count": 10,
   "id": "6ed9234e",
   "metadata": {},
   "outputs": [
    {
     "data": {
      "text/html": [
       "<div>\n",
       "<style scoped>\n",
       "    .dataframe tbody tr th:only-of-type {\n",
       "        vertical-align: middle;\n",
       "    }\n",
       "\n",
       "    .dataframe tbody tr th {\n",
       "        vertical-align: top;\n",
       "    }\n",
       "\n",
       "    .dataframe thead th {\n",
       "        text-align: right;\n",
       "    }\n",
       "</style>\n",
       "<table border=\"1\" class=\"dataframe\">\n",
       "  <thead>\n",
       "    <tr style=\"text-align: right;\">\n",
       "      <th></th>\n",
       "      <th>desc</th>\n",
       "      <th>train_score</th>\n",
       "      <th>test_score</th>\n",
       "      <th>C</th>\n",
       "      <th>model</th>\n",
       "      <th>num_features</th>\n",
       "      <th>num_rows</th>\n",
       "      <th>last_feature</th>\n",
       "    </tr>\n",
       "  </thead>\n",
       "  <tbody>\n",
       "    <tr>\n",
       "      <th>0</th>\n",
       "      <td>['year']</td>\n",
       "      <td>0.028869</td>\n",
       "      <td>0.031021</td>\n",
       "      <td>1.0</td>\n",
       "      <td>LogisticRegression(class_weight='balanced')</td>\n",
       "      <td>1</td>\n",
       "      <td>580251</td>\n",
       "      <td>year</td>\n",
       "    </tr>\n",
       "    <tr>\n",
       "      <th>2</th>\n",
       "      <td>['year', 'num_parts', 'set_num_len']</td>\n",
       "      <td>0.589945</td>\n",
       "      <td>0.589787</td>\n",
       "      <td>1.0</td>\n",
       "      <td>LogisticRegression(class_weight='balanced')</td>\n",
       "      <td>3</td>\n",
       "      <td>580251</td>\n",
       "      <td>set_num_len</td>\n",
       "    </tr>\n",
       "    <tr>\n",
       "      <th>3</th>\n",
       "      <td>['year', 'num_parts', 'set_num_len', 'set_name...</td>\n",
       "      <td>0.637723</td>\n",
       "      <td>0.636973</td>\n",
       "      <td>1.0</td>\n",
       "      <td>LogisticRegression(class_weight='balanced')</td>\n",
       "      <td>4</td>\n",
       "      <td>580251</td>\n",
       "      <td>set_name_len</td>\n",
       "    </tr>\n",
       "    <tr>\n",
       "      <th>9</th>\n",
       "      <td>['year', 'num_parts', 'set_num_len', 'set_name...</td>\n",
       "      <td>0.638954</td>\n",
       "      <td>0.640144</td>\n",
       "      <td>1.0</td>\n",
       "      <td>LogisticRegression(class_weight='balanced')</td>\n",
       "      <td>10</td>\n",
       "      <td>580251</td>\n",
       "      <td>color_name_len</td>\n",
       "    </tr>\n",
       "    <tr>\n",
       "      <th>10</th>\n",
       "      <td>['year', 'num_parts', 'set_num_len', 'set_name...</td>\n",
       "      <td>0.641386</td>\n",
       "      <td>0.642212</td>\n",
       "      <td>1.0</td>\n",
       "      <td>LogisticRegression(class_weight='balanced')</td>\n",
       "      <td>11</td>\n",
       "      <td>580251</td>\n",
       "      <td>part_name_len</td>\n",
       "    </tr>\n",
       "    <tr>\n",
       "      <th>5</th>\n",
       "      <td>['year', 'num_parts', 'set_num_len', 'set_name...</td>\n",
       "      <td>0.649184</td>\n",
       "      <td>0.649295</td>\n",
       "      <td>1.0</td>\n",
       "      <td>LogisticRegression(class_weight='balanced')</td>\n",
       "      <td>6</td>\n",
       "      <td>580251</td>\n",
       "      <td>quantity</td>\n",
       "    </tr>\n",
       "    <tr>\n",
       "      <th>4</th>\n",
       "      <td>['year', 'num_parts', 'set_num_len', 'set_name...</td>\n",
       "      <td>0.649632</td>\n",
       "      <td>0.649778</td>\n",
       "      <td>1.0</td>\n",
       "      <td>LogisticRegression(class_weight='balanced')</td>\n",
       "      <td>5</td>\n",
       "      <td>580251</td>\n",
       "      <td>color_id</td>\n",
       "    </tr>\n",
       "    <tr>\n",
       "      <th>6</th>\n",
       "      <td>['year', 'num_parts', 'set_num_len', 'set_name...</td>\n",
       "      <td>0.649318</td>\n",
       "      <td>0.649829</td>\n",
       "      <td>1.0</td>\n",
       "      <td>LogisticRegression(class_weight='balanced')</td>\n",
       "      <td>7</td>\n",
       "      <td>580251</td>\n",
       "      <td>is_trans</td>\n",
       "    </tr>\n",
       "    <tr>\n",
       "      <th>1</th>\n",
       "      <td>['year', 'num_parts']</td>\n",
       "      <td>0.653247</td>\n",
       "      <td>0.654793</td>\n",
       "      <td>1.0</td>\n",
       "      <td>LogisticRegression(class_weight='balanced')</td>\n",
       "      <td>2</td>\n",
       "      <td>580251</td>\n",
       "      <td>num_parts</td>\n",
       "    </tr>\n",
       "    <tr>\n",
       "      <th>8</th>\n",
       "      <td>['year', 'num_parts', 'set_num_len', 'set_name...</td>\n",
       "      <td>0.659679</td>\n",
       "      <td>0.659532</td>\n",
       "      <td>1.0</td>\n",
       "      <td>LogisticRegression(class_weight='balanced')</td>\n",
       "      <td>9</td>\n",
       "      <td>580251</td>\n",
       "      <td>part_num_len</td>\n",
       "    </tr>\n",
       "    <tr>\n",
       "      <th>7</th>\n",
       "      <td>['year', 'num_parts', 'set_num_len', 'set_name...</td>\n",
       "      <td>0.664941</td>\n",
       "      <td>0.663737</td>\n",
       "      <td>1.0</td>\n",
       "      <td>LogisticRegression(class_weight='balanced')</td>\n",
       "      <td>8</td>\n",
       "      <td>580251</td>\n",
       "      <td>theme_name_len</td>\n",
       "    </tr>\n",
       "  </tbody>\n",
       "</table>\n",
       "</div>"
      ],
      "text/plain": [
       "                                                 desc  train_score  \\\n",
       "0                                            ['year']     0.028869   \n",
       "2                ['year', 'num_parts', 'set_num_len']     0.589945   \n",
       "3   ['year', 'num_parts', 'set_num_len', 'set_name...     0.637723   \n",
       "9   ['year', 'num_parts', 'set_num_len', 'set_name...     0.638954   \n",
       "10  ['year', 'num_parts', 'set_num_len', 'set_name...     0.641386   \n",
       "5   ['year', 'num_parts', 'set_num_len', 'set_name...     0.649184   \n",
       "4   ['year', 'num_parts', 'set_num_len', 'set_name...     0.649632   \n",
       "6   ['year', 'num_parts', 'set_num_len', 'set_name...     0.649318   \n",
       "1                               ['year', 'num_parts']     0.653247   \n",
       "8   ['year', 'num_parts', 'set_num_len', 'set_name...     0.659679   \n",
       "7   ['year', 'num_parts', 'set_num_len', 'set_name...     0.664941   \n",
       "\n",
       "    test_score    C                                        model  \\\n",
       "0     0.031021  1.0  LogisticRegression(class_weight='balanced')   \n",
       "2     0.589787  1.0  LogisticRegression(class_weight='balanced')   \n",
       "3     0.636973  1.0  LogisticRegression(class_weight='balanced')   \n",
       "9     0.640144  1.0  LogisticRegression(class_weight='balanced')   \n",
       "10    0.642212  1.0  LogisticRegression(class_weight='balanced')   \n",
       "5     0.649295  1.0  LogisticRegression(class_weight='balanced')   \n",
       "4     0.649778  1.0  LogisticRegression(class_weight='balanced')   \n",
       "6     0.649829  1.0  LogisticRegression(class_weight='balanced')   \n",
       "1     0.654793  1.0  LogisticRegression(class_weight='balanced')   \n",
       "8     0.659532  1.0  LogisticRegression(class_weight='balanced')   \n",
       "7     0.663737  1.0  LogisticRegression(class_weight='balanced')   \n",
       "\n",
       "    num_features  num_rows    last_feature  \n",
       "0              1    580251            year  \n",
       "2              3    580251     set_num_len  \n",
       "3              4    580251    set_name_len  \n",
       "9             10    580251  color_name_len  \n",
       "10            11    580251   part_name_len  \n",
       "5              6    580251        quantity  \n",
       "4              5    580251        color_id  \n",
       "6              7    580251        is_trans  \n",
       "1              2    580251       num_parts  \n",
       "8              9    580251    part_num_len  \n",
       "7              8    580251  theme_name_len  "
      ]
     },
     "execution_count": 10,
     "metadata": {},
     "output_type": "execute_result"
    }
   ],
   "source": [
    "pd.DataFrame(hyper_table).sort_values('test_score')"
   ]
  },
  {
   "cell_type": "code",
   "execution_count": 11,
   "id": "8ddf0572",
   "metadata": {},
   "outputs": [
    {
     "data": {
      "text/plain": [
       "array([0, 0, 1, ..., 0, 0, 0], dtype=int64)"
      ]
     },
     "execution_count": 11,
     "metadata": {},
     "output_type": "execute_result"
    }
   ],
   "source": [
    "y_pred = model.predict(X_test[fn])\n",
    "y_pred"
   ]
  },
  {
   "cell_type": "code",
   "execution_count": 12,
   "id": "3e0b8045",
   "metadata": {},
   "outputs": [
    {
     "data": {
      "text/plain": [
       "0.3836383690069969"
      ]
     },
     "execution_count": 12,
     "metadata": {},
     "output_type": "execute_result"
    }
   ],
   "source": [
    "y_pred.sum() / len(y_pred)"
   ]
  },
  {
   "cell_type": "code",
   "execution_count": 13,
   "id": "a866f716",
   "metadata": {},
   "outputs": [],
   "source": [
    "from sklearn.metrics import confusion_matrix\n",
    "from sklearn.metrics import precision_score, recall_score, f1_score, accuracy_score\n",
    "import matplotlib.pyplot as plt"
   ]
  },
  {
   "cell_type": "code",
   "execution_count": 14,
   "id": "d7c5de1e",
   "metadata": {},
   "outputs": [
    {
     "data": {
      "image/png": "[encoded data removed]",
      "text/plain": [
       "<Figure size 360x360 with 1 Axes>"
      ]
     },
     "metadata": {
      "needs_background": "light"
     },
     "output_type": "display_data"
    }
   ],
   "source": [
    "conf_matrix = confusion_matrix(y_true=y_test, y_pred=y_pred)\n",
    "\n",
    "fig, ax = plt.subplots(figsize=(5, 5))\n",
    "ax.matshow(conf_matrix, cmap=plt.cm.Oranges, alpha=0.3)\n",
    "for i in range(conf_matrix.shape[0]):\n",
    "    for j in range(conf_matrix.shape[1]):\n",
    "        ax.text(x=j, y=i,s=conf_matrix[i, j], va='center', ha='center', size='xx-large')\n",
    " \n",
    "plt.xlabel('Predictions', fontsize=18)\n",
    "plt.ylabel('Actuals', fontsize=18)\n",
    "plt.title('Confusion Matrix', fontsize=18)\n",
    "plt.show()"
   ]
  },
  {
   "cell_type": "code",
   "execution_count": 15,
   "id": "4953b23c",
   "metadata": {},
   "outputs": [
    {
     "name": "stdout",
     "output_type": "stream",
     "text": [
      "Precision: 0.074\n",
      "Recall: 0.917\n",
      "Accuracy: 0.642\n",
      "F1 Score: 0.137\n"
     ]
    }
   ],
   "source": [
    "print('Precision: %.3f' % precision_score(y_test, y_pred))\n",
    "\n",
    "print('Recall: %.3f' % recall_score(y_test, y_pred))\n",
    "\n",
    "print('Accuracy: %.3f' % accuracy_score(y_test, y_pred))\n",
    "\n",
    "print('F1 Score: %.3f' % f1_score(y_test, y_pred))"
   ]
  },
  {
   "cell_type": "code",
   "execution_count": null,
   "id": "d91001f2",
   "metadata": {},
   "outputs": [],
   "source": []
  }
 ],
 "metadata": {
  "kernelspec": {
   "display_name": "Python 3",
   "language": "python",
   "name": "python3"
  },
  "language_info": {
   "codemirror_mode": {
    "name": "ipython",
    "version": 3
   },
   "file_extension": ".py",
   "mimetype": "text/x-python",
   "name": "python",
   "nbconvert_exporter": "python",
   "pygments_lexer": "ipython3",
   "version": "3.8.8"
  }
 },
 "nbformat": 4,
 "nbformat_minor": 5
}
