{
 "cells": [
  {
   "cell_type": "code",
   "execution_count": 1,
   "id": "e0a28712",
   "metadata": {},
   "outputs": [],
   "source": [
    "import pandas as pd\n",
    "import numpy as np\n",
    "from sklearn.linear_model import LogisticRegression\n",
    "from sklearn.model_selection import train_test_split\n",
    "pd.options.display.max_columns=1000"
   ]
  },
  {
   "cell_type": "code",
   "execution_count": 2,
   "id": "de847961",
   "metadata": {},
   "outputs": [],
   "source": [
    "df = pd.read_csv('C:/Users/marki/Desktop/SB Data Science BC/Springboard/Capstone2/lego/df.csv')"
   ]
  },
  {
   "cell_type": "code",
   "execution_count": 3,
   "id": "d05ec95b",
   "metadata": {},
   "outputs": [
    {
     "data": {
      "text/html": [
       "<div>\n",
       "<style scoped>\n",
       "    .dataframe tbody tr th:only-of-type {\n",
       "        vertical-align: middle;\n",
       "    }\n",
       "\n",
       "    .dataframe tbody tr th {\n",
       "        vertical-align: top;\n",
       "    }\n",
       "\n",
       "    .dataframe thead th {\n",
       "        text-align: right;\n",
       "    }\n",
       "</style>\n",
       "<table border=\"1\" class=\"dataframe\">\n",
       "  <thead>\n",
       "    <tr style=\"text-align: right;\">\n",
       "      <th></th>\n",
       "      <th>set_num</th>\n",
       "      <th>set_name</th>\n",
       "      <th>year</th>\n",
       "      <th>theme_id</th>\n",
       "      <th>num_parts</th>\n",
       "      <th>set_num_len</th>\n",
       "      <th>set_name_len</th>\n",
       "      <th>theme_name</th>\n",
       "      <th>is_city</th>\n",
       "      <th>id</th>\n",
       "      <th>part_num</th>\n",
       "      <th>color_id</th>\n",
       "      <th>quantity</th>\n",
       "      <th>color_name</th>\n",
       "      <th>part_name</th>\n",
       "      <th>is_trans</th>\n",
       "      <th>theme_name_len</th>\n",
       "      <th>part_num_len</th>\n",
       "      <th>color_name_len</th>\n",
       "      <th>part_name_len</th>\n",
       "      <th>is_ninjago</th>\n",
       "    </tr>\n",
       "  </thead>\n",
       "  <tbody>\n",
       "    <tr>\n",
       "      <th>0</th>\n",
       "      <td>00-1</td>\n",
       "      <td>Weetabix Castle</td>\n",
       "      <td>1970</td>\n",
       "      <td>414</td>\n",
       "      <td>471</td>\n",
       "      <td>4</td>\n",
       "      <td>15</td>\n",
       "      <td>Castle</td>\n",
       "      <td>0</td>\n",
       "      <td>5574.0</td>\n",
       "      <td>29c01</td>\n",
       "      <td>4</td>\n",
       "      <td>8</td>\n",
       "      <td>Red</td>\n",
       "      <td>Window 1 x 1 x 2 with Glass</td>\n",
       "      <td>0</td>\n",
       "      <td>6</td>\n",
       "      <td>5</td>\n",
       "      <td>3</td>\n",
       "      <td>27</td>\n",
       "      <td>0</td>\n",
       "    </tr>\n",
       "    <tr>\n",
       "      <th>1</th>\n",
       "      <td>00-1</td>\n",
       "      <td>Weetabix Castle</td>\n",
       "      <td>1970</td>\n",
       "      <td>414</td>\n",
       "      <td>471</td>\n",
       "      <td>4</td>\n",
       "      <td>15</td>\n",
       "      <td>Castle</td>\n",
       "      <td>0</td>\n",
       "      <td>5574.0</td>\n",
       "      <td>29c01</td>\n",
       "      <td>15</td>\n",
       "      <td>6</td>\n",
       "      <td>White</td>\n",
       "      <td>Window 1 x 1 x 2 with Glass</td>\n",
       "      <td>0</td>\n",
       "      <td>6</td>\n",
       "      <td>5</td>\n",
       "      <td>5</td>\n",
       "      <td>27</td>\n",
       "      <td>0</td>\n",
       "    </tr>\n",
       "    <tr>\n",
       "      <th>2</th>\n",
       "      <td>00-1</td>\n",
       "      <td>Weetabix Castle</td>\n",
       "      <td>1970</td>\n",
       "      <td>414</td>\n",
       "      <td>471</td>\n",
       "      <td>4</td>\n",
       "      <td>15</td>\n",
       "      <td>Castle</td>\n",
       "      <td>0</td>\n",
       "      <td>5574.0</td>\n",
       "      <td>3001a</td>\n",
       "      <td>15</td>\n",
       "      <td>25</td>\n",
       "      <td>White</td>\n",
       "      <td>Brick 2 x 4 without Cross Supports</td>\n",
       "      <td>0</td>\n",
       "      <td>6</td>\n",
       "      <td>5</td>\n",
       "      <td>5</td>\n",
       "      <td>34</td>\n",
       "      <td>0</td>\n",
       "    </tr>\n",
       "    <tr>\n",
       "      <th>3</th>\n",
       "      <td>00-1</td>\n",
       "      <td>Weetabix Castle</td>\n",
       "      <td>1970</td>\n",
       "      <td>414</td>\n",
       "      <td>471</td>\n",
       "      <td>4</td>\n",
       "      <td>15</td>\n",
       "      <td>Castle</td>\n",
       "      <td>0</td>\n",
       "      <td>5574.0</td>\n",
       "      <td>3001a</td>\n",
       "      <td>4</td>\n",
       "      <td>9</td>\n",
       "      <td>Red</td>\n",
       "      <td>Brick 2 x 4 without Cross Supports</td>\n",
       "      <td>0</td>\n",
       "      <td>6</td>\n",
       "      <td>5</td>\n",
       "      <td>3</td>\n",
       "      <td>34</td>\n",
       "      <td>0</td>\n",
       "    </tr>\n",
       "    <tr>\n",
       "      <th>4</th>\n",
       "      <td>00-1</td>\n",
       "      <td>Weetabix Castle</td>\n",
       "      <td>1970</td>\n",
       "      <td>414</td>\n",
       "      <td>471</td>\n",
       "      <td>4</td>\n",
       "      <td>15</td>\n",
       "      <td>Castle</td>\n",
       "      <td>0</td>\n",
       "      <td>5574.0</td>\n",
       "      <td>3001a</td>\n",
       "      <td>1</td>\n",
       "      <td>4</td>\n",
       "      <td>Blue</td>\n",
       "      <td>Brick 2 x 4 without Cross Supports</td>\n",
       "      <td>0</td>\n",
       "      <td>6</td>\n",
       "      <td>5</td>\n",
       "      <td>4</td>\n",
       "      <td>34</td>\n",
       "      <td>0</td>\n",
       "    </tr>\n",
       "  </tbody>\n",
       "</table>\n",
       "</div>"
      ],
      "text/plain": [
       "  set_num         set_name  year  theme_id  num_parts  set_num_len  \\\n",
       "0    00-1  Weetabix Castle  1970       414        471            4   \n",
       "1    00-1  Weetabix Castle  1970       414        471            4   \n",
       "2    00-1  Weetabix Castle  1970       414        471            4   \n",
       "3    00-1  Weetabix Castle  1970       414        471            4   \n",
       "4    00-1  Weetabix Castle  1970       414        471            4   \n",
       "\n",
       "   set_name_len theme_name  is_city      id part_num  color_id  quantity  \\\n",
       "0            15     Castle        0  5574.0    29c01         4         8   \n",
       "1            15     Castle        0  5574.0    29c01        15         6   \n",
       "2            15     Castle        0  5574.0    3001a        15        25   \n",
       "3            15     Castle        0  5574.0    3001a         4         9   \n",
       "4            15     Castle        0  5574.0    3001a         1         4   \n",
       "\n",
       "  color_name                           part_name  is_trans  theme_name_len  \\\n",
       "0        Red         Window 1 x 1 x 2 with Glass         0               6   \n",
       "1      White         Window 1 x 1 x 2 with Glass         0               6   \n",
       "2      White  Brick 2 x 4 without Cross Supports         0               6   \n",
       "3        Red  Brick 2 x 4 without Cross Supports         0               6   \n",
       "4       Blue  Brick 2 x 4 without Cross Supports         0               6   \n",
       "\n",
       "   part_num_len  color_name_len  part_name_len  is_ninjago  \n",
       "0             5               3             27           0  \n",
       "1             5               5             27           0  \n",
       "2             5               5             34           0  \n",
       "3             5               3             34           0  \n",
       "4             5               4             34           0  "
      ]
     },
     "execution_count": 3,
     "metadata": {},
     "output_type": "execute_result"
    }
   ],
   "source": [
    "df.head()"
   ]
  },
  {
   "cell_type": "code",
   "execution_count": 4,
   "id": "41c363a9",
   "metadata": {},
   "outputs": [
    {
     "data": {
      "text/plain": [
       "(580251, 21)"
      ]
     },
     "execution_count": 4,
     "metadata": {},
     "output_type": "execute_result"
    }
   ],
   "source": [
    "df.shape"
   ]
  },
  {
   "cell_type": "code",
   "execution_count": 5,
   "id": "5ac364d9",
   "metadata": {},
   "outputs": [],
   "source": [
    "df_cols = list(df.columns)"
   ]
  },
  {
   "cell_type": "code",
   "execution_count": 6,
   "id": "dd2e8cd2",
   "metadata": {},
   "outputs": [
    {
     "data": {
      "text/plain": [
       "['set_num',\n",
       " 'year',\n",
       " 'theme_id',\n",
       " 'num_parts',\n",
       " 'set_num_len',\n",
       " 'set_name_len',\n",
       " 'theme_name',\n",
       " 'is_city',\n",
       " 'id',\n",
       " 'part_num',\n",
       " 'color_id',\n",
       " 'quantity',\n",
       " 'color_name',\n",
       " 'part_name',\n",
       " 'is_trans',\n",
       " 'theme_name_len',\n",
       " 'part_num_len',\n",
       " 'color_name_len',\n",
       " 'part_name_len',\n",
       " 'is_ninjago']"
      ]
     },
     "execution_count": 6,
     "metadata": {},
     "output_type": "execute_result"
    }
   ],
   "source": [
    "df_cols.remove('set_name')\n",
    "df_cols"
   ]
  },
  {
   "cell_type": "code",
   "execution_count": 7,
   "id": "f60c874e",
   "metadata": {},
   "outputs": [
    {
     "data": {
      "text/plain": [
       "['set_num',\n",
       " 'year',\n",
       " 'theme_id',\n",
       " 'num_parts',\n",
       " 'set_num_len',\n",
       " 'set_name_len',\n",
       " 'is_city',\n",
       " 'id',\n",
       " 'part_num',\n",
       " 'color_id',\n",
       " 'quantity',\n",
       " 'color_name',\n",
       " 'part_name',\n",
       " 'is_trans',\n",
       " 'theme_name_len',\n",
       " 'part_num_len',\n",
       " 'color_name_len',\n",
       " 'part_name_len',\n",
       " 'is_ninjago']"
      ]
     },
     "execution_count": 7,
     "metadata": {},
     "output_type": "execute_result"
    }
   ],
   "source": [
    "df_cols.remove('theme_name')\n",
    "df_cols"
   ]
  },
  {
   "cell_type": "code",
   "execution_count": 8,
   "id": "a398dd51",
   "metadata": {},
   "outputs": [],
   "source": [
    "df_cols.remove('is_city')"
   ]
  },
  {
   "cell_type": "code",
   "execution_count": 9,
   "id": "f99fac66",
   "metadata": {},
   "outputs": [],
   "source": [
    "df_cols.remove('id')"
   ]
  },
  {
   "cell_type": "code",
   "execution_count": 10,
   "id": "91dd97ef",
   "metadata": {},
   "outputs": [],
   "source": [
    "df_cols.remove('part_num')"
   ]
  },
  {
   "cell_type": "code",
   "execution_count": 11,
   "id": "3907d22f",
   "metadata": {},
   "outputs": [],
   "source": [
    "df_cols.remove('color_name')"
   ]
  },
  {
   "cell_type": "code",
   "execution_count": 12,
   "id": "fe1a04e2",
   "metadata": {},
   "outputs": [],
   "source": [
    "df_cols.remove('part_name')"
   ]
  },
  {
   "cell_type": "code",
   "execution_count": 14,
   "id": "edf574f2",
   "metadata": {},
   "outputs": [
    {
     "name": "stdout",
     "output_type": "stream",
     "text": [
      "set_num\n",
      "year\n",
      "theme_id\n",
      "num_parts\n",
      "set_num_len\n",
      "set_name_len\n",
      "color_id\n",
      "quantity\n",
      "is_trans\n",
      "theme_name_len\n",
      "part_num_len\n",
      "color_name_len\n",
      "part_name_len\n",
      "is_ninjago\n"
     ]
    }
   ],
   "source": [
    "for name in df_cols:\n",
    "    print(name)"
   ]
  },
  {
   "cell_type": "code",
   "execution_count": 15,
   "id": "f87febeb",
   "metadata": {},
   "outputs": [
    {
     "name": "stdout",
     "output_type": "stream",
     "text": [
      "0 set_num\n",
      "1 year\n",
      "2 theme_id\n",
      "3 num_parts\n",
      "4 set_num_len\n",
      "5 set_name_len\n",
      "6 color_id\n",
      "7 quantity\n",
      "8 is_trans\n",
      "9 theme_name_len\n",
      "10 part_num_len\n",
      "11 color_name_len\n",
      "12 part_name_len\n",
      "13 is_ninjago\n"
     ]
    }
   ],
   "source": [
    "for i, name in enumerate(df_cols):\n",
    "    print(i,name)"
   ]
  },
  {
   "cell_type": "code",
   "execution_count": 16,
   "id": "232d87a3",
   "metadata": {},
   "outputs": [
    {
     "name": "stdout",
     "output_type": "stream",
     "text": [
      "Empty DataFrame\n",
      "Columns: []\n",
      "Index: [0, 1, 2, 3, 4]\n",
      "  set_num\n",
      "0    00-1\n",
      "1    00-1\n",
      "2    00-1\n",
      "3    00-1\n",
      "4    00-1\n",
      "  set_num  year\n",
      "0    00-1  1970\n",
      "1    00-1  1970\n",
      "2    00-1  1970\n",
      "3    00-1  1970\n",
      "4    00-1  1970\n",
      "  set_num  year  theme_id\n",
      "0    00-1  1970       414\n",
      "1    00-1  1970       414\n",
      "2    00-1  1970       414\n",
      "3    00-1  1970       414\n",
      "4    00-1  1970       414\n",
      "  set_num  year  theme_id  num_parts\n",
      "0    00-1  1970       414        471\n",
      "1    00-1  1970       414        471\n",
      "2    00-1  1970       414        471\n",
      "3    00-1  1970       414        471\n",
      "4    00-1  1970       414        471\n",
      "  set_num  year  theme_id  num_parts  set_num_len\n",
      "0    00-1  1970       414        471            4\n",
      "1    00-1  1970       414        471            4\n",
      "2    00-1  1970       414        471            4\n",
      "3    00-1  1970       414        471            4\n",
      "4    00-1  1970       414        471            4\n",
      "  set_num  year  theme_id  num_parts  set_num_len  set_name_len\n",
      "0    00-1  1970       414        471            4            15\n",
      "1    00-1  1970       414        471            4            15\n",
      "2    00-1  1970       414        471            4            15\n",
      "3    00-1  1970       414        471            4            15\n",
      "4    00-1  1970       414        471            4            15\n",
      "  set_num  year  theme_id  num_parts  set_num_len  set_name_len  color_id\n",
      "0    00-1  1970       414        471            4            15         4\n",
      "1    00-1  1970       414        471            4            15        15\n",
      "2    00-1  1970       414        471            4            15        15\n",
      "3    00-1  1970       414        471            4            15         4\n",
      "4    00-1  1970       414        471            4            15         1\n",
      "  set_num  year  theme_id  num_parts  set_num_len  set_name_len  color_id  \\\n",
      "0    00-1  1970       414        471            4            15         4   \n",
      "1    00-1  1970       414        471            4            15        15   \n",
      "2    00-1  1970       414        471            4            15        15   \n",
      "3    00-1  1970       414        471            4            15         4   \n",
      "4    00-1  1970       414        471            4            15         1   \n",
      "\n",
      "   quantity  \n",
      "0         8  \n",
      "1         6  \n",
      "2        25  \n",
      "3         9  \n",
      "4         4  \n",
      "  set_num  year  theme_id  num_parts  set_num_len  set_name_len  color_id  \\\n",
      "0    00-1  1970       414        471            4            15         4   \n",
      "1    00-1  1970       414        471            4            15        15   \n",
      "2    00-1  1970       414        471            4            15        15   \n",
      "3    00-1  1970       414        471            4            15         4   \n",
      "4    00-1  1970       414        471            4            15         1   \n",
      "\n",
      "   quantity  is_trans  \n",
      "0         8         0  \n",
      "1         6         0  \n",
      "2        25         0  \n",
      "3         9         0  \n",
      "4         4         0  \n",
      "  set_num  year  theme_id  num_parts  set_num_len  set_name_len  color_id  \\\n",
      "0    00-1  1970       414        471            4            15         4   \n",
      "1    00-1  1970       414        471            4            15        15   \n",
      "2    00-1  1970       414        471            4            15        15   \n",
      "3    00-1  1970       414        471            4            15         4   \n",
      "4    00-1  1970       414        471            4            15         1   \n",
      "\n",
      "   quantity  is_trans  theme_name_len  \n",
      "0         8         0               6  \n",
      "1         6         0               6  \n",
      "2        25         0               6  \n",
      "3         9         0               6  \n",
      "4         4         0               6  \n",
      "  set_num  year  theme_id  num_parts  set_num_len  set_name_len  color_id  \\\n",
      "0    00-1  1970       414        471            4            15         4   \n",
      "1    00-1  1970       414        471            4            15        15   \n",
      "2    00-1  1970       414        471            4            15        15   \n",
      "3    00-1  1970       414        471            4            15         4   \n",
      "4    00-1  1970       414        471            4            15         1   \n",
      "\n",
      "   quantity  is_trans  theme_name_len  part_num_len  \n",
      "0         8         0               6             5  \n",
      "1         6         0               6             5  \n",
      "2        25         0               6             5  \n",
      "3         9         0               6             5  \n",
      "4         4         0               6             5  \n",
      "  set_num  year  theme_id  num_parts  set_num_len  set_name_len  color_id  \\\n",
      "0    00-1  1970       414        471            4            15         4   \n",
      "1    00-1  1970       414        471            4            15        15   \n",
      "2    00-1  1970       414        471            4            15        15   \n",
      "3    00-1  1970       414        471            4            15         4   \n",
      "4    00-1  1970       414        471            4            15         1   \n",
      "\n",
      "   quantity  is_trans  theme_name_len  part_num_len  color_name_len  \n",
      "0         8         0               6             5               3  \n",
      "1         6         0               6             5               5  \n",
      "2        25         0               6             5               5  \n",
      "3         9         0               6             5               3  \n",
      "4         4         0               6             5               4  \n",
      "  set_num  year  theme_id  num_parts  set_num_len  set_name_len  color_id  \\\n",
      "0    00-1  1970       414        471            4            15         4   \n",
      "1    00-1  1970       414        471            4            15        15   \n",
      "2    00-1  1970       414        471            4            15        15   \n",
      "3    00-1  1970       414        471            4            15         4   \n",
      "4    00-1  1970       414        471            4            15         1   \n",
      "\n",
      "   quantity  is_trans  theme_name_len  part_num_len  color_name_len  \\\n",
      "0         8         0               6             5               3   \n",
      "1         6         0               6             5               5   \n",
      "2        25         0               6             5               5   \n",
      "3         9         0               6             5               3   \n",
      "4         4         0               6             5               4   \n",
      "\n",
      "   part_name_len  \n",
      "0             27  \n",
      "1             27  \n",
      "2             34  \n",
      "3             34  \n",
      "4             34  \n"
     ]
    }
   ],
   "source": [
    "for i, name in enumerate(df_cols):\n",
    "    feature_names = df_cols[:i]\n",
    "    print(df[feature_names].head())"
   ]
  },
  {
   "cell_type": "code",
   "execution_count": 17,
   "id": "3ff6eff6",
   "metadata": {},
   "outputs": [
    {
     "data": {
      "text/plain": [
       "0.8996279196416723"
      ]
     },
     "execution_count": 17,
     "metadata": {},
     "output_type": "execute_result"
    }
   ],
   "source": [
    "is_train = np.random.rand(df.shape[0]) > 0.1\n",
    "is_train.sum() / df.shape[0]"
   ]
  },
  {
   "cell_type": "code",
   "execution_count": 18,
   "id": "e3755c3f",
   "metadata": {},
   "outputs": [
    {
     "data": {
      "text/plain": [
       "0.029083965387392698"
      ]
     },
     "execution_count": 18,
     "metadata": {},
     "output_type": "execute_result"
    }
   ],
   "source": [
    "is_ninjago = df['is_ninjago'].sum() / df.shape[0]\n",
    "is_ninjago"
   ]
  },
  {
   "cell_type": "code",
   "execution_count": null,
   "id": "549c7b7f",
   "metadata": {},
   "outputs": [],
   "source": []
  }
 ],
 "metadata": {
  "kernelspec": {
   "display_name": "Python 3",
   "language": "python",
   "name": "python3"
  },
  "language_info": {
   "codemirror_mode": {
    "name": "ipython",
    "version": 3
   },
   "file_extension": ".py",
   "mimetype": "text/x-python",
   "name": "python",
   "nbconvert_exporter": "python",
   "pygments_lexer": "ipython3",
   "version": "3.8.8"
  }
 },
 "nbformat": 4,
 "nbformat_minor": 5
}
